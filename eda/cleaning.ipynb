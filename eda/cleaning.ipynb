{
 "cells": [
  {
   "cell_type": "markdown",
   "id": "78d8cbc1",
   "metadata": {},
   "source": [
    "# Cleaning data"
   ]
  },
  {
   "cell_type": "markdown",
   "id": "abf687a8",
   "metadata": {},
   "source": [
    "# 1. Inittial configuration"
   ]
  },
  {
   "cell_type": "code",
   "execution_count": 1,
   "id": "37de0bc0",
   "metadata": {},
   "outputs": [],
   "source": [
    "import pandas as pd\n",
    "import numpy as np\n",
    "import matplotlib.pyplot as plt\n",
    "import seaborn as sns\n",
    "from scipy import stats\n",
    "import missingno as msno\n",
    "from sklearn.model_selection import train_test_split\n",
    "from sklearn.linear_model import LinearRegression\n",
    "from sklearn.metrics import mean_squared_error, r2_score\n",
    "import os\n",
    "import re"
   ]
  },
  {
   "cell_type": "markdown",
   "id": "7f6a0e6f",
   "metadata": {},
   "source": [
    "### Setting displays"
   ]
  },
  {
   "cell_type": "code",
   "execution_count": 2,
   "id": "6500d1fa",
   "metadata": {},
   "outputs": [],
   "source": [
    "pd.set_option('display.max_rows', 100) \n",
    "pd.set_option('display.max_columns', None) \n",
    "# pd.set_option('display.max_columns', None)  # Show all columns\n",
    "# pd.set_option('display.max_rows', None)     # Show all rows\n",
    "# pd.set_option('display.max_colwidth', None) # Show entire content of each column\n",
    "pd.set_option('display.width', None)        # No limit on display width\n",
    "pd.set_option('display.expand_frame_repr', False)  # Prevent wrapping"
   ]
  },
  {
   "cell_type": "markdown",
   "id": "793508e9",
   "metadata": {},
   "source": [
    "### Setting paths"
   ]
  },
  {
   "cell_type": "code",
   "execution_count": 3,
   "id": "8dc21f4b",
   "metadata": {},
   "outputs": [],
   "source": [
    "# Setting paths\n",
    "current_dir = os.getcwd()  # Use os.getcwd() to get the current working directory\n",
    "parent_dir = os.path.dirname(current_dir)\n",
    "data_dir = os.path.join(parent_dir, \"data\")\n",
    "file_path = os.path.join(data_dir, \"\")\n",
    "cars_csv_path = os.path.join(data_dir, \"raw_data.csv\")\n",
    "clean_data_car_csv_path = os.path.join(data_dir, \"clean_data_car.csv\")\n",
    "train_csv_path = os.path.join(data_dir, \"train_csv.csv\")\n",
    "test_csv_path = os.path.join(data_dir, \"test_csv.csv\")"
   ]
  },
  {
   "cell_type": "markdown",
   "id": "144f0d64",
   "metadata": {},
   "source": [
    "# 2. Cleaning\n"
   ]
  },
  {
   "cell_type": "markdown",
   "id": "db3c99c5",
   "metadata": {},
   "source": [
    "### 2.1 Opening file\n",
    "- reading raw data for cleaning"
   ]
  },
  {
   "cell_type": "code",
   "execution_count": 4,
   "id": "558eeb4e",
   "metadata": {},
   "outputs": [],
   "source": [
    "df_car = pd.read_csv(cars_csv_path)"
   ]
  },
  {
   "cell_type": "code",
   "execution_count": 5,
   "id": "e6245a5b",
   "metadata": {},
   "outputs": [
    {
     "data": {
      "application/vnd.microsoft.datawrangler.viewer.v0+json": {
       "columns": [
        {
         "name": "index",
         "rawType": "int64",
         "type": "integer"
        },
        {
         "name": "id",
         "rawType": "int64",
         "type": "integer"
        },
        {
         "name": "brand",
         "rawType": "object",
         "type": "string"
        },
        {
         "name": "model",
         "rawType": "object",
         "type": "string"
        },
        {
         "name": "model_year",
         "rawType": "int64",
         "type": "integer"
        },
        {
         "name": "milage",
         "rawType": "int64",
         "type": "integer"
        },
        {
         "name": "fuel_type",
         "rawType": "object",
         "type": "string"
        },
        {
         "name": "engine",
         "rawType": "object",
         "type": "string"
        },
        {
         "name": "transmission",
         "rawType": "object",
         "type": "string"
        },
        {
         "name": "ext_col",
         "rawType": "object",
         "type": "string"
        },
        {
         "name": "int_col",
         "rawType": "object",
         "type": "string"
        },
        {
         "name": "accident",
         "rawType": "object",
         "type": "string"
        },
        {
         "name": "clean_title",
         "rawType": "object",
         "type": "string"
        },
        {
         "name": "price",
         "rawType": "int64",
         "type": "integer"
        }
       ],
       "conversionMethod": "pd.DataFrame",
       "ref": "12bfcba6-daf4-4908-b23a-51cdd4080e47",
       "rows": [
        [
         "103968",
         "103968",
         "RAM",
         "3500 Laramie",
         "2013",
         "67874",
         "Diesel",
         "6.7L I6 24V DDI OHV Turbo Diesel",
         "6-Speed Automatic",
         "Delmonico Red Pearlcoat",
         "Black",
         "None reported",
         "Yes",
         "12499"
        ],
        [
         "179435",
         "179435",
         "Ford",
         "F-150 Platinum",
         "2018",
         "53782",
         "Gasoline",
         "325.0HP 2.7L V6 Cylinder Engine Gasoline Fuel",
         "10-Speed A/T",
         "Blue",
         "Black",
         "At least 1 accident or damage reported",
         "Yes",
         "32300"
        ],
        [
         "171416",
         "171416",
         "BMW",
         "650 Gran Coupe i xDrive",
         "2016",
         "76009",
         "Gasoline",
         "445.0HP 4.4L 8 Cylinder Engine Gasoline Fuel",
         "8-Speed A/T",
         "Black",
         "Beige",
         "None reported",
         "Yes",
         "24950"
        ],
        [
         "92614",
         "92614",
         "Audi",
         "TT 2.0T Premium",
         "2012",
         "89987",
         "Gasoline",
         "211.0HP 2.0L 4 Cylinder Engine Gasoline Fuel",
         "6-Speed M/T",
         "Black",
         "Black",
         "None reported",
         "Yes",
         "12000"
        ],
        [
         "8192",
         "8192",
         "Mercedes-Benz",
         "E-Class E 350 4MATIC",
         "2015",
         "92984",
         "Gasoline",
         "302.0HP 3.5L V6 Cylinder Engine Gasoline Fuel",
         "7-Speed A/T",
         "White",
         "Gold",
         "None reported",
         "Yes",
         "18700"
        ]
       ],
       "shape": {
        "columns": 13,
        "rows": 5
       }
      },
      "text/html": [
       "<div>\n",
       "<style scoped>\n",
       "    .dataframe tbody tr th:only-of-type {\n",
       "        vertical-align: middle;\n",
       "    }\n",
       "\n",
       "    .dataframe tbody tr th {\n",
       "        vertical-align: top;\n",
       "    }\n",
       "\n",
       "    .dataframe thead th {\n",
       "        text-align: right;\n",
       "    }\n",
       "</style>\n",
       "<table border=\"1\" class=\"dataframe\">\n",
       "  <thead>\n",
       "    <tr style=\"text-align: right;\">\n",
       "      <th></th>\n",
       "      <th>id</th>\n",
       "      <th>brand</th>\n",
       "      <th>model</th>\n",
       "      <th>model_year</th>\n",
       "      <th>milage</th>\n",
       "      <th>fuel_type</th>\n",
       "      <th>engine</th>\n",
       "      <th>transmission</th>\n",
       "      <th>ext_col</th>\n",
       "      <th>int_col</th>\n",
       "      <th>accident</th>\n",
       "      <th>clean_title</th>\n",
       "      <th>price</th>\n",
       "    </tr>\n",
       "  </thead>\n",
       "  <tbody>\n",
       "    <tr>\n",
       "      <th>103968</th>\n",
       "      <td>103968</td>\n",
       "      <td>RAM</td>\n",
       "      <td>3500 Laramie</td>\n",
       "      <td>2013</td>\n",
       "      <td>67874</td>\n",
       "      <td>Diesel</td>\n",
       "      <td>6.7L I6 24V DDI OHV Turbo Diesel</td>\n",
       "      <td>6-Speed Automatic</td>\n",
       "      <td>Delmonico Red Pearlcoat</td>\n",
       "      <td>Black</td>\n",
       "      <td>None reported</td>\n",
       "      <td>Yes</td>\n",
       "      <td>12499</td>\n",
       "    </tr>\n",
       "    <tr>\n",
       "      <th>179435</th>\n",
       "      <td>179435</td>\n",
       "      <td>Ford</td>\n",
       "      <td>F-150 Platinum</td>\n",
       "      <td>2018</td>\n",
       "      <td>53782</td>\n",
       "      <td>Gasoline</td>\n",
       "      <td>325.0HP 2.7L V6 Cylinder Engine Gasoline Fuel</td>\n",
       "      <td>10-Speed A/T</td>\n",
       "      <td>Blue</td>\n",
       "      <td>Black</td>\n",
       "      <td>At least 1 accident or damage reported</td>\n",
       "      <td>Yes</td>\n",
       "      <td>32300</td>\n",
       "    </tr>\n",
       "    <tr>\n",
       "      <th>171416</th>\n",
       "      <td>171416</td>\n",
       "      <td>BMW</td>\n",
       "      <td>650 Gran Coupe i xDrive</td>\n",
       "      <td>2016</td>\n",
       "      <td>76009</td>\n",
       "      <td>Gasoline</td>\n",
       "      <td>445.0HP 4.4L 8 Cylinder Engine Gasoline Fuel</td>\n",
       "      <td>8-Speed A/T</td>\n",
       "      <td>Black</td>\n",
       "      <td>Beige</td>\n",
       "      <td>None reported</td>\n",
       "      <td>Yes</td>\n",
       "      <td>24950</td>\n",
       "    </tr>\n",
       "    <tr>\n",
       "      <th>92614</th>\n",
       "      <td>92614</td>\n",
       "      <td>Audi</td>\n",
       "      <td>TT 2.0T Premium</td>\n",
       "      <td>2012</td>\n",
       "      <td>89987</td>\n",
       "      <td>Gasoline</td>\n",
       "      <td>211.0HP 2.0L 4 Cylinder Engine Gasoline Fuel</td>\n",
       "      <td>6-Speed M/T</td>\n",
       "      <td>Black</td>\n",
       "      <td>Black</td>\n",
       "      <td>None reported</td>\n",
       "      <td>Yes</td>\n",
       "      <td>12000</td>\n",
       "    </tr>\n",
       "    <tr>\n",
       "      <th>8192</th>\n",
       "      <td>8192</td>\n",
       "      <td>Mercedes-Benz</td>\n",
       "      <td>E-Class E 350 4MATIC</td>\n",
       "      <td>2015</td>\n",
       "      <td>92984</td>\n",
       "      <td>Gasoline</td>\n",
       "      <td>302.0HP 3.5L V6 Cylinder Engine Gasoline Fuel</td>\n",
       "      <td>7-Speed A/T</td>\n",
       "      <td>White</td>\n",
       "      <td>Gold</td>\n",
       "      <td>None reported</td>\n",
       "      <td>Yes</td>\n",
       "      <td>18700</td>\n",
       "    </tr>\n",
       "  </tbody>\n",
       "</table>\n",
       "</div>"
      ],
      "text/plain": [
       "            id          brand                    model  model_year  milage fuel_type                                         engine       transmission                  ext_col int_col                                accident clean_title  price\n",
       "103968  103968            RAM             3500 Laramie        2013   67874    Diesel               6.7L I6 24V DDI OHV Turbo Diesel  6-Speed Automatic  Delmonico Red Pearlcoat   Black                           None reported         Yes  12499\n",
       "179435  179435           Ford           F-150 Platinum        2018   53782  Gasoline  325.0HP 2.7L V6 Cylinder Engine Gasoline Fuel       10-Speed A/T                     Blue   Black  At least 1 accident or damage reported         Yes  32300\n",
       "171416  171416            BMW  650 Gran Coupe i xDrive        2016   76009  Gasoline   445.0HP 4.4L 8 Cylinder Engine Gasoline Fuel        8-Speed A/T                    Black   Beige                           None reported         Yes  24950\n",
       "92614    92614           Audi          TT 2.0T Premium        2012   89987  Gasoline   211.0HP 2.0L 4 Cylinder Engine Gasoline Fuel        6-Speed M/T                    Black   Black                           None reported         Yes  12000\n",
       "8192      8192  Mercedes-Benz     E-Class E 350 4MATIC        2015   92984  Gasoline  302.0HP 3.5L V6 Cylinder Engine Gasoline Fuel        7-Speed A/T                    White    Gold                           None reported         Yes  18700"
      ]
     },
     "execution_count": 5,
     "metadata": {},
     "output_type": "execute_result"
    }
   ],
   "source": [
    "df_car.sample(5)"
   ]
  },
  {
   "cell_type": "code",
   "execution_count": 6,
   "id": "0de63d2f",
   "metadata": {},
   "outputs": [
    {
     "name": "stdout",
     "output_type": "stream",
     "text": [
      "<class 'pandas.core.frame.DataFrame'>\n",
      "RangeIndex: 188533 entries, 0 to 188532\n",
      "Data columns (total 13 columns):\n",
      " #   Column        Non-Null Count   Dtype \n",
      "---  ------        --------------   ----- \n",
      " 0   id            188533 non-null  int64 \n",
      " 1   brand         188533 non-null  object\n",
      " 2   model         188533 non-null  object\n",
      " 3   model_year    188533 non-null  int64 \n",
      " 4   milage        188533 non-null  int64 \n",
      " 5   fuel_type     183450 non-null  object\n",
      " 6   engine        188533 non-null  object\n",
      " 7   transmission  188533 non-null  object\n",
      " 8   ext_col       188533 non-null  object\n",
      " 9   int_col       188533 non-null  object\n",
      " 10  accident      186081 non-null  object\n",
      " 11  clean_title   167114 non-null  object\n",
      " 12  price         188533 non-null  int64 \n",
      "dtypes: int64(4), object(9)\n",
      "memory usage: 18.7+ MB\n"
     ]
    }
   ],
   "source": [
    "df_car.info()"
   ]
  },
  {
   "cell_type": "code",
   "execution_count": 7,
   "id": "fcf762e3",
   "metadata": {},
   "outputs": [
    {
     "data": {
      "text/plain": [
       "(188533, 13)"
      ]
     },
     "execution_count": 7,
     "metadata": {},
     "output_type": "execute_result"
    }
   ],
   "source": [
    "df_car.shape"
   ]
  },
  {
   "cell_type": "markdown",
   "id": "c5c4f544",
   "metadata": {},
   "source": [
    "### <span style=\"color:#fef377;\"> Inspecting columns </span>"
   ]
  },
  {
   "cell_type": "markdown",
   "id": "fabdb610",
   "metadata": {},
   "source": [
    "<span style=\"color:#ffc509;\"> [\"clean_title\"] </span>\n",
    "- unique value: \"yes\"\n",
    "- column will be eliminated\n",
    "\n",
    "It seems this was done by the original owner of the df to check something but since the only value there is, is \"yes\" it can be eliminated since it does not bring any value"
   ]
  },
  {
   "cell_type": "code",
   "execution_count": 8,
   "id": "8c4ea4ae",
   "metadata": {},
   "outputs": [],
   "source": [
    "df_car[\"clean_title\"].nunique() # 1\n",
    "df_car[\"clean_title\"].unique() # ['Yes', nan]\n",
    "df_car[\"clean_title\"].isin([\"NaN\"]).sum() # np.int64(0)\n",
    "df_car = df_car.drop(\"clean_title\", axis = 1)"
   ]
  },
  {
   "cell_type": "markdown",
   "id": "376e0b01",
   "metadata": {},
   "source": [
    "<span style=\"color:#ffc509;\"> [\"model_year\"] </span>\n",
    "- All values have 4 digits\n",
    "- min value: 1974\n",
    "- max value: 2024\n",
    "- type of value is float, this will be change for int"
   ]
  },
  {
   "cell_type": "code",
   "execution_count": 9,
   "id": "2d264cff",
   "metadata": {},
   "outputs": [
    {
     "data": {
      "text/plain": [
       "dtype('int64')"
      ]
     },
     "execution_count": 9,
     "metadata": {},
     "output_type": "execute_result"
    }
   ],
   "source": [
    "df_car[\"model_year\"].astype(str).str.len()[df_car[\"model_year\"].astype(str).str.len() > 4]\n",
    "df_car[\"model_year\"].astype(str).str.len()[df_car[\"model_year\"].astype(str).str.len() < 4]\n",
    "df_car[\"model_year\"].describe()\n",
    "df_car[\"model_year\"].isin([\"NaN\"]).sum() # np.int64(0)\n",
    "df_car['model_year'] = df_car['model_year'].astype(int)\n",
    "df_car['model_year'].dtype"
   ]
  },
  {
   "cell_type": "markdown",
   "id": "2d246047",
   "metadata": {},
   "source": [
    "<span style=\"color:#ffc509;\">  [\"fuel_type\"] </span>\n",
    "- 3 % of null"
   ]
  },
  {
   "cell_type": "code",
   "execution_count": 10,
   "id": "c9bdec88",
   "metadata": {},
   "outputs": [
    {
     "data": {
      "text/plain": [
       "np.float64(3.0)"
      ]
     },
     "execution_count": 10,
     "metadata": {},
     "output_type": "execute_result"
    }
   ],
   "source": [
    "df_car[\"fuel_type\"].nunique() # 7\n",
    "df_car[\"fuel_type\"].unique() # ['Gasoline', 'E85 Flex Fuel', nan, 'Hybrid', 'Diesel','Plug-In Hybrid', '–', 'not supported']\n",
    "# ---------------------------------------------------------------------------------------------------------------------------\n",
    "# The not valid values will be change for None so it can be analize for inferring\n",
    "to_replace = [np.nan, '–', 'not supported']\n",
    "df_car['fuel_type'] = df_car['fuel_type'].replace(to_replace, None)\n",
    "# ---------------------------------------------------------------------------------------------------------------------------\n",
    "percentage_null = (df_car['fuel_type'].isnull().sum() / len(df_car[\"fuel_type\"])).round(2) * 100\n",
    "percentage_null"
   ]
  },
  {
   "cell_type": "markdown",
   "id": "91207b9a",
   "metadata": {},
   "source": [
    "<span style=\"color:#ffc509;\">  [\"transmission\"] </span>\n",
    "\n",
    "- 0 nulls but \n",
    "- 52 unique values\n",
    "\n",
    "2 NEW COLUMNS will be made in order to see better if they are automatic, manual, both and the number of transmissiones"
   ]
  },
  {
   "cell_type": "code",
   "execution_count": 11,
   "id": "c36c4a6a",
   "metadata": {},
   "outputs": [
    {
     "data": {
      "application/vnd.microsoft.datawrangler.viewer.v0+json": {
       "columns": [
        {
         "name": "index",
         "rawType": "int64",
         "type": "integer"
        },
        {
         "name": "id",
         "rawType": "int64",
         "type": "integer"
        },
        {
         "name": "brand",
         "rawType": "object",
         "type": "string"
        },
        {
         "name": "model",
         "rawType": "object",
         "type": "string"
        },
        {
         "name": "model_year",
         "rawType": "int64",
         "type": "integer"
        },
        {
         "name": "milage",
         "rawType": "int64",
         "type": "integer"
        },
        {
         "name": "fuel_type",
         "rawType": "object",
         "type": "string"
        },
        {
         "name": "engine",
         "rawType": "object",
         "type": "string"
        },
        {
         "name": "transmission",
         "rawType": "object",
         "type": "string"
        },
        {
         "name": "ext_col",
         "rawType": "object",
         "type": "string"
        },
        {
         "name": "int_col",
         "rawType": "object",
         "type": "string"
        },
        {
         "name": "accident",
         "rawType": "object",
         "type": "unknown"
        },
        {
         "name": "price",
         "rawType": "int64",
         "type": "integer"
        }
       ],
       "conversionMethod": "pd.DataFrame",
       "ref": "a6b0150c-0d35-4616-b808-4a3e2224ae4e",
       "rows": [
        [
         "20510",
         "20510",
         "BMW",
         "435 i",
         "2014",
         "85385",
         "Gasoline",
         "300.0HP 3.0L Straight 6 Cylinder Engine Gasoline Fuel",
         "6-Speed",
         "Black",
         "Beige",
         "None reported",
         "15499"
        ],
        [
         "42067",
         "42067",
         "Toyota",
         "Tacoma TRD Pro",
         "2019",
         "40698",
         "Gasoline",
         "3.5L V6 24V PDI DOHC",
         "6-Speed",
         "Super White",
         "Black",
         "None reported",
         "34955"
        ],
        [
         "43398",
         "43398",
         "Toyota",
         "Tacoma TRD Pro",
         "2018",
         "48156",
         "Gasoline",
         "3.5L V6 24V PDI DOHC",
         "6-Speed",
         "Midnight Black Metallic",
         "Black/Gun Metal",
         "None reported",
         "46750"
        ],
        [
         "49841",
         "49841",
         "Toyota",
         "Tacoma TRD Pro",
         "2018",
         "39948",
         "Gasoline",
         "3.5L V6 24V PDI DOHC",
         "6-Speed",
         "Super White",
         "Graphite",
         "None reported",
         "26691"
        ],
        [
         "56243",
         "56243",
         "Toyota",
         "Tacoma TRD Sport",
         "2021",
         "41500",
         "Gasoline",
         "3.5L V6 24V PDI DOHC",
         "6-Speed",
         "Gray",
         "Black",
         "None reported",
         "46000"
        ],
        [
         "58020",
         "58020",
         "Toyota",
         "Tacoma TRD Pro",
         "2020",
         "26540",
         "Gasoline",
         "3.5L V6 24V PDI DOHC",
         "6-Speed",
         "Blue",
         "Black",
         "None reported",
         "38995"
        ],
        [
         "67455",
         "67455",
         "Toyota",
         "Tacoma TRD Pro",
         "2021",
         "25083",
         "Gasoline",
         "3.5L V6 24V PDI DOHC",
         "6-Speed",
         "–",
         "Black",
         "None reported",
         "38781"
        ],
        [
         "68572",
         "68572",
         "GMC",
         "Acadia SLE-1",
         "2022",
         "13700",
         "Gasoline",
         "228.0HP 2.4L 4 Cylinder Engine Gasoline Fuel",
         "6-Speed",
         "Black",
         "Black",
         "None reported",
         "55329"
        ],
        [
         "73279",
         "73279",
         "Toyota",
         "Tacoma TRD Pro",
         "2020",
         "26468",
         "Gasoline",
         "3.5L V6 24V PDI DOHC",
         "6-Speed",
         "Super White",
         "Black",
         "None reported",
         "39985"
        ],
        [
         "73469",
         "73469",
         "Toyota",
         "Tacoma TRD Sport",
         "2020",
         "53433",
         "Gasoline",
         "3.5L V6 24V PDI DOHC",
         "6-Speed",
         "Black",
         "Black",
         "None reported",
         "28495"
        ],
        [
         "84300",
         "84300",
         "Lexus",
         "LS 460 Crafted Line",
         "2016",
         "137483",
         "Gasoline",
         "378.0HP 4.6L 8 Cylinder Engine Gasoline Fuel",
         "6-Speed",
         "Silver",
         "White",
         "None reported",
         "10000"
        ],
        [
         "89349",
         "89349",
         "Toyota",
         "Tacoma TRD Pro",
         "2016",
         "84129",
         "Gasoline",
         "3.5L V6 24V PDI DOHC",
         "6-Speed",
         "Black",
         "Black",
         null,
         "22495"
        ],
        [
         "96061",
         "96061",
         "Toyota",
         "Tacoma TRD Pro",
         "2018",
         "28039",
         "Gasoline",
         "3.5L V6 24V PDI DOHC",
         "6-Speed",
         "White",
         "Black",
         "None reported",
         "38900"
        ],
        [
         "100773",
         "100773",
         "Toyota",
         "Tacoma TRD Sport",
         "2021",
         "49131",
         "Gasoline",
         "3.5L V6 24V PDI DOHC",
         "6-Speed",
         "White",
         "Black",
         "None reported",
         "43449"
        ],
        [
         "103631",
         "103631",
         "Toyota",
         "Tacoma TRD Sport",
         "2023",
         "38612",
         "Gasoline",
         "3.5L V6 24V PDI DOHC",
         "6-Speed",
         "Super White",
         "Black/Gun Metal",
         "None reported",
         "43599"
        ],
        [
         "107770",
         "107770",
         "Porsche",
         "911 GT3",
         "2021",
         "13250",
         "Gasoline",
         "475.0HP 3.8L Flat 6 Cylinder Engine Gasoline Fuel",
         "6-Speed",
         "Black",
         "Black",
         "None reported",
         "257000"
        ],
        [
         "108766",
         "108766",
         "Hyundai",
         "Tucson Limited",
         "2021",
         "33523",
         "Gasoline",
         "2.4L I4 16V GDI DOHC",
         "6-Speed",
         "Black Noir Pearl",
         "Black",
         "None reported",
         "72567"
        ],
        [
         "112850",
         "112850",
         "BMW",
         "328 i",
         "2012",
         "59000",
         "Gasoline",
         "230.0HP 3.0L Straight 6 Cylinder Engine Gasoline Fuel",
         "6-Speed",
         "Black",
         "Black",
         "None reported",
         "20000"
        ],
        [
         "119872",
         "119872",
         "Toyota",
         "Tacoma TRD Sport",
         "2018",
         "8681",
         "Gasoline",
         "3.5L V6 24V PDI DOHC",
         "6-Speed",
         "Gray",
         "Black",
         "None reported",
         "51900"
        ],
        [
         "123854",
         "123854",
         "Ford",
         "Mustang Premium",
         "2009",
         "109000",
         "Gasoline",
         "210.0HP 3.7L V6 Cylinder Engine Gasoline Fuel",
         "6-Speed",
         "White",
         "Gray",
         "At least 1 accident or damage reported",
         "19780"
        ],
        [
         "139104",
         "139104",
         "Toyota",
         "Tacoma SR5",
         "2021",
         "27839",
         "Gasoline",
         "3.5L V6 24V PDI DOHC",
         "6-Speed",
         "White",
         "Black",
         "None reported",
         "39999"
        ],
        [
         "142055",
         "142055",
         "Toyota",
         "Tacoma TRD Pro",
         "2019",
         "36180",
         "Gasoline",
         "3.5L V6 24V PDI DOHC",
         "6-Speed",
         "Super White",
         "Black",
         "None reported",
         "36990"
        ],
        [
         "149661",
         "149661",
         "Toyota",
         "Tacoma TRD Sport",
         "2021",
         "28548",
         "Gasoline",
         "3.5L V6 24V PDI DOHC",
         "6-Speed",
         "Machine Gray Metallic",
         "Black",
         "None reported",
         "42599"
        ],
        [
         "154643",
         "154643",
         "Mercedes-Benz",
         "A-Class A 220 4MATIC",
         "2016",
         "29500",
         "Gasoline",
         "188.0HP 2.0L 4 Cylinder Engine Gasoline Fuel",
         "6-Speed",
         "White",
         "Black",
         "None reported",
         "49995"
        ],
        [
         "154668",
         "154668",
         "Toyota",
         "Tacoma TRD Pro",
         "2016",
         "124542",
         "Gasoline",
         "3.5L V6 24V PDI DOHC",
         "6-Speed",
         "Super White",
         "Black",
         "None reported",
         "43550"
        ],
        [
         "160451",
         "160451",
         "Toyota",
         "Tacoma TRD Pro",
         "2014",
         "20598",
         "Gasoline",
         "3.5L V6 24V PDI DOHC",
         "6-Speed",
         "Gray",
         "Black",
         "None reported",
         "8450"
        ],
        [
         "170527",
         "170527",
         "Toyota",
         "Tacoma TRD Sport",
         "2019",
         "73800",
         "Gasoline",
         "3.5L V6 24V PDI DOHC",
         "6-Speed",
         "Black",
         "Black",
         "None reported",
         "41927"
        ]
       ],
       "shape": {
        "columns": 12,
        "rows": 27
       }
      },
      "text/html": [
       "<div>\n",
       "<style scoped>\n",
       "    .dataframe tbody tr th:only-of-type {\n",
       "        vertical-align: middle;\n",
       "    }\n",
       "\n",
       "    .dataframe tbody tr th {\n",
       "        vertical-align: top;\n",
       "    }\n",
       "\n",
       "    .dataframe thead th {\n",
       "        text-align: right;\n",
       "    }\n",
       "</style>\n",
       "<table border=\"1\" class=\"dataframe\">\n",
       "  <thead>\n",
       "    <tr style=\"text-align: right;\">\n",
       "      <th></th>\n",
       "      <th>id</th>\n",
       "      <th>brand</th>\n",
       "      <th>model</th>\n",
       "      <th>model_year</th>\n",
       "      <th>milage</th>\n",
       "      <th>fuel_type</th>\n",
       "      <th>engine</th>\n",
       "      <th>transmission</th>\n",
       "      <th>ext_col</th>\n",
       "      <th>int_col</th>\n",
       "      <th>accident</th>\n",
       "      <th>price</th>\n",
       "    </tr>\n",
       "  </thead>\n",
       "  <tbody>\n",
       "    <tr>\n",
       "      <th>20510</th>\n",
       "      <td>20510</td>\n",
       "      <td>BMW</td>\n",
       "      <td>435 i</td>\n",
       "      <td>2014</td>\n",
       "      <td>85385</td>\n",
       "      <td>Gasoline</td>\n",
       "      <td>300.0HP 3.0L Straight 6 Cylinder Engine Gasoli...</td>\n",
       "      <td>6-Speed</td>\n",
       "      <td>Black</td>\n",
       "      <td>Beige</td>\n",
       "      <td>None reported</td>\n",
       "      <td>15499</td>\n",
       "    </tr>\n",
       "    <tr>\n",
       "      <th>42067</th>\n",
       "      <td>42067</td>\n",
       "      <td>Toyota</td>\n",
       "      <td>Tacoma TRD Pro</td>\n",
       "      <td>2019</td>\n",
       "      <td>40698</td>\n",
       "      <td>Gasoline</td>\n",
       "      <td>3.5L V6 24V PDI DOHC</td>\n",
       "      <td>6-Speed</td>\n",
       "      <td>Super White</td>\n",
       "      <td>Black</td>\n",
       "      <td>None reported</td>\n",
       "      <td>34955</td>\n",
       "    </tr>\n",
       "    <tr>\n",
       "      <th>43398</th>\n",
       "      <td>43398</td>\n",
       "      <td>Toyota</td>\n",
       "      <td>Tacoma TRD Pro</td>\n",
       "      <td>2018</td>\n",
       "      <td>48156</td>\n",
       "      <td>Gasoline</td>\n",
       "      <td>3.5L V6 24V PDI DOHC</td>\n",
       "      <td>6-Speed</td>\n",
       "      <td>Midnight Black Metallic</td>\n",
       "      <td>Black/Gun Metal</td>\n",
       "      <td>None reported</td>\n",
       "      <td>46750</td>\n",
       "    </tr>\n",
       "    <tr>\n",
       "      <th>49841</th>\n",
       "      <td>49841</td>\n",
       "      <td>Toyota</td>\n",
       "      <td>Tacoma TRD Pro</td>\n",
       "      <td>2018</td>\n",
       "      <td>39948</td>\n",
       "      <td>Gasoline</td>\n",
       "      <td>3.5L V6 24V PDI DOHC</td>\n",
       "      <td>6-Speed</td>\n",
       "      <td>Super White</td>\n",
       "      <td>Graphite</td>\n",
       "      <td>None reported</td>\n",
       "      <td>26691</td>\n",
       "    </tr>\n",
       "    <tr>\n",
       "      <th>56243</th>\n",
       "      <td>56243</td>\n",
       "      <td>Toyota</td>\n",
       "      <td>Tacoma TRD Sport</td>\n",
       "      <td>2021</td>\n",
       "      <td>41500</td>\n",
       "      <td>Gasoline</td>\n",
       "      <td>3.5L V6 24V PDI DOHC</td>\n",
       "      <td>6-Speed</td>\n",
       "      <td>Gray</td>\n",
       "      <td>Black</td>\n",
       "      <td>None reported</td>\n",
       "      <td>46000</td>\n",
       "    </tr>\n",
       "    <tr>\n",
       "      <th>58020</th>\n",
       "      <td>58020</td>\n",
       "      <td>Toyota</td>\n",
       "      <td>Tacoma TRD Pro</td>\n",
       "      <td>2020</td>\n",
       "      <td>26540</td>\n",
       "      <td>Gasoline</td>\n",
       "      <td>3.5L V6 24V PDI DOHC</td>\n",
       "      <td>6-Speed</td>\n",
       "      <td>Blue</td>\n",
       "      <td>Black</td>\n",
       "      <td>None reported</td>\n",
       "      <td>38995</td>\n",
       "    </tr>\n",
       "    <tr>\n",
       "      <th>67455</th>\n",
       "      <td>67455</td>\n",
       "      <td>Toyota</td>\n",
       "      <td>Tacoma TRD Pro</td>\n",
       "      <td>2021</td>\n",
       "      <td>25083</td>\n",
       "      <td>Gasoline</td>\n",
       "      <td>3.5L V6 24V PDI DOHC</td>\n",
       "      <td>6-Speed</td>\n",
       "      <td>–</td>\n",
       "      <td>Black</td>\n",
       "      <td>None reported</td>\n",
       "      <td>38781</td>\n",
       "    </tr>\n",
       "    <tr>\n",
       "      <th>68572</th>\n",
       "      <td>68572</td>\n",
       "      <td>GMC</td>\n",
       "      <td>Acadia SLE-1</td>\n",
       "      <td>2022</td>\n",
       "      <td>13700</td>\n",
       "      <td>Gasoline</td>\n",
       "      <td>228.0HP 2.4L 4 Cylinder Engine Gasoline Fuel</td>\n",
       "      <td>6-Speed</td>\n",
       "      <td>Black</td>\n",
       "      <td>Black</td>\n",
       "      <td>None reported</td>\n",
       "      <td>55329</td>\n",
       "    </tr>\n",
       "    <tr>\n",
       "      <th>73279</th>\n",
       "      <td>73279</td>\n",
       "      <td>Toyota</td>\n",
       "      <td>Tacoma TRD Pro</td>\n",
       "      <td>2020</td>\n",
       "      <td>26468</td>\n",
       "      <td>Gasoline</td>\n",
       "      <td>3.5L V6 24V PDI DOHC</td>\n",
       "      <td>6-Speed</td>\n",
       "      <td>Super White</td>\n",
       "      <td>Black</td>\n",
       "      <td>None reported</td>\n",
       "      <td>39985</td>\n",
       "    </tr>\n",
       "    <tr>\n",
       "      <th>73469</th>\n",
       "      <td>73469</td>\n",
       "      <td>Toyota</td>\n",
       "      <td>Tacoma TRD Sport</td>\n",
       "      <td>2020</td>\n",
       "      <td>53433</td>\n",
       "      <td>Gasoline</td>\n",
       "      <td>3.5L V6 24V PDI DOHC</td>\n",
       "      <td>6-Speed</td>\n",
       "      <td>Black</td>\n",
       "      <td>Black</td>\n",
       "      <td>None reported</td>\n",
       "      <td>28495</td>\n",
       "    </tr>\n",
       "    <tr>\n",
       "      <th>84300</th>\n",
       "      <td>84300</td>\n",
       "      <td>Lexus</td>\n",
       "      <td>LS 460 Crafted Line</td>\n",
       "      <td>2016</td>\n",
       "      <td>137483</td>\n",
       "      <td>Gasoline</td>\n",
       "      <td>378.0HP 4.6L 8 Cylinder Engine Gasoline Fuel</td>\n",
       "      <td>6-Speed</td>\n",
       "      <td>Silver</td>\n",
       "      <td>White</td>\n",
       "      <td>None reported</td>\n",
       "      <td>10000</td>\n",
       "    </tr>\n",
       "    <tr>\n",
       "      <th>89349</th>\n",
       "      <td>89349</td>\n",
       "      <td>Toyota</td>\n",
       "      <td>Tacoma TRD Pro</td>\n",
       "      <td>2016</td>\n",
       "      <td>84129</td>\n",
       "      <td>Gasoline</td>\n",
       "      <td>3.5L V6 24V PDI DOHC</td>\n",
       "      <td>6-Speed</td>\n",
       "      <td>Black</td>\n",
       "      <td>Black</td>\n",
       "      <td>NaN</td>\n",
       "      <td>22495</td>\n",
       "    </tr>\n",
       "    <tr>\n",
       "      <th>96061</th>\n",
       "      <td>96061</td>\n",
       "      <td>Toyota</td>\n",
       "      <td>Tacoma TRD Pro</td>\n",
       "      <td>2018</td>\n",
       "      <td>28039</td>\n",
       "      <td>Gasoline</td>\n",
       "      <td>3.5L V6 24V PDI DOHC</td>\n",
       "      <td>6-Speed</td>\n",
       "      <td>White</td>\n",
       "      <td>Black</td>\n",
       "      <td>None reported</td>\n",
       "      <td>38900</td>\n",
       "    </tr>\n",
       "    <tr>\n",
       "      <th>100773</th>\n",
       "      <td>100773</td>\n",
       "      <td>Toyota</td>\n",
       "      <td>Tacoma TRD Sport</td>\n",
       "      <td>2021</td>\n",
       "      <td>49131</td>\n",
       "      <td>Gasoline</td>\n",
       "      <td>3.5L V6 24V PDI DOHC</td>\n",
       "      <td>6-Speed</td>\n",
       "      <td>White</td>\n",
       "      <td>Black</td>\n",
       "      <td>None reported</td>\n",
       "      <td>43449</td>\n",
       "    </tr>\n",
       "    <tr>\n",
       "      <th>103631</th>\n",
       "      <td>103631</td>\n",
       "      <td>Toyota</td>\n",
       "      <td>Tacoma TRD Sport</td>\n",
       "      <td>2023</td>\n",
       "      <td>38612</td>\n",
       "      <td>Gasoline</td>\n",
       "      <td>3.5L V6 24V PDI DOHC</td>\n",
       "      <td>6-Speed</td>\n",
       "      <td>Super White</td>\n",
       "      <td>Black/Gun Metal</td>\n",
       "      <td>None reported</td>\n",
       "      <td>43599</td>\n",
       "    </tr>\n",
       "    <tr>\n",
       "      <th>107770</th>\n",
       "      <td>107770</td>\n",
       "      <td>Porsche</td>\n",
       "      <td>911 GT3</td>\n",
       "      <td>2021</td>\n",
       "      <td>13250</td>\n",
       "      <td>Gasoline</td>\n",
       "      <td>475.0HP 3.8L Flat 6 Cylinder Engine Gasoline Fuel</td>\n",
       "      <td>6-Speed</td>\n",
       "      <td>Black</td>\n",
       "      <td>Black</td>\n",
       "      <td>None reported</td>\n",
       "      <td>257000</td>\n",
       "    </tr>\n",
       "    <tr>\n",
       "      <th>108766</th>\n",
       "      <td>108766</td>\n",
       "      <td>Hyundai</td>\n",
       "      <td>Tucson Limited</td>\n",
       "      <td>2021</td>\n",
       "      <td>33523</td>\n",
       "      <td>Gasoline</td>\n",
       "      <td>2.4L I4 16V GDI DOHC</td>\n",
       "      <td>6-Speed</td>\n",
       "      <td>Black Noir Pearl</td>\n",
       "      <td>Black</td>\n",
       "      <td>None reported</td>\n",
       "      <td>72567</td>\n",
       "    </tr>\n",
       "    <tr>\n",
       "      <th>112850</th>\n",
       "      <td>112850</td>\n",
       "      <td>BMW</td>\n",
       "      <td>328 i</td>\n",
       "      <td>2012</td>\n",
       "      <td>59000</td>\n",
       "      <td>Gasoline</td>\n",
       "      <td>230.0HP 3.0L Straight 6 Cylinder Engine Gasoli...</td>\n",
       "      <td>6-Speed</td>\n",
       "      <td>Black</td>\n",
       "      <td>Black</td>\n",
       "      <td>None reported</td>\n",
       "      <td>20000</td>\n",
       "    </tr>\n",
       "    <tr>\n",
       "      <th>119872</th>\n",
       "      <td>119872</td>\n",
       "      <td>Toyota</td>\n",
       "      <td>Tacoma TRD Sport</td>\n",
       "      <td>2018</td>\n",
       "      <td>8681</td>\n",
       "      <td>Gasoline</td>\n",
       "      <td>3.5L V6 24V PDI DOHC</td>\n",
       "      <td>6-Speed</td>\n",
       "      <td>Gray</td>\n",
       "      <td>Black</td>\n",
       "      <td>None reported</td>\n",
       "      <td>51900</td>\n",
       "    </tr>\n",
       "    <tr>\n",
       "      <th>123854</th>\n",
       "      <td>123854</td>\n",
       "      <td>Ford</td>\n",
       "      <td>Mustang Premium</td>\n",
       "      <td>2009</td>\n",
       "      <td>109000</td>\n",
       "      <td>Gasoline</td>\n",
       "      <td>210.0HP 3.7L V6 Cylinder Engine Gasoline Fuel</td>\n",
       "      <td>6-Speed</td>\n",
       "      <td>White</td>\n",
       "      <td>Gray</td>\n",
       "      <td>At least 1 accident or damage reported</td>\n",
       "      <td>19780</td>\n",
       "    </tr>\n",
       "    <tr>\n",
       "      <th>139104</th>\n",
       "      <td>139104</td>\n",
       "      <td>Toyota</td>\n",
       "      <td>Tacoma SR5</td>\n",
       "      <td>2021</td>\n",
       "      <td>27839</td>\n",
       "      <td>Gasoline</td>\n",
       "      <td>3.5L V6 24V PDI DOHC</td>\n",
       "      <td>6-Speed</td>\n",
       "      <td>White</td>\n",
       "      <td>Black</td>\n",
       "      <td>None reported</td>\n",
       "      <td>39999</td>\n",
       "    </tr>\n",
       "    <tr>\n",
       "      <th>142055</th>\n",
       "      <td>142055</td>\n",
       "      <td>Toyota</td>\n",
       "      <td>Tacoma TRD Pro</td>\n",
       "      <td>2019</td>\n",
       "      <td>36180</td>\n",
       "      <td>Gasoline</td>\n",
       "      <td>3.5L V6 24V PDI DOHC</td>\n",
       "      <td>6-Speed</td>\n",
       "      <td>Super White</td>\n",
       "      <td>Black</td>\n",
       "      <td>None reported</td>\n",
       "      <td>36990</td>\n",
       "    </tr>\n",
       "    <tr>\n",
       "      <th>149661</th>\n",
       "      <td>149661</td>\n",
       "      <td>Toyota</td>\n",
       "      <td>Tacoma TRD Sport</td>\n",
       "      <td>2021</td>\n",
       "      <td>28548</td>\n",
       "      <td>Gasoline</td>\n",
       "      <td>3.5L V6 24V PDI DOHC</td>\n",
       "      <td>6-Speed</td>\n",
       "      <td>Machine Gray Metallic</td>\n",
       "      <td>Black</td>\n",
       "      <td>None reported</td>\n",
       "      <td>42599</td>\n",
       "    </tr>\n",
       "    <tr>\n",
       "      <th>154643</th>\n",
       "      <td>154643</td>\n",
       "      <td>Mercedes-Benz</td>\n",
       "      <td>A-Class A 220 4MATIC</td>\n",
       "      <td>2016</td>\n",
       "      <td>29500</td>\n",
       "      <td>Gasoline</td>\n",
       "      <td>188.0HP 2.0L 4 Cylinder Engine Gasoline Fuel</td>\n",
       "      <td>6-Speed</td>\n",
       "      <td>White</td>\n",
       "      <td>Black</td>\n",
       "      <td>None reported</td>\n",
       "      <td>49995</td>\n",
       "    </tr>\n",
       "    <tr>\n",
       "      <th>154668</th>\n",
       "      <td>154668</td>\n",
       "      <td>Toyota</td>\n",
       "      <td>Tacoma TRD Pro</td>\n",
       "      <td>2016</td>\n",
       "      <td>124542</td>\n",
       "      <td>Gasoline</td>\n",
       "      <td>3.5L V6 24V PDI DOHC</td>\n",
       "      <td>6-Speed</td>\n",
       "      <td>Super White</td>\n",
       "      <td>Black</td>\n",
       "      <td>None reported</td>\n",
       "      <td>43550</td>\n",
       "    </tr>\n",
       "    <tr>\n",
       "      <th>160451</th>\n",
       "      <td>160451</td>\n",
       "      <td>Toyota</td>\n",
       "      <td>Tacoma TRD Pro</td>\n",
       "      <td>2014</td>\n",
       "      <td>20598</td>\n",
       "      <td>Gasoline</td>\n",
       "      <td>3.5L V6 24V PDI DOHC</td>\n",
       "      <td>6-Speed</td>\n",
       "      <td>Gray</td>\n",
       "      <td>Black</td>\n",
       "      <td>None reported</td>\n",
       "      <td>8450</td>\n",
       "    </tr>\n",
       "    <tr>\n",
       "      <th>170527</th>\n",
       "      <td>170527</td>\n",
       "      <td>Toyota</td>\n",
       "      <td>Tacoma TRD Sport</td>\n",
       "      <td>2019</td>\n",
       "      <td>73800</td>\n",
       "      <td>Gasoline</td>\n",
       "      <td>3.5L V6 24V PDI DOHC</td>\n",
       "      <td>6-Speed</td>\n",
       "      <td>Black</td>\n",
       "      <td>Black</td>\n",
       "      <td>None reported</td>\n",
       "      <td>41927</td>\n",
       "    </tr>\n",
       "  </tbody>\n",
       "</table>\n",
       "</div>"
      ],
      "text/plain": [
       "            id          brand                 model  model_year  milage fuel_type                                             engine transmission                  ext_col          int_col                                accident   price\n",
       "20510    20510            BMW                 435 i        2014   85385  Gasoline  300.0HP 3.0L Straight 6 Cylinder Engine Gasoli...      6-Speed                    Black            Beige                           None reported   15499\n",
       "42067    42067         Toyota        Tacoma TRD Pro        2019   40698  Gasoline                               3.5L V6 24V PDI DOHC      6-Speed              Super White            Black                           None reported   34955\n",
       "43398    43398         Toyota        Tacoma TRD Pro        2018   48156  Gasoline                               3.5L V6 24V PDI DOHC      6-Speed  Midnight Black Metallic  Black/Gun Metal                           None reported   46750\n",
       "49841    49841         Toyota        Tacoma TRD Pro        2018   39948  Gasoline                               3.5L V6 24V PDI DOHC      6-Speed              Super White         Graphite                           None reported   26691\n",
       "56243    56243         Toyota      Tacoma TRD Sport        2021   41500  Gasoline                               3.5L V6 24V PDI DOHC      6-Speed                     Gray            Black                           None reported   46000\n",
       "58020    58020         Toyota        Tacoma TRD Pro        2020   26540  Gasoline                               3.5L V6 24V PDI DOHC      6-Speed                     Blue            Black                           None reported   38995\n",
       "67455    67455         Toyota        Tacoma TRD Pro        2021   25083  Gasoline                               3.5L V6 24V PDI DOHC      6-Speed                        –            Black                           None reported   38781\n",
       "68572    68572            GMC          Acadia SLE-1        2022   13700  Gasoline       228.0HP 2.4L 4 Cylinder Engine Gasoline Fuel      6-Speed                    Black            Black                           None reported   55329\n",
       "73279    73279         Toyota        Tacoma TRD Pro        2020   26468  Gasoline                               3.5L V6 24V PDI DOHC      6-Speed              Super White            Black                           None reported   39985\n",
       "73469    73469         Toyota      Tacoma TRD Sport        2020   53433  Gasoline                               3.5L V6 24V PDI DOHC      6-Speed                    Black            Black                           None reported   28495\n",
       "84300    84300          Lexus   LS 460 Crafted Line        2016  137483  Gasoline       378.0HP 4.6L 8 Cylinder Engine Gasoline Fuel      6-Speed                   Silver            White                           None reported   10000\n",
       "89349    89349         Toyota        Tacoma TRD Pro        2016   84129  Gasoline                               3.5L V6 24V PDI DOHC      6-Speed                    Black            Black                                     NaN   22495\n",
       "96061    96061         Toyota        Tacoma TRD Pro        2018   28039  Gasoline                               3.5L V6 24V PDI DOHC      6-Speed                    White            Black                           None reported   38900\n",
       "100773  100773         Toyota      Tacoma TRD Sport        2021   49131  Gasoline                               3.5L V6 24V PDI DOHC      6-Speed                    White            Black                           None reported   43449\n",
       "103631  103631         Toyota      Tacoma TRD Sport        2023   38612  Gasoline                               3.5L V6 24V PDI DOHC      6-Speed              Super White  Black/Gun Metal                           None reported   43599\n",
       "107770  107770        Porsche               911 GT3        2021   13250  Gasoline  475.0HP 3.8L Flat 6 Cylinder Engine Gasoline Fuel      6-Speed                    Black            Black                           None reported  257000\n",
       "108766  108766        Hyundai        Tucson Limited        2021   33523  Gasoline                               2.4L I4 16V GDI DOHC      6-Speed         Black Noir Pearl            Black                           None reported   72567\n",
       "112850  112850            BMW                 328 i        2012   59000  Gasoline  230.0HP 3.0L Straight 6 Cylinder Engine Gasoli...      6-Speed                    Black            Black                           None reported   20000\n",
       "119872  119872         Toyota      Tacoma TRD Sport        2018    8681  Gasoline                               3.5L V6 24V PDI DOHC      6-Speed                     Gray            Black                           None reported   51900\n",
       "123854  123854           Ford       Mustang Premium        2009  109000  Gasoline      210.0HP 3.7L V6 Cylinder Engine Gasoline Fuel      6-Speed                    White             Gray  At least 1 accident or damage reported   19780\n",
       "139104  139104         Toyota            Tacoma SR5        2021   27839  Gasoline                               3.5L V6 24V PDI DOHC      6-Speed                    White            Black                           None reported   39999\n",
       "142055  142055         Toyota        Tacoma TRD Pro        2019   36180  Gasoline                               3.5L V6 24V PDI DOHC      6-Speed              Super White            Black                           None reported   36990\n",
       "149661  149661         Toyota      Tacoma TRD Sport        2021   28548  Gasoline                               3.5L V6 24V PDI DOHC      6-Speed    Machine Gray Metallic            Black                           None reported   42599\n",
       "154643  154643  Mercedes-Benz  A-Class A 220 4MATIC        2016   29500  Gasoline       188.0HP 2.0L 4 Cylinder Engine Gasoline Fuel      6-Speed                    White            Black                           None reported   49995\n",
       "154668  154668         Toyota        Tacoma TRD Pro        2016  124542  Gasoline                               3.5L V6 24V PDI DOHC      6-Speed              Super White            Black                           None reported   43550\n",
       "160451  160451         Toyota        Tacoma TRD Pro        2014   20598  Gasoline                               3.5L V6 24V PDI DOHC      6-Speed                     Gray            Black                           None reported    8450\n",
       "170527  170527         Toyota      Tacoma TRD Sport        2019   73800  Gasoline                               3.5L V6 24V PDI DOHC      6-Speed                    Black            Black                           None reported   41927"
      ]
     },
     "execution_count": 11,
     "metadata": {},
     "output_type": "execute_result"
    }
   ],
   "source": [
    "df_car[\"transmission\"].isnull().sum() # np.int64(0)\n",
    "df_car[\"transmission\"].nunique() # 52\n",
    "df_car[\"transmission\"].unique() # \n",
    "df_car[df_car[\"transmission\"] == \"Single-Speed Fixed Gear\"] # There are higly speed cars and by ramdomnly checking, these cars are AUTOMATIC\n",
    "df_car[df_car[\"transmission\"] == \"F\"] # 65 lines, by checking randomnly 8 different models of different brands, we can see they are AUTOMATIC\n",
    "df_car[df_car[\"transmission\"] == \"–\"] # 87 values\n",
    "df_car[df_car[\"transmission\"] == \"2\"] # 91\n",
    "df_car[df_car[\"transmission\"] == \"7-Speed\"] # 29\n",
    "df_car[df_car[\"transmission\"] == \"Variable\"] # 66\n",
    "df_car[df_car[\"transmission\"] == \"6-Speed\"] # 27"
   ]
  },
  {
   "cell_type": "markdown",
   "id": "239c0eb2",
   "metadata": {},
   "source": [
    "<span style=\"color:#ffc509;\">  [\"transmission_types\"] </span>\n",
    "\n",
    "- Only 0.16% are others"
   ]
  },
  {
   "cell_type": "code",
   "execution_count": 12,
   "id": "38ff6252",
   "metadata": {},
   "outputs": [],
   "source": [
    "def transmission_types(transmission_string):\n",
    "    transmission_lower = str(transmission_string).lower()\n",
    "    if (\"at/mt\" in transmission_lower  \n",
    "        or \"dual\" in transmission_lower \n",
    "        or \"auto-shift\" in transmission_lower \n",
    "        or \"overdrive switch\" in transmission_lower):  \n",
    "        return \"Dual\" # When they are both and can passed from automatic to manual and viceversa\n",
    "    elif ('automatic' in transmission_lower \n",
    "          or 'at' in transmission_lower \n",
    "          or 'a/t' in transmission_lower \n",
    "          or 'cvt' in transmission_lower \n",
    "          or 'dct' in transmission_lower \n",
    "          or 'single-speed fixed gear' in transmission_lower \n",
    "          or 'f' in transmission_lower):\n",
    "        return 'Automatic'\n",
    "    elif 'manual' in transmission_lower or 'm/t' in transmission_lower or 'mt' in transmission_lower:\n",
    "        return 'Manual'\n",
    "    else:\n",
    "        return 'Other' # The rest\n",
    "\n",
    "df_car['transmission_types'] = df_car['transmission'].apply(transmission_types)"
   ]
  },
  {
   "cell_type": "code",
   "execution_count": 13,
   "id": "6c305974",
   "metadata": {},
   "outputs": [
    {
     "data": {
      "text/plain": [
       "transmission_types\n",
       "Automatic    79.85\n",
       "Dual         11.30\n",
       "Manual        8.70\n",
       "Other         0.16\n",
       "Name: proportion, dtype: float64"
      ]
     },
     "execution_count": 13,
     "metadata": {},
     "output_type": "execute_result"
    }
   ],
   "source": [
    "(df_car[\"transmission_types\"].value_counts(normalize=True) * 100).round(2)"
   ]
  },
  {
   "cell_type": "markdown",
   "id": "6bd33a61",
   "metadata": {},
   "source": [
    "<span style=\"color:#ffc509;\">  [\"transmission_num\"] </span>\n",
    "\n",
    "- first null: 44.71%\n",
    "    - By grouping by ['brand', 'model', 'model_year', 'transmission_types', 'fuel_type'] it can be observed the null % is not random\n",
    "- AFTER IMPUTING\n",
    "    - null: 14.17 %\n",
    "        - Not all groups have values to be able to have a mode.\n",
    "    - null_ 0% DEFINITIVE\n",
    "        - Since the 6th transmission was implemented in the twenties and the mean of the model year of the cars is 2015, the none will be changed by 6"
   ]
  },
  {
   "cell_type": "code",
   "execution_count": 14,
   "id": "6a4ee078",
   "metadata": {},
   "outputs": [],
   "source": [
    "def extract_transmission_number(transmission_string):\n",
    "    if pd.isna(transmission_string):  \n",
    "        return None # If there are no numbers on the row, then return None\n",
    "    match = re.search(r\"\\d+\", str(transmission_string)) # This extracts the letters\n",
    "    return match.group(0) if match else None\n",
    "\n",
    "df_car['transmission_num'] = df_car['transmission'].apply(extract_transmission_number) # Create a new column"
   ]
  },
  {
   "cell_type": "code",
   "execution_count": 15,
   "id": "f80e7688",
   "metadata": {},
   "outputs": [],
   "source": [
    "df_car['transmission_num'] = pd.to_numeric(df_car['transmission_num'], errors='coerce').astype('Int64')"
   ]
  },
  {
   "cell_type": "code",
   "execution_count": 16,
   "id": "87bc39e6",
   "metadata": {},
   "outputs": [
    {
     "data": {
      "text/plain": [
       "transmission_num\n",
       "6     33278\n",
       "8     29673\n",
       "7     13027\n",
       "10    11248\n",
       "9      6224\n",
       "5      5785\n",
       "4      2594\n",
       "1      2234\n",
       "2       184\n",
       "Name: count, dtype: Int64"
      ]
     },
     "execution_count": 16,
     "metadata": {},
     "output_type": "execute_result"
    }
   ],
   "source": [
    "(df_car[\"transmission_num\"].isnull().sum() / len(df_car[\"transmission_num\"]) * 100).round(2) # 44.71%\n",
    "(df_car[\"transmission_num\"].value_counts(normalize=True) * 100).round(2)\n",
    "df_car['transmission_num'].value_counts()"
   ]
  },
  {
   "cell_type": "markdown",
   "id": "37d4e395",
   "metadata": {},
   "source": [
    "Studying imputation"
   ]
  },
  {
   "cell_type": "code",
   "execution_count": 17,
   "id": "37899cd9",
   "metadata": {},
   "outputs": [
    {
     "data": {
      "text/plain": [
       "Index(['id', 'brand', 'model', 'model_year', 'milage', 'fuel_type', 'engine',\n",
       "       'transmission', 'ext_col', 'int_col', 'accident', 'price',\n",
       "       'transmission_types', 'transmission_num'],\n",
       "      dtype='object')"
      ]
     },
     "execution_count": 17,
     "metadata": {},
     "output_type": "execute_result"
    }
   ],
   "source": [
    "df_car.columns"
   ]
  },
  {
   "cell_type": "code",
   "execution_count": 18,
   "id": "18501f09",
   "metadata": {},
   "outputs": [
    {
     "name": "stdout",
     "output_type": "stream",
     "text": [
      "                                                                          non_null_transmission_percentage  null_transmission_percentage\n",
      "brand model                 model_year transmission_types fuel_type                                                                     \n",
      "Acura 300 Touring           2005       Automatic          Gasoline                                0.000000                    100.000000\n",
      "      330 i xDrive          2018       Automatic          Gasoline                              100.000000                      0.000000\n",
      "      335 is                2012       Automatic          Gasoline                                0.000000                    100.000000\n",
      "      ATS 2.0L Turbo Luxury 2016       Automatic          Gasoline                              100.000000                      0.000000\n",
      "      Acadia SLE-1          2020       Automatic          Gasoline                              100.000000                      0.000000\n",
      "...                                                                                                    ...                           ...\n",
      "Volvo XC90 T6 Momentum      2022       Dual               Gasoline                                0.000000                    100.000000\n",
      "                            2023       Automatic          Gasoline                               33.333333                     66.666667\n",
      "      i8 Base               2015       Dual               Plug-In Hybrid                          0.000000                    100.000000\n",
      "smart ForTwo Pure           2007       Automatic          Gasoline                              100.000000                      0.000000\n",
      "      Nautilus Reserve      2023       Automatic          Gasoline                              100.000000                      0.000000\n",
      "\n",
      "[33512 rows x 2 columns]\n",
      "\n",
      "Análisis de 'transmission_num' agrupado y ordenado por porcentaje de nulos:\n",
      "                                                                                                          non_null_transmission_percentage  null_transmission_percentage\n",
      "brand    model                                              model_year transmission_types fuel_type                                                                     \n",
      "Volvo    i8 Base                                            2015       Dual               Plug-In Hybrid                               0.0                         100.0\n",
      "Acura    300 Touring                                        2005       Automatic          Gasoline                                     0.0                         100.0\n",
      "Volvo    XC90 T6 Momentum                                   2022       Dual               Gasoline                                     0.0                         100.0\n",
      "Acura    335 is                                             2012       Automatic          Gasoline                                     0.0                         100.0\n",
      "Volvo    XC90 T6 Inscription                                2017       Automatic          Gasoline                                     0.0                         100.0\n",
      "...                                                                                                                                    ...                           ...\n",
      "         XC90 Recharge Plug-In Hybrid T8 Inscription 7 P... 2022       Automatic          Hybrid                                     100.0                           0.0\n",
      "Cadillac XT5 Luxury                                         2014       Automatic          Gasoline                                   100.0                           0.0\n",
      "         XT6 Sport AWD                                      2018       Automatic          Gasoline                                   100.0                           0.0\n",
      "Lincoln  Mark LT Base                                       2004       Automatic          Gasoline                                   100.0                           0.0\n",
      "Volvo    XC90 T6 Inscription                                2020       Automatic          Diesel                                     100.0                           0.0\n",
      "\n",
      "[33512 rows x 2 columns]\n"
     ]
    }
   ],
   "source": [
    "# Grouping relevant columns\n",
    "grouped = df_car.groupby(['brand', 'model', 'model_year', 'transmission_types', 'fuel_type'])\n",
    "\n",
    "# Calculating non null percentage of 'transmission_num' per group\n",
    "def calculate_non_null_percentage(series):\n",
    "    total = len(series)\n",
    "    non_null_count = series.count()\n",
    "    if total > 0:\n",
    "        return (non_null_count / total) * 100\n",
    "    else:\n",
    "        return 0\n",
    "\n",
    "non_null_transmission_percentage = grouped['transmission_num'].agg(calculate_non_null_percentage).rename('non_null_transmission_percentage')\n",
    "\n",
    "# 3. Calcular el porcentaje de valores nulos de 'transmission_num' en cada grupo\n",
    "def calculate_null_percentage(series):\n",
    "    total = len(series)\n",
    "    null_count = series.isnull().sum()\n",
    "    if total > 0:\n",
    "        return (null_count / total) * 100\n",
    "    else:\n",
    "        return 0\n",
    "\n",
    "null_transmission_percentage = grouped['transmission_num'].agg(calculate_null_percentage).rename('null_transmission_percentage')\n",
    "\n",
    "# 4. Combinar los resultados en un nuevo DataFrame\n",
    "transmission_analysis = pd.concat([non_null_transmission_percentage,\n",
    "                                     null_transmission_percentage], axis=1)\n",
    "\n",
    "# 5. Obtener la moda de 'transmission_types' y 'fuel_type' (el valor de la agrupación ya lo da)\n",
    "\n",
    "# 6. Imprimir el DataFrame resultante\n",
    "print(transmission_analysis)\n",
    "\n",
    "# Opcionalmente, ordenar por el porcentaje de nulos\n",
    "transmission_analysis_sorted_by_null = transmission_analysis.sort_values(by='null_transmission_percentage', ascending=False)\n",
    "print(\"\\nAnálisis de 'transmission_num' agrupado y ordenado por porcentaje de nulos:\")\n",
    "print(transmission_analysis_sorted_by_null)"
   ]
  },
  {
   "cell_type": "code",
   "execution_count": 19,
   "id": "3461dc52",
   "metadata": {},
   "outputs": [],
   "source": [
    "# Calulating the mode per group to impute after\n",
    "mode_by_group = df_car.groupby(['brand', 'model', 'model_year', 'transmission_types'])['transmission_num'].agg(lambda x: x.mode()[0] if not x.mode().empty else None)\n",
    "\n",
    "# Impute de null values with the mode calculated above\n",
    "def impute_with_precalculated_mode(row):\n",
    "    if pd.isna(row['transmission_num']):\n",
    "        group_key = (row['brand'], row['model'], row['model_year'], row['transmission_types'])\n",
    "        return mode_by_group.get(group_key)\n",
    "    return row['transmission_num']\n",
    "\n",
    "\n",
    "df_car['transmission_num'] = df_car.apply(impute_with_precalculated_mode, axis=1)\n",
    "\n",
    "# 4. Calcular el porcentaje de valores nulos después de la imputación\n",
    "percentage_null_after_imputation = (df_car[\"transmission_num\"].isnull().sum() / len(df_car[\"transmission_num\"]) * 100).round(2)"
   ]
  },
  {
   "cell_type": "code",
   "execution_count": 20,
   "id": "1e018552",
   "metadata": {},
   "outputs": [
    {
     "data": {
      "text/plain": [
       "np.float64(14.17)"
      ]
     },
     "execution_count": 20,
     "metadata": {},
     "output_type": "execute_result"
    }
   ],
   "source": [
    "(df_car[\"transmission_num\"].isnull().sum() / len(df_car[\"transmission_num\"]) * 100).round(2) # 0%"
   ]
  },
  {
   "cell_type": "code",
   "execution_count": 21,
   "id": "03cf967c",
   "metadata": {},
   "outputs": [
    {
     "name": "stderr",
     "output_type": "stream",
     "text": [
      "C:\\Users\\yaelp\\AppData\\Local\\Temp\\ipykernel_9132\\2131320076.py:3: FutureWarning: A value is trying to be set on a copy of a DataFrame or Series through chained assignment using an inplace method.\n",
      "The behavior will change in pandas 3.0. This inplace method will never work because the intermediate object on which we are setting values always behaves as a copy.\n",
      "\n",
      "For example, when doing 'df[col].method(value, inplace=True)', try using 'df.method({col: value}, inplace=True)' or df[col] = df[col].method(value) instead, to perform the operation inplace on the original object.\n",
      "\n",
      "\n",
      "  df_car[\"transmission_num\"].fillna(6, inplace=True)\n",
      "C:\\Users\\yaelp\\AppData\\Local\\Temp\\ipykernel_9132\\2131320076.py:3: FutureWarning: Downcasting object dtype arrays on .fillna, .ffill, .bfill is deprecated and will change in a future version. Call result.infer_objects(copy=False) instead. To opt-in to the future behavior, set `pd.set_option('future.no_silent_downcasting', True)`\n",
      "  df_car[\"transmission_num\"].fillna(6, inplace=True)\n"
     ]
    }
   ],
   "source": [
    "# In order to inpute the last missing values, since the 6th transmission was implemented in the 2000 th, and the mean of the model year is 2015, the remaining values will be imputated  as 6\n",
    "df_car[\"model_year\"].describe()\n",
    "df_car[\"transmission_num\"].fillna(6, inplace=True)"
   ]
  },
  {
   "cell_type": "markdown",
   "id": "b366fb60",
   "metadata": {},
   "source": [
    "<span style=\"color:#ffc509;\">  [\"accident\"] </span>\n",
    "\n",
    "- null: 1.3%\n",
    "- unique values: 2 None, None reported and At least one accident\n",
    "\n",
    "Column will be changed to boolean being 1 = accident and 0 = none reported / none\n",
    "\n",
    "By reading None is there are no values, we will interpret this as if there are no values then there are no reports of accidents"
   ]
  },
  {
   "cell_type": "code",
   "execution_count": 22,
   "id": "8e6f795a",
   "metadata": {},
   "outputs": [],
   "source": [
    "def accident_turn_boolean(accident_string):\n",
    "    if pd.isna(accident_string):\n",
    "        return False   # if nan, this will be false = no accident reported\n",
    "    elif \"At least 1 accident or damage reported\" in accident_string:\n",
    "        return True    # This will turn one = there are accidents reported\n",
    "    else:\n",
    "        return False# if none reported which is left, this will be false = no accident reported\n",
    "\n",
    "df_car['accident'] = df_car['accident'].apply(accident_turn_boolean)"
   ]
  },
  {
   "cell_type": "markdown",
   "id": "2679c0e2",
   "metadata": {},
   "source": [
    "<span style=\"color:#ffc509;\">  [\"engine\"] </span>\n",
    "\n",
    "-  The information is mixed up in the cell\n",
    "-  The \"-\" will be replaced by \"Unknown\"\n",
    "-  The liters will be extracted\n",
    "    - Then converted to cubic centimeters\n",
    "    - NEW COLUMN made to store only the data in float type <span style=\"color:#ffc509;\">  [\"engine_cc\"] </span>\n",
    "- The horse powers will be extracted\n",
    "    - NEW COLUMN made to store only the data in float type <span style=\"color:#ffc509;\">  [\"engine_hp\"] </span>\n",
    "- The cylinders will be extracted\n",
    "    - NEW COLUMN made to store only the data in int type <span style=\"color:#ffc509;\">  [\"engine_cylinder\"] </span>"
   ]
  },
  {
   "cell_type": "code",
   "execution_count": 23,
   "id": "64fe8164",
   "metadata": {},
   "outputs": [
    {
     "data": {
      "text/plain": [
       "181608        362.0HP 3.0L V6 Cylinder Engine Gasoline Fuel\n",
       "9130      381.0HP 5.7L 8 Cylinder Engine Flex Fuel Capab...\n",
       "48491                                             2.0 Liter\n",
       "134481                           2.0L I4 16V GDI DOHC Turbo\n",
       "74591          315.0HP 4.6L 8 Cylinder Engine Gasoline Fuel\n",
       "Name: engine, dtype: object"
      ]
     },
     "execution_count": 23,
     "metadata": {},
     "output_type": "execute_result"
    }
   ],
   "source": [
    "df_car[\"engine\"].isnull().sum() # 0\n",
    "(df_car[\"engine\"].isnull().sum() / len(df_car[\"engine\"]) * 100).round(2) # 0%\n",
    "(df_car[\"engine\"].value_counts(normalize=True) * 100).round(2) #\n",
    "df_car[\"engine\"].nunique() # 1117\n",
    "df_car[\"engine\"].unique() # \n",
    "df_car[\"engine\"].str.contains(\"Cylinder\").value_counts() # 37855 FALSE\n",
    "df_car[df_car[\"engine\"] == \"example\"]  #\n",
    "df_car[\"engine\"].sample(5)"
   ]
  },
  {
   "cell_type": "markdown",
   "id": "d42acf59",
   "metadata": {},
   "source": [
    "<span style=\"color:#ffc509;\">  [\"engine_cc\"] </span>\n",
    "\n",
    "- 4% of nulls"
   ]
  },
  {
   "cell_type": "code",
   "execution_count": 24,
   "id": "f6e5e501",
   "metadata": {},
   "outputs": [
    {
     "data": {
      "application/vnd.microsoft.datawrangler.viewer.v0+json": {
       "columns": [
        {
         "name": "index",
         "rawType": "int64",
         "type": "integer"
        },
        {
         "name": "engine",
         "rawType": "object",
         "type": "string"
        },
        {
         "name": "engine_cc",
         "rawType": "float64",
         "type": "float"
        }
       ],
       "conversionMethod": "pd.DataFrame",
       "ref": "32083aff-57fa-40bc-8047-895b404453f3",
       "rows": [
        [
         "0",
         "172.0HP 1.6L 4 Cylinder Engine Gasoline Fuel",
         "1600.0"
        ],
        [
         "1",
         "252.0HP 3.9L 8 Cylinder Engine Gasoline Fuel",
         "3900.0"
        ],
        [
         "2",
         "320.0HP 5.3L 8 Cylinder Engine Flex Fuel Capability",
         "5300.0"
        ],
        [
         "3",
         "420.0HP 5.0L 8 Cylinder Engine Gasoline Fuel",
         "5000.0"
        ],
        [
         "4",
         "208.0HP 2.0L 4 Cylinder Engine Gasoline Fuel",
         "2000.0"
        ]
       ],
       "shape": {
        "columns": 2,
        "rows": 5
       }
      },
      "text/html": [
       "<div>\n",
       "<style scoped>\n",
       "    .dataframe tbody tr th:only-of-type {\n",
       "        vertical-align: middle;\n",
       "    }\n",
       "\n",
       "    .dataframe tbody tr th {\n",
       "        vertical-align: top;\n",
       "    }\n",
       "\n",
       "    .dataframe thead th {\n",
       "        text-align: right;\n",
       "    }\n",
       "</style>\n",
       "<table border=\"1\" class=\"dataframe\">\n",
       "  <thead>\n",
       "    <tr style=\"text-align: right;\">\n",
       "      <th></th>\n",
       "      <th>engine</th>\n",
       "      <th>engine_cc</th>\n",
       "    </tr>\n",
       "  </thead>\n",
       "  <tbody>\n",
       "    <tr>\n",
       "      <th>0</th>\n",
       "      <td>172.0HP 1.6L 4 Cylinder Engine Gasoline Fuel</td>\n",
       "      <td>1600.0</td>\n",
       "    </tr>\n",
       "    <tr>\n",
       "      <th>1</th>\n",
       "      <td>252.0HP 3.9L 8 Cylinder Engine Gasoline Fuel</td>\n",
       "      <td>3900.0</td>\n",
       "    </tr>\n",
       "    <tr>\n",
       "      <th>2</th>\n",
       "      <td>320.0HP 5.3L 8 Cylinder Engine Flex Fuel Capab...</td>\n",
       "      <td>5300.0</td>\n",
       "    </tr>\n",
       "    <tr>\n",
       "      <th>3</th>\n",
       "      <td>420.0HP 5.0L 8 Cylinder Engine Gasoline Fuel</td>\n",
       "      <td>5000.0</td>\n",
       "    </tr>\n",
       "    <tr>\n",
       "      <th>4</th>\n",
       "      <td>208.0HP 2.0L 4 Cylinder Engine Gasoline Fuel</td>\n",
       "      <td>2000.0</td>\n",
       "    </tr>\n",
       "  </tbody>\n",
       "</table>\n",
       "</div>"
      ],
      "text/plain": [
       "                                              engine  engine_cc\n",
       "0       172.0HP 1.6L 4 Cylinder Engine Gasoline Fuel     1600.0\n",
       "1       252.0HP 3.9L 8 Cylinder Engine Gasoline Fuel     3900.0\n",
       "2  320.0HP 5.3L 8 Cylinder Engine Flex Fuel Capab...     5300.0\n",
       "3       420.0HP 5.0L 8 Cylinder Engine Gasoline Fuel     5000.0\n",
       "4       208.0HP 2.0L 4 Cylinder Engine Gasoline Fuel     2000.0"
      ]
     },
     "execution_count": 24,
     "metadata": {},
     "output_type": "execute_result"
    }
   ],
   "source": [
    "def extract_liters_to_cubic_cm(row):\n",
    "   \n",
    "    engine_string = str(row['engine'])\n",
    "    engine_lower = engine_string.lower()\n",
    "    if pd.isna(engine_string):\n",
    "        return None\n",
    "\n",
    "    match_1 = re.search(r\"(\\d\\.?\\d*)L\", engine_string)  # Only extract what it is only before L which indicates the liters\n",
    "    match_2 = re.search(r\"\\s*(\\d\\.?\\d*)\\s+liter\", engine_lower)  # Extract number before ' liter'\n",
    "    match_3 =  re.search(r\"(\\d\\.?\\d*)\\s+L\\w*\", engine_string) # Extract number before ' L' followed by other characters\n",
    "\n",
    "    if match_1:\n",
    "        try:\n",
    "            liters_str = match_1.group(1)\n",
    "            liters = float(liters_str)\n",
    "            cubic_cm = liters * 1000\n",
    "            return cubic_cm\n",
    "        except ValueError:\n",
    "            return None\n",
    "    elif match_2:\n",
    "        try:\n",
    "            liters_str = match_2.group(1)\n",
    "            liters = float(liters_str)\n",
    "            cubic_cm = liters * 1000\n",
    "            return cubic_cm\n",
    "        except ValueError:\n",
    "            return None\n",
    "    elif match_3:\n",
    "        try:\n",
    "            liters_str = match_3.group(1)\n",
    "            liters = float(liters_str)\n",
    "            cubic_cm = liters * 1000\n",
    "            return cubic_cm\n",
    "        except ValueError:\n",
    "            return None\n",
    "    else:\n",
    "        return None\n",
    "\n",
    "df_car['engine_cc'] = df_car.apply(extract_liters_to_cubic_cm, axis=1)\n",
    "df_car[['engine', 'engine_cc']].head()"
   ]
  },
  {
   "cell_type": "code",
   "execution_count": 25,
   "id": "6d31037d",
   "metadata": {},
   "outputs": [
    {
     "data": {
      "text/plain": [
       "dtype('float64')"
      ]
     },
     "execution_count": 25,
     "metadata": {},
     "output_type": "execute_result"
    }
   ],
   "source": [
    "df_car[\"engine_cc\"].dtype"
   ]
  },
  {
   "cell_type": "code",
   "execution_count": 26,
   "id": "7a234dc8",
   "metadata": {},
   "outputs": [
    {
     "data": {
      "text/plain": [
       "30886     416.0HP Electric Motor Electric Fuel System\n",
       "86560     417.0HP Electric Motor Electric Fuel System\n",
       "9114      563.0HP Electric Motor Electric Fuel System\n",
       "110855    557.0HP Electric Motor Electric Fuel System\n",
       "108748    563.0HP Electric Motor Electric Fuel System\n",
       "169596    835.0HP Electric Motor Electric Fuel System\n",
       "31361                                        Electric\n",
       "60836     329.0HP Electric Motor Electric Fuel System\n",
       "17095                                               –\n",
       "84662                                        Electric\n",
       "Name: engine, dtype: object"
      ]
     },
     "execution_count": 26,
     "metadata": {},
     "output_type": "execute_result"
    }
   ],
   "source": [
    "percentage_null = (df_car['engine_cc'].isnull().sum() / len(df_car[\"engine_cc\"])).round(2) * 100\n",
    "percentage_null # 4%\n",
    "checking_nulls_engine_cc = df_car[df_car[\"engine_cc\"].isnull()][\"engine\"]\n",
    "checking_nulls_engine_cc.sample(10)\n"
   ]
  },
  {
   "cell_type": "markdown",
   "id": "002ea48a",
   "metadata": {},
   "source": [
    "<span style=\"color:#ffc509;\">  [\"engine_hp\"] </span>\n",
    "- Null: 17%"
   ]
  },
  {
   "cell_type": "code",
   "execution_count": 27,
   "id": "c0116ee1",
   "metadata": {},
   "outputs": [
    {
     "data": {
      "application/vnd.microsoft.datawrangler.viewer.v0+json": {
       "columns": [
        {
         "name": "index",
         "rawType": "int64",
         "type": "integer"
        },
        {
         "name": "engine",
         "rawType": "object",
         "type": "string"
        },
        {
         "name": "engine_hp",
         "rawType": "float64",
         "type": "float"
        }
       ],
       "conversionMethod": "pd.DataFrame",
       "ref": "dada473b-494e-40d6-8692-979e3960d3ed",
       "rows": [
        [
         "0",
         "172.0HP 1.6L 4 Cylinder Engine Gasoline Fuel",
         "172.0"
        ],
        [
         "1",
         "252.0HP 3.9L 8 Cylinder Engine Gasoline Fuel",
         "252.0"
        ],
        [
         "2",
         "320.0HP 5.3L 8 Cylinder Engine Flex Fuel Capability",
         "320.0"
        ],
        [
         "3",
         "420.0HP 5.0L 8 Cylinder Engine Gasoline Fuel",
         "420.0"
        ],
        [
         "4",
         "208.0HP 2.0L 4 Cylinder Engine Gasoline Fuel",
         "208.0"
        ]
       ],
       "shape": {
        "columns": 2,
        "rows": 5
       }
      },
      "text/html": [
       "<div>\n",
       "<style scoped>\n",
       "    .dataframe tbody tr th:only-of-type {\n",
       "        vertical-align: middle;\n",
       "    }\n",
       "\n",
       "    .dataframe tbody tr th {\n",
       "        vertical-align: top;\n",
       "    }\n",
       "\n",
       "    .dataframe thead th {\n",
       "        text-align: right;\n",
       "    }\n",
       "</style>\n",
       "<table border=\"1\" class=\"dataframe\">\n",
       "  <thead>\n",
       "    <tr style=\"text-align: right;\">\n",
       "      <th></th>\n",
       "      <th>engine</th>\n",
       "      <th>engine_hp</th>\n",
       "    </tr>\n",
       "  </thead>\n",
       "  <tbody>\n",
       "    <tr>\n",
       "      <th>0</th>\n",
       "      <td>172.0HP 1.6L 4 Cylinder Engine Gasoline Fuel</td>\n",
       "      <td>172.0</td>\n",
       "    </tr>\n",
       "    <tr>\n",
       "      <th>1</th>\n",
       "      <td>252.0HP 3.9L 8 Cylinder Engine Gasoline Fuel</td>\n",
       "      <td>252.0</td>\n",
       "    </tr>\n",
       "    <tr>\n",
       "      <th>2</th>\n",
       "      <td>320.0HP 5.3L 8 Cylinder Engine Flex Fuel Capab...</td>\n",
       "      <td>320.0</td>\n",
       "    </tr>\n",
       "    <tr>\n",
       "      <th>3</th>\n",
       "      <td>420.0HP 5.0L 8 Cylinder Engine Gasoline Fuel</td>\n",
       "      <td>420.0</td>\n",
       "    </tr>\n",
       "    <tr>\n",
       "      <th>4</th>\n",
       "      <td>208.0HP 2.0L 4 Cylinder Engine Gasoline Fuel</td>\n",
       "      <td>208.0</td>\n",
       "    </tr>\n",
       "  </tbody>\n",
       "</table>\n",
       "</div>"
      ],
      "text/plain": [
       "                                              engine  engine_hp\n",
       "0       172.0HP 1.6L 4 Cylinder Engine Gasoline Fuel      172.0\n",
       "1       252.0HP 3.9L 8 Cylinder Engine Gasoline Fuel      252.0\n",
       "2  320.0HP 5.3L 8 Cylinder Engine Flex Fuel Capab...      320.0\n",
       "3       420.0HP 5.0L 8 Cylinder Engine Gasoline Fuel      420.0\n",
       "4       208.0HP 2.0L 4 Cylinder Engine Gasoline Fuel      208.0"
      ]
     },
     "execution_count": 27,
     "metadata": {},
     "output_type": "execute_result"
    }
   ],
   "source": [
    "def extract_hp(row):\n",
    "   \n",
    "    engine_string = str(row['engine'])\n",
    "    engine_lower = engine_string.lower()\n",
    "    if pd.isna(engine_string):\n",
    "        return None\n",
    "\n",
    "    match = re.search(r\"^(\\d+\\.?\\d*)hp\", engine_lower)  # Only extract what it is only before HP which indicates the horse powers\n",
    "    \n",
    "    if match:\n",
    "        try:\n",
    "            hp_str = match.group(1)  # Extrae el número encontrado\n",
    "            horsepower = float(hp_str)  # Convierte la cadena a un número flotante\n",
    "            return horsepower\n",
    "        except ValueError:\n",
    "            return None\n",
    "    else:\n",
    "        return None\n",
    "\n",
    "df_car['engine_hp'] = df_car.apply(extract_hp, axis=1) \n",
    "df_car[['engine', 'engine_hp']].head()"
   ]
  },
  {
   "cell_type": "code",
   "execution_count": 28,
   "id": "21fb64e5",
   "metadata": {},
   "outputs": [
    {
     "data": {
      "text/plain": [
       "186233             2.0L I4 16V GDI SOHC Turbo\n",
       "137569        4.0L V8 32V GDI DOHC Twin Turbo\n",
       "184236                   4.0 Liter Twin Turbo\n",
       "20315         4.0L V8 32V GDI DOHC Twin Turbo\n",
       "135749                                      –\n",
       "157249        2.9L V6 24V GDI DOHC Twin Turbo\n",
       "57199                     5.3L V8 16V GDI OHV\n",
       "100226    111.2Ah / FR 70kW / RR 160kW (697V)\n",
       "48608         4.0L V8 32V GDI DOHC Twin Turbo\n",
       "28247                                      V6\n",
       "Name: engine, dtype: object"
      ]
     },
     "execution_count": 28,
     "metadata": {},
     "output_type": "execute_result"
    }
   ],
   "source": [
    "(df_car['engine_hp'].isnull().sum() / len(df_car[\"engine_hp\"])).round(2) * 100\n",
    "df_car[df_car[\"engine_hp\"].isnull()][\"engine\"].sample(10)"
   ]
  },
  {
   "cell_type": "markdown",
   "id": "96e3754f",
   "metadata": {},
   "source": [
    "<span style=\"color:#ffc509;\">  [\"engine_cylinder\"] </span>\n",
    "- Null: 8%"
   ]
  },
  {
   "cell_type": "code",
   "execution_count": 29,
   "id": "64b684ee",
   "metadata": {},
   "outputs": [
    {
     "data": {
      "application/vnd.microsoft.datawrangler.viewer.v0+json": {
       "columns": [
        {
         "name": "index",
         "rawType": "int64",
         "type": "integer"
        },
        {
         "name": "engine",
         "rawType": "object",
         "type": "string"
        },
        {
         "name": "engine_cylinder",
         "rawType": "float64",
         "type": "float"
        }
       ],
       "conversionMethod": "pd.DataFrame",
       "ref": "7dbdceea-33fe-4472-91f4-57aacaa8faa9",
       "rows": [
        [
         "0",
         "172.0HP 1.6L 4 Cylinder Engine Gasoline Fuel",
         "4.0"
        ],
        [
         "1",
         "252.0HP 3.9L 8 Cylinder Engine Gasoline Fuel",
         "8.0"
        ],
        [
         "2",
         "320.0HP 5.3L 8 Cylinder Engine Flex Fuel Capability",
         "8.0"
        ],
        [
         "3",
         "420.0HP 5.0L 8 Cylinder Engine Gasoline Fuel",
         "8.0"
        ],
        [
         "4",
         "208.0HP 2.0L 4 Cylinder Engine Gasoline Fuel",
         "4.0"
        ]
       ],
       "shape": {
        "columns": 2,
        "rows": 5
       }
      },
      "text/html": [
       "<div>\n",
       "<style scoped>\n",
       "    .dataframe tbody tr th:only-of-type {\n",
       "        vertical-align: middle;\n",
       "    }\n",
       "\n",
       "    .dataframe tbody tr th {\n",
       "        vertical-align: top;\n",
       "    }\n",
       "\n",
       "    .dataframe thead th {\n",
       "        text-align: right;\n",
       "    }\n",
       "</style>\n",
       "<table border=\"1\" class=\"dataframe\">\n",
       "  <thead>\n",
       "    <tr style=\"text-align: right;\">\n",
       "      <th></th>\n",
       "      <th>engine</th>\n",
       "      <th>engine_cylinder</th>\n",
       "    </tr>\n",
       "  </thead>\n",
       "  <tbody>\n",
       "    <tr>\n",
       "      <th>0</th>\n",
       "      <td>172.0HP 1.6L 4 Cylinder Engine Gasoline Fuel</td>\n",
       "      <td>4.0</td>\n",
       "    </tr>\n",
       "    <tr>\n",
       "      <th>1</th>\n",
       "      <td>252.0HP 3.9L 8 Cylinder Engine Gasoline Fuel</td>\n",
       "      <td>8.0</td>\n",
       "    </tr>\n",
       "    <tr>\n",
       "      <th>2</th>\n",
       "      <td>320.0HP 5.3L 8 Cylinder Engine Flex Fuel Capab...</td>\n",
       "      <td>8.0</td>\n",
       "    </tr>\n",
       "    <tr>\n",
       "      <th>3</th>\n",
       "      <td>420.0HP 5.0L 8 Cylinder Engine Gasoline Fuel</td>\n",
       "      <td>8.0</td>\n",
       "    </tr>\n",
       "    <tr>\n",
       "      <th>4</th>\n",
       "      <td>208.0HP 2.0L 4 Cylinder Engine Gasoline Fuel</td>\n",
       "      <td>4.0</td>\n",
       "    </tr>\n",
       "  </tbody>\n",
       "</table>\n",
       "</div>"
      ],
      "text/plain": [
       "                                              engine  engine_cylinder\n",
       "0       172.0HP 1.6L 4 Cylinder Engine Gasoline Fuel              4.0\n",
       "1       252.0HP 3.9L 8 Cylinder Engine Gasoline Fuel              8.0\n",
       "2  320.0HP 5.3L 8 Cylinder Engine Flex Fuel Capab...              8.0\n",
       "3       420.0HP 5.0L 8 Cylinder Engine Gasoline Fuel              8.0\n",
       "4       208.0HP 2.0L 4 Cylinder Engine Gasoline Fuel              4.0"
      ]
     },
     "execution_count": 29,
     "metadata": {},
     "output_type": "execute_result"
    }
   ],
   "source": [
    "def extract_cylinder(row):\n",
    "   \n",
    "    engine_string = str(row['engine'])\n",
    "    engine_lower = engine_string.lower()\n",
    "    if pd.isna(engine_string):\n",
    "        return None\n",
    "\n",
    "    match_1 = re.search(r\"^(\\d+)\\s*cylinder(?:s)?\", engine_lower)  # Only extract what it is only before cylinder which indicates the horse powers\n",
    "    match_2 = re.search(r\"v(\\d+)\", engine_lower)                   # Everything that is after a V \n",
    "    match_3 = re.search(r\"i(\\d+)\", engine_lower)                   # Everything that is after a I\n",
    "    match_4 = re.search(r\"(\\d+)\\s+cylinder(?:s)?\", engine_lower)   # Only extract what it is only before cylinder which indicates the horse powers but with a space before\n",
    "    \n",
    "    if match_1:\n",
    "        try:\n",
    "            return int(match_1.group(1))\n",
    "        except ValueError:\n",
    "            return None\n",
    "    elif match_2:\n",
    "        try:\n",
    "            return int(match_2.group(1))\n",
    "        except ValueError:\n",
    "            return None\n",
    "    elif match_3:\n",
    "        try:\n",
    "            return int(match_3.group(1))\n",
    "        except ValueError:\n",
    "            return None\n",
    "    elif match_4:\n",
    "        try:\n",
    "            return int(match_4.group(1))\n",
    "        except ValueError:\n",
    "            return None\n",
    "    else:\n",
    "        return None\n",
    "\n",
    "df_car['engine_cylinder'] = df_car.apply(extract_cylinder, axis=1) \n",
    "df_car[['engine', 'engine_cylinder']].head()"
   ]
  },
  {
   "cell_type": "code",
   "execution_count": 30,
   "id": "c167e581",
   "metadata": {},
   "outputs": [
    {
     "data": {
      "text/plain": [
       "Index(['id', 'brand', 'model', 'model_year', 'milage', 'fuel_type', 'engine',\n",
       "       'transmission', 'ext_col', 'int_col', 'accident', 'price',\n",
       "       'transmission_types', 'transmission_num', 'engine_cc', 'engine_hp',\n",
       "       'engine_cylinder'],\n",
       "      dtype='object')"
      ]
     },
     "execution_count": 30,
     "metadata": {},
     "output_type": "execute_result"
    }
   ],
   "source": [
    "df_car.columns"
   ]
  },
  {
   "cell_type": "code",
   "execution_count": 31,
   "id": "d5fa42d6",
   "metadata": {},
   "outputs": [
    {
     "data": {
      "text/plain": [
       "161059    455.0HP Electric Motor Electric Fuel System\n",
       "159837    455.0HP Electric Motor Electric Fuel System\n",
       "166174    518.0HP Electric Motor Electric Fuel System\n",
       "79503     295.0HP Electric Motor Electric Fuel System\n",
       "116753                                      2.0 Liter\n",
       "101973                                3.0 Liter Turbo\n",
       "103300                                 3.5 Liter SOHC\n",
       "28551                       4.4 Liter DOHC Twin Turbo\n",
       "42859                                       3.5 Liter\n",
       "14863     536.0HP Electric Motor Electric Fuel System\n",
       "Name: engine, dtype: object"
      ]
     },
     "execution_count": 31,
     "metadata": {},
     "output_type": "execute_result"
    }
   ],
   "source": [
    "(df_car['engine_cylinder'].isnull().sum() / len(df_car[\"engine_cylinder\"])).round(2) * 100\n",
    "df_car[df_car[\"engine_cylinder\"].isnull()][\"engine\"].sample(10)"
   ]
  },
  {
   "cell_type": "markdown",
   "id": "62acd824",
   "metadata": {},
   "source": [
    "### <span style=\"color:#fef377;\">  Checking duplicates </span>\n",
    "- There are none"
   ]
  },
  {
   "cell_type": "code",
   "execution_count": 32,
   "id": "7295b281",
   "metadata": {},
   "outputs": [
    {
     "data": {
      "text/plain": [
       "np.int64(0)"
      ]
     },
     "execution_count": 32,
     "metadata": {},
     "output_type": "execute_result"
    }
   ],
   "source": [
    "df_car.duplicated().sum()"
   ]
  },
  {
   "cell_type": "markdown",
   "id": "f4f182a8",
   "metadata": {},
   "source": [
    "### <span style=\"color:#fef377;\"> Checking outliers </span>\n",
    "\n",
    "- <span style=\"color:#ffc509;\">  [\"milage\"] </span> : \n",
    "- <span style=\"color:#ffc509;\">  [\"price\"] </span>: The boxplot for 'price' shows a concentration of values at the lower end, with a large number of significant outliers extending towards much higher prices."
   ]
  },
  {
   "cell_type": "code",
   "execution_count": 33,
   "id": "65c51aef",
   "metadata": {},
   "outputs": [
    {
     "name": "stdout",
     "output_type": "stream",
     "text": [
      "Outliers percentages per column:\n",
      "{'id': '0.00%', 'model_year': '2.72%', 'milage': '0.94%', 'price': '5.77%', 'transmission_num': '2.89%', 'engine_cc': '0.17%', 'engine_hp': '0.99%', 'engine_cylinder': '0.89%'}\n"
     ]
    }
   ],
   "source": [
    "# Calculating inter quantile range of columns\n",
    "def detect_outliers_iqr(series):\n",
    "    Q1 = series.quantile(0.25)\n",
    "    Q3 = series.quantile(0.75)\n",
    "    IQR = Q3 - Q1\n",
    "    lower_bound = Q1 - 1.5 * IQR # outliers under the range\n",
    "    upper_bound = Q3 + 1.5 * IQR # outliers above the range\n",
    "    outliers = (series < lower_bound) | (series > upper_bound)\n",
    "    return outliers # only lower and upper outliers will be shown\n",
    "\n",
    "# -------------------------------------------------------------------------------------------------\n",
    "# Checking the percentages of the outliers\n",
    "def percentage_outliers(df):\n",
    "    outliers_percentage = {}\n",
    "    for column in df.select_dtypes(include=np.number).columns:\n",
    "        outliers = detect_outliers_iqr(df[column])\n",
    "        percentage = outliers.sum() / len(df) * 100\n",
    "        outliers_percentage[column] = f'{percentage:.2f}%'\n",
    "    return outliers_percentage\n",
    "\n",
    "percentage_outliers_df = percentage_outliers(df_car)\n",
    "print(f\"Outliers percentages per column:\\n{percentage_outliers_df}\") # This shows only the \"real\" outliers"
   ]
  },
  {
   "cell_type": "code",
   "execution_count": 34,
   "id": "8d772ffd",
   "metadata": {},
   "outputs": [
    {
     "data": {
      "image/png": "[encoded data removed]",
      "text/plain": [
       "<Figure size 800x200 with 1 Axes>"
      ]
     },
     "metadata": {},
     "output_type": "display_data"
    }
   ],
   "source": [
    "def plot_boxplot(df, columna):\n",
    "    plt.figure(figsize=(8, 2))\n",
    "    sns.boxplot(x=df[columna])\n",
    "    plt.title(f'Boxplot: {columna.upper()}')\n",
    "    plt.xlabel(columna)\n",
    "    plt.show()\n",
    "\n",
    "plot_boxplot(df_car, 'price')"
   ]
  },
  {
   "cell_type": "markdown",
   "id": "6b3a5ee9",
   "metadata": {},
   "source": [
    "### <span style=\"color:#fef377;\">  Checking column's distribuition </span>\n",
    "\n",
    "- <span style=\"color:#ffc509;\">  [\"price\"] </span> : The price distribution is heavily right-skewed with a high frequency of lower-priced vehicles and a long tail indicating a smaller number of significantly higher-priced outliers."
   ]
  },
  {
   "cell_type": "code",
   "execution_count": 35,
   "id": "37f2b81c",
   "metadata": {},
   "outputs": [
    {
     "data": {
      "image/png": "[encoded data removed]",
      "text/plain": [
       "<Figure size 1000x200 with 1 Axes>"
      ]
     },
     "metadata": {},
     "output_type": "display_data"
    }
   ],
   "source": [
    "# Checking the distribuition of data\n",
    "def plot_histplot(df, columna):\n",
    "    plt.figure(figsize=(10, 2))\n",
    "    sns.histplot(df_car['price'], kde=True)\n",
    "    plt.title(f'Histplot: {columna.upper()}')\n",
    "    plt.xlabel('Price') # Checking this column\n",
    "    plt.ylabel('Frequency')\n",
    "    plt.show()\n",
    "plot_histplot(df_car, 'price')"
   ]
  },
  {
   "cell_type": "markdown",
   "id": "55630679",
   "metadata": {},
   "source": [
    "#### Checking column:\n",
    "<span style=\"color:#ffc509;\">  [\"price\"] </span>\n",
    "- By checking the top prices I can see there are block of prices regardless of the model, milage, engine and other columns\n",
    "    - By sorting the prices descendant, I can see blocks of prices likely not to be true\n",
    "- By checking the block prices in the original sort, I can can see there are no blocks\n",
    "- By checking with z score, there are a lot of outliers than can significantly change the prediction model"
   ]
  },
  {
   "cell_type": "code",
   "execution_count": 36,
   "id": "e746a60e",
   "metadata": {},
   "outputs": [
    {
     "data": {
      "application/vnd.microsoft.datawrangler.viewer.v0+json": {
       "columns": [
        {
         "name": "index",
         "rawType": "int64",
         "type": "integer"
        },
        {
         "name": "id",
         "rawType": "int64",
         "type": "integer"
        },
        {
         "name": "brand",
         "rawType": "object",
         "type": "string"
        },
        {
         "name": "model",
         "rawType": "object",
         "type": "string"
        },
        {
         "name": "model_year",
         "rawType": "int64",
         "type": "integer"
        },
        {
         "name": "milage",
         "rawType": "int64",
         "type": "integer"
        },
        {
         "name": "fuel_type",
         "rawType": "object",
         "type": "unknown"
        },
        {
         "name": "engine",
         "rawType": "object",
         "type": "string"
        },
        {
         "name": "transmission",
         "rawType": "object",
         "type": "string"
        },
        {
         "name": "ext_col",
         "rawType": "object",
         "type": "string"
        },
        {
         "name": "int_col",
         "rawType": "object",
         "type": "string"
        },
        {
         "name": "accident",
         "rawType": "bool",
         "type": "boolean"
        },
        {
         "name": "price",
         "rawType": "int64",
         "type": "integer"
        },
        {
         "name": "transmission_types",
         "rawType": "object",
         "type": "string"
        },
        {
         "name": "transmission_num",
         "rawType": "int64",
         "type": "integer"
        },
        {
         "name": "engine_cc",
         "rawType": "float64",
         "type": "float"
        },
        {
         "name": "engine_hp",
         "rawType": "float64",
         "type": "float"
        },
        {
         "name": "engine_cylinder",
         "rawType": "float64",
         "type": "float"
        }
       ],
       "conversionMethod": "pd.DataFrame",
       "ref": "c30aff28-4494-45dc-89f9-7f90676778f1",
       "rows": [
        [
         "14693",
         "14693",
         "Hyundai",
         "Santa Fe SEL",
         "2022",
         "13865",
         "Gasoline",
         "2.5L I4 16V PDI DOHC",
         "8-Speed Automatic",
         "Black",
         "Black",
         "False",
         "2954083",
         "Automatic",
         "8",
         "2500.0",
         null,
         "4.0"
        ],
        [
         "1880",
         "1880",
         "Chrysler",
         "300C Base",
         "2003",
         "55900",
         "Gasoline",
         "340.0HP 5.7L 8 Cylinder Engine Gasoline Fuel",
         "5-Speed A/T",
         "Beige",
         "Beige",
         "False",
         "2954083",
         "Automatic",
         "5",
         "5700.0",
         "340.0",
         "8.0"
        ],
        [
         "65043",
         "65043",
         "Mercedes-Benz",
         "AMG GLE AMG GLE 63 S-Model 4MATIC",
         "2017",
         "4590",
         "Gasoline",
         "577.0HP 5.5L 8 Cylinder Engine Gasoline Fuel",
         "Transmission w/Dual Shift Mode",
         "Gray",
         "Black",
         "False",
         "2954083",
         "Dual",
         "6",
         "5500.0",
         "577.0",
         "8.0"
        ],
        [
         "103061",
         "103061",
         "RAM",
         "1500 Classic Warlock",
         "2019",
         "36757",
         "Gasoline",
         "5.7L V8 16V MPFI OHV",
         "8-Speed Automatic",
         "Diamond Black",
         "Diesel Gray / Black",
         "False",
         "2954083",
         "Automatic",
         "8",
         "5700.0",
         null,
         "8.0"
        ],
        [
         "59650",
         "59650",
         "Toyota",
         "Highlander XLE",
         "2022",
         "13566",
         "Gasoline",
         "2.4L I4 16V PDI DOHC Turbo",
         "8-Speed Automatic",
         "Ruby Flare Pearl",
         "Black",
         "False",
         "2954083",
         "Automatic",
         "8",
         "2400.0",
         null,
         "4.0"
        ],
        [
         "72448",
         "72448",
         "Mercedes-Benz",
         "SL-Class SL550 Roadster",
         "2001",
         "113500",
         "Gasoline",
         "382.0HP 5.5L 8 Cylinder Engine Gasoline Fuel",
         "7-Speed A/T",
         "Red",
         "Black",
         "False",
         "2954083",
         "Automatic",
         "7",
         "5500.0",
         "382.0",
         "8.0"
        ],
        [
         "103189",
         "103189",
         "Dodge",
         "Ram 2500 Laramie Quad Cab",
         "2005",
         "27600",
         "Diesel",
         "250.0HP 5.9L Straight 6 Cylinder Engine Diesel Fuel",
         "4-Speed A/T",
         "Red",
         "Gray",
         "False",
         "2954083",
         "Automatic",
         "4",
         "5900.0",
         "250.0",
         "6.0"
        ],
        [
         "80269",
         "80269",
         "GMC",
         "Sierra 1500 SLE1 Extended Cab",
         "2020",
         "2750",
         "Gasoline",
         "5.3L V8 16V GDI OHV",
         "6-Speed Automatic",
         "Red",
         "Black",
         "False",
         "2954083",
         "Automatic",
         "6",
         "5300.0",
         null,
         "8.0"
        ],
        [
         "119162",
         "119162",
         "Ford",
         "Bronco Raptor",
         "2023",
         "4285",
         "Gasoline",
         "3.0L V6 24V GDI DOHC Twin Turbo",
         "10-Speed Automatic",
         "Oxford White",
         "Black",
         "False",
         "2954083",
         "Automatic",
         "10",
         "3000.0",
         null,
         "6.0"
        ],
        [
         "172766",
         "172766",
         "Lexus",
         "SC 430 Base",
         "2004",
         "89500",
         "Gasoline",
         "300.0HP 4.3L 8 Cylinder Engine Gasoline Fuel",
         "A/T",
         "Silver",
         "Black",
         "False",
         "2954083",
         "Automatic",
         "6",
         "4300.0",
         "300.0",
         "8.0"
        ],
        [
         "163487",
         "163487",
         "Land",
         "Rover Range Rover Sport HST MHEV",
         "2022",
         "16648",
         "Gasoline",
         "395.0HP 3.0L Straight 6 Cylinder Engine Gasoline/Mild Electric Hybrid",
         "8-Speed A/T",
         "Gray",
         "Black",
         "False",
         "2954083",
         "Automatic",
         "8",
         "3000.0",
         "395.0",
         "6.0"
        ],
        [
         "118167",
         "118167",
         "Chevrolet",
         "Corvette Base",
         "2007",
         "54323",
         "Gasoline",
         "430.0HP 6.2L 8 Cylinder Engine Gasoline Fuel",
         "A/T",
         "White",
         "Red",
         "False",
         "2954083",
         "Automatic",
         "6",
         "6200.0",
         "430.0",
         "8.0"
        ],
        [
         "36615",
         "36615",
         "Ford",
         "Excursion Limited Ultimate",
         "2002",
         "89900",
         "Diesel",
         "325.0HP 6.0L 8 Cylinder Engine Diesel Fuel",
         "5-Speed A/T",
         "Gold",
         "Gold",
         "False",
         "2954083",
         "Automatic",
         "5",
         "6000.0",
         "325.0",
         "8.0"
        ],
        [
         "81056",
         "81056",
         "Ford",
         "F-150 XL",
         "2022",
         "4200",
         "Gasoline",
         "2.7L V6 24V PDI DOHC Twin Turbo",
         "10-Speed Automatic",
         "Black",
         "Medium Dark Slate",
         "False",
         "2954083",
         "Automatic",
         "10",
         "2700.0",
         null,
         "6.0"
        ],
        [
         "16034",
         "16034",
         "Mercedes-Benz",
         "SL-Class SL500 Roadster",
         "2005",
         "34068",
         "Gasoline",
         "302.0HP 5.0L 8 Cylinder Engine Gasoline Fuel",
         "7-Speed A/T",
         "White",
         "Beige",
         "False",
         "2954083",
         "Automatic",
         "7",
         "5000.0",
         "302.0",
         "8.0"
        ],
        [
         "99283",
         "99283",
         "Land",
         "Rover Range Rover P525 HSE SWB",
         "2020",
         "65800",
         "Gasoline",
         "518.0HP 5.0L 8 Cylinder Engine Gasoline Fuel",
         "Transmission w/Dual Shift Mode",
         "White",
         "White",
         "False",
         "2954083",
         "Dual",
         "6",
         "5000.0",
         "518.0",
         "8.0"
        ],
        [
         "79269",
         "79269",
         "Ford",
         "Expedition Timberline",
         "2021",
         "7758",
         "Gasoline",
         "3.5L V6 24V PDI DOHC Twin Turbo",
         "10-Speed Automatic",
         "Blue",
         "Medium Earth Gray",
         "False",
         "2954083",
         "Automatic",
         "10",
         "3500.0",
         null,
         "6.0"
        ],
        [
         "181021",
         "181021",
         "Cadillac",
         "DeVille Base",
         "1994",
         "85200",
         null,
         "–",
         "A/T",
         "Green",
         "Beige",
         "False",
         "2954083",
         "Automatic",
         "4",
         null,
         null,
         null
        ],
        [
         "128002",
         "128002",
         "RAM",
         "1500 Laramie",
         "2022",
         "13500",
         "Gasoline",
         "5.7L V8 16V MPFI OHV",
         "8-Speed Automatic",
         "Black",
         "Black",
         "False",
         "2954083",
         "Automatic",
         "8",
         "5700.0",
         null,
         "8.0"
        ],
        [
         "96473",
         "96473",
         "Ford",
         "Expedition Max Limited",
         "2022",
         "18160",
         "Gasoline",
         "3.5L V6 24V PDI DOHC Twin Turbo",
         "10-Speed Automatic",
         "Oxford White",
         "Camel Leather",
         "False",
         "2954083",
         "Automatic",
         "10",
         "3500.0",
         null,
         "6.0"
        ],
        [
         "84731",
         "84731",
         "Mercedes-Benz",
         "AMG GT 53 Base",
         "2023",
         "2823",
         "Gasoline",
         "4.0L V8 32V GDI DOHC Twin Turbo",
         "9-Speed Automatic",
         "Beluga Black",
         "Black",
         "False",
         "2954083",
         "Automatic",
         "9",
         "4000.0",
         null,
         "8.0"
        ],
        [
         "66224",
         "66224",
         "Chevrolet",
         "Corvette Base",
         "2005",
         "23133",
         "Gasoline",
         "400.0HP 6.0L 8 Cylinder Engine Gasoline Fuel",
         "6-Speed M/T",
         "Gold",
         "Beige",
         "False",
         "2954083",
         "Manual",
         "6",
         "6000.0",
         "400.0",
         "8.0"
        ],
        [
         "150549",
         "150549",
         "RAM",
         "1500 Limited",
         "2018",
         "48306",
         "Gasoline",
         "395.0HP 5.7L 8 Cylinder Engine Gasoline Fuel",
         "8-Speed A/T",
         "Black",
         "Gray",
         "False",
         "2954083",
         "Automatic",
         "8",
         "5700.0",
         "395.0",
         "8.0"
        ],
        [
         "74189",
         "74189",
         "Mercedes-Benz",
         "Metris Base",
         "2020",
         "9686",
         "Gasoline",
         "2.0L I4 16V GDI DOHC Turbo",
         "8-Speed Automatic",
         "Black",
         "Black",
         "False",
         "2954083",
         "Automatic",
         "8",
         "2000.0",
         null,
         "4.0"
        ],
        [
         "46159",
         "46159",
         "Chevrolet",
         "Tahoe LT",
         "2018",
         "83858",
         "E85 Flex Fuel",
         "5.3L V8 16V MPFI OHV Flexible Fuel",
         "6-Speed Automatic",
         "Silver",
         "Jet Black",
         "False",
         "2954083",
         "Automatic",
         "6",
         "5300.0",
         null,
         "8.0"
        ],
        [
         "220",
         "220",
         "Ford",
         "F-150 XLT",
         "2021",
         "26315",
         "Gasoline",
         "3.5L V6 24V PDI DOHC Twin Turbo",
         "10-Speed Automatic",
         "Agate Black Metallic",
         "Black",
         "False",
         "2954083",
         "Automatic",
         "10",
         "3500.0",
         null,
         "6.0"
        ],
        [
         "138122",
         "138122",
         "Cadillac",
         "Escalade Premium Luxury Platinum",
         "2021",
         "61830",
         "Gasoline",
         "6.2L V8 16V GDI OHV",
         "10-Speed Automatic",
         "Sandstone Metallic",
         "Dark Auburn",
         "False",
         "2954083",
         "Automatic",
         "10",
         "6200.0",
         null,
         "8.0"
        ],
        [
         "85611",
         "85611",
         "Chevrolet",
         "Silverado 1500 Custom Trail Boss",
         "2022",
         "5072",
         "Gasoline",
         "5.3L V8 16V GDI OHV",
         "Automatic",
         "White",
         "Jet Black",
         "False",
         "2954083",
         "Automatic",
         "6",
         "5300.0",
         null,
         "8.0"
        ],
        [
         "157056",
         "157056",
         "Cadillac",
         "XT5 Luxury",
         "2021",
         "16156",
         "Gasoline",
         "3.6L V6 24V MPFI DOHC",
         "8-Speed Automatic",
         "Shadow Black",
         "Shara Beige",
         "False",
         "2954083",
         "Automatic",
         "8",
         "3600.0",
         null,
         "6.0"
        ],
        [
         "176936",
         "176936",
         "Cadillac",
         "Escalade ESV Platinum",
         "2015",
         "73800",
         "Gasoline",
         "420.0HP 6.2L 8 Cylinder Engine Gasoline Fuel",
         "8-Speed A/T",
         "Black",
         "Black",
         "False",
         "2954083",
         "Automatic",
         "8",
         "6200.0",
         "420.0",
         "8.0"
        ],
        [
         "97654",
         "97654",
         "Pontiac",
         "Firebird Trans Am",
         "2001",
         "64776",
         "Gasoline",
         "200.0HP 3.8L V6 Cylinder Engine Gasoline Fuel",
         "4-Speed A/T",
         "White",
         "Beige",
         "False",
         "2954083",
         "Automatic",
         "4",
         "3800.0",
         "200.0",
         "6.0"
        ],
        [
         "43218",
         "43218",
         "Tesla",
         "Model 3 Long Range",
         "2021",
         "22457",
         null,
         "Electric",
         "1-Speed Automatic",
         "White",
         "Black",
         "False",
         "2954083",
         "Automatic",
         "1",
         null,
         null,
         null
        ],
        [
         "42177",
         "42177",
         "Ford",
         "Mustang GT",
         "2005",
         "82000",
         "Gasoline",
         "300.0HP 4.6L 8 Cylinder Engine Gasoline Fuel",
         "5-Speed M/T",
         "Silver",
         "Black",
         "False",
         "2954083",
         "Manual",
         "5",
         "4600.0",
         "300.0",
         "8.0"
        ],
        [
         "21814",
         "21814",
         "RAM",
         "1500 Laramie",
         "2022",
         "16156",
         "Gasoline",
         "5.7L V8 16V MPFI OHV",
         "8-Speed Automatic",
         "Diamond Black",
         "Black",
         "False",
         "2954083",
         "Automatic",
         "8",
         "5700.0",
         null,
         "8.0"
        ],
        [
         "79469",
         "79469",
         "Aston",
         "Martin DB7 Vantage Volante",
         "2005",
         "89900",
         "Gasoline",
         "420.0HP 5.9L 12 Cylinder Engine Gasoline Fuel",
         "6-Speed M/T",
         "White",
         "Beige",
         "False",
         "2954083",
         "Manual",
         "6",
         "5900.0",
         "420.0",
         "12.0"
        ],
        [
         "89180",
         "89180",
         "Ford",
         "Expedition Max King Ranch",
         "2021",
         "45979",
         "Gasoline",
         "3.5L V6 24V PDI DOHC Twin Turbo",
         "10-Speed Automatic",
         "Black",
         "Sandstone",
         "False",
         "2954083",
         "Automatic",
         "10",
         "3500.0",
         null,
         "6.0"
        ],
        [
         "55493",
         "55493",
         "Lexus",
         "LS 430 Base",
         "2002",
         "27600",
         "Gasoline",
         "290.0HP 4.3L 8 Cylinder Engine Gasoline Fuel",
         "5-Speed A/T",
         "Silver",
         "Gray",
         "False",
         "2954083",
         "Automatic",
         "5",
         "4300.0",
         "290.0",
         "8.0"
        ],
        [
         "55428",
         "55428",
         "Lexus",
         "LS 430 Base",
         "2004",
         "39750",
         "Gasoline",
         "278.0HP 4.3L 8 Cylinder Engine Gasoline Fuel",
         "A/T",
         "Silver",
         "Red",
         "False",
         "2954083",
         "Automatic",
         "6",
         "4300.0",
         "278.0",
         "8.0"
        ],
        [
         "49575",
         "49575",
         "RAM",
         "1500 Laramie",
         "2022",
         "13610",
         "Gasoline",
         "5.7L V8 16V MPFI OHV",
         "8-Speed Automatic",
         "Silver Ice Metallic",
         "Black",
         "False",
         "2954083",
         "Automatic",
         "8",
         "5700.0",
         null,
         "8.0"
        ],
        [
         "92612",
         "92612",
         "Lexus",
         "ES 350 Base",
         "2008",
         "132252",
         "Gasoline",
         "272.0HP 3.5L V6 Cylinder Engine Gasoline Fuel",
         "6-Speed A/T",
         "White",
         "Beige",
         "True",
         "2954083",
         "Automatic",
         "6",
         "3500.0",
         "272.0",
         "6.0"
        ],
        [
         "67957",
         "67957",
         "Land",
         "Rover Range Rover 5.0L Supercharged Autobiography LWB",
         "2017",
         "67280",
         "Gasoline",
         "518.0HP 5.0L 8 Cylinder Engine Gasoline Fuel",
         "8-Speed A/T",
         "White",
         "Black",
         "True",
         "2954083",
         "Automatic",
         "8",
         "5000.0",
         "518.0",
         "8.0"
        ],
        [
         "129054",
         "129054",
         "INFINITI",
         "QX60 Base",
         "2017",
         "84224",
         "Gasoline",
         "265.0HP 3.5L V6 Cylinder Engine Gasoline Fuel",
         "A/T",
         "Black",
         "Black",
         "True",
         "2954083",
         "Automatic",
         "7",
         "3500.0",
         "265.0",
         "6.0"
        ],
        [
         "183006",
         "183006",
         "Land",
         "Rover LR4 Lux",
         "2010",
         "73846",
         "Gasoline",
         "5.0L V8 32V PDI DOHC",
         "8-Speed Automatic",
         "Black",
         "Black",
         "True",
         "2954083",
         "Automatic",
         "8",
         "5000.0",
         null,
         "8.0"
        ],
        [
         "151415",
         "151415",
         "Ford",
         "Thunderbird Deluxe",
         "2008",
         "95170",
         "Gasoline",
         "280.0HP 3.9L 8 Cylinder Engine Gasoline Fuel",
         "A/T",
         "Gray",
         "Black",
         "False",
         "2954083",
         "Automatic",
         "6",
         "3900.0",
         "280.0",
         "8.0"
        ],
        [
         "129013",
         "129013",
         "Mercedes-Benz",
         "SL-Class SL600 Roadster",
         "2005",
         "32000",
         "Gasoline",
         "493.0HP 5.5L 12 Cylinder Engine Gasoline Fuel",
         "5-Speed A/T",
         "White",
         "Beige",
         "False",
         "2954083",
         "Automatic",
         "5",
         "5500.0",
         "493.0",
         "12.0"
        ],
        [
         "183468",
         "183468",
         "Bentley",
         "Continental GT V8",
         "2021",
         "59766",
         "Gasoline",
         "4.0L V8 32V GDI DOHC Twin Turbo",
         "8-Speed Automatic",
         "Dark Sapphire",
         "Linen",
         "False",
         "2954083",
         "Automatic",
         "8",
         "4000.0",
         null,
         "8.0"
        ],
        [
         "18946",
         "18946",
         "Audi",
         "S4 Base",
         "2004",
         "73500",
         "Gasoline",
         "340.0HP 4.2L 8 Cylinder Engine Gasoline Fuel",
         "6-Speed M/T",
         "Blue",
         "Beige",
         "False",
         "2954083",
         "Manual",
         "6",
         "4200.0",
         "340.0",
         "8.0"
        ],
        [
         "13838",
         "13838",
         "Toyota",
         "Highlander SE",
         "2014",
         "85000",
         "Gasoline",
         "3.5L V6 24V PDI DOHC",
         "8-Speed Automatic",
         "Green",
         "Black",
         "False",
         "2954083",
         "Automatic",
         "8",
         "3500.0",
         null,
         "6.0"
        ],
        [
         "42219",
         "42219",
         "Land",
         "Rover Range Rover 3.0L V6 Supercharged HSE",
         "2021",
         "29850",
         "Gasoline",
         "380.0HP 3.0L V6 Cylinder Engine Gasoline Fuel",
         "Transmission w/Dual Shift Mode",
         "White",
         "Black",
         "False",
         "2954083",
         "Dual",
         "6",
         "3000.0",
         "380.0",
         "6.0"
        ],
        [
         "160629",
         "160629",
         "Honda",
         "Pilot Elite",
         "2021",
         "42653",
         "Gasoline",
         "3.5L V6 24V GDI SOHC",
         "9-Speed Automatic",
         "Gray",
         "Black",
         "False",
         "2954083",
         "Automatic",
         "9",
         "3500.0",
         null,
         "6.0"
        ]
       ],
       "shape": {
        "columns": 17,
        "rows": 188533
       }
      },
      "text/html": [
       "<div>\n",
       "<style scoped>\n",
       "    .dataframe tbody tr th:only-of-type {\n",
       "        vertical-align: middle;\n",
       "    }\n",
       "\n",
       "    .dataframe tbody tr th {\n",
       "        vertical-align: top;\n",
       "    }\n",
       "\n",
       "    .dataframe thead th {\n",
       "        text-align: right;\n",
       "    }\n",
       "</style>\n",
       "<table border=\"1\" class=\"dataframe\">\n",
       "  <thead>\n",
       "    <tr style=\"text-align: right;\">\n",
       "      <th></th>\n",
       "      <th>id</th>\n",
       "      <th>brand</th>\n",
       "      <th>model</th>\n",
       "      <th>model_year</th>\n",
       "      <th>milage</th>\n",
       "      <th>fuel_type</th>\n",
       "      <th>engine</th>\n",
       "      <th>transmission</th>\n",
       "      <th>ext_col</th>\n",
       "      <th>int_col</th>\n",
       "      <th>accident</th>\n",
       "      <th>price</th>\n",
       "      <th>transmission_types</th>\n",
       "      <th>transmission_num</th>\n",
       "      <th>engine_cc</th>\n",
       "      <th>engine_hp</th>\n",
       "      <th>engine_cylinder</th>\n",
       "    </tr>\n",
       "  </thead>\n",
       "  <tbody>\n",
       "    <tr>\n",
       "      <th>14693</th>\n",
       "      <td>14693</td>\n",
       "      <td>Hyundai</td>\n",
       "      <td>Santa Fe SEL</td>\n",
       "      <td>2022</td>\n",
       "      <td>13865</td>\n",
       "      <td>Gasoline</td>\n",
       "      <td>2.5L I4 16V PDI DOHC</td>\n",
       "      <td>8-Speed Automatic</td>\n",
       "      <td>Black</td>\n",
       "      <td>Black</td>\n",
       "      <td>False</td>\n",
       "      <td>2954083</td>\n",
       "      <td>Automatic</td>\n",
       "      <td>8</td>\n",
       "      <td>2500.0</td>\n",
       "      <td>NaN</td>\n",
       "      <td>4.0</td>\n",
       "    </tr>\n",
       "    <tr>\n",
       "      <th>1880</th>\n",
       "      <td>1880</td>\n",
       "      <td>Chrysler</td>\n",
       "      <td>300C Base</td>\n",
       "      <td>2003</td>\n",
       "      <td>55900</td>\n",
       "      <td>Gasoline</td>\n",
       "      <td>340.0HP 5.7L 8 Cylinder Engine Gasoline Fuel</td>\n",
       "      <td>5-Speed A/T</td>\n",
       "      <td>Beige</td>\n",
       "      <td>Beige</td>\n",
       "      <td>False</td>\n",
       "      <td>2954083</td>\n",
       "      <td>Automatic</td>\n",
       "      <td>5</td>\n",
       "      <td>5700.0</td>\n",
       "      <td>340.0</td>\n",
       "      <td>8.0</td>\n",
       "    </tr>\n",
       "    <tr>\n",
       "      <th>65043</th>\n",
       "      <td>65043</td>\n",
       "      <td>Mercedes-Benz</td>\n",
       "      <td>AMG GLE AMG GLE 63 S-Model 4MATIC</td>\n",
       "      <td>2017</td>\n",
       "      <td>4590</td>\n",
       "      <td>Gasoline</td>\n",
       "      <td>577.0HP 5.5L 8 Cylinder Engine Gasoline Fuel</td>\n",
       "      <td>Transmission w/Dual Shift Mode</td>\n",
       "      <td>Gray</td>\n",
       "      <td>Black</td>\n",
       "      <td>False</td>\n",
       "      <td>2954083</td>\n",
       "      <td>Dual</td>\n",
       "      <td>6</td>\n",
       "      <td>5500.0</td>\n",
       "      <td>577.0</td>\n",
       "      <td>8.0</td>\n",
       "    </tr>\n",
       "    <tr>\n",
       "      <th>103061</th>\n",
       "      <td>103061</td>\n",
       "      <td>RAM</td>\n",
       "      <td>1500 Classic Warlock</td>\n",
       "      <td>2019</td>\n",
       "      <td>36757</td>\n",
       "      <td>Gasoline</td>\n",
       "      <td>5.7L V8 16V MPFI OHV</td>\n",
       "      <td>8-Speed Automatic</td>\n",
       "      <td>Diamond Black</td>\n",
       "      <td>Diesel Gray / Black</td>\n",
       "      <td>False</td>\n",
       "      <td>2954083</td>\n",
       "      <td>Automatic</td>\n",
       "      <td>8</td>\n",
       "      <td>5700.0</td>\n",
       "      <td>NaN</td>\n",
       "      <td>8.0</td>\n",
       "    </tr>\n",
       "    <tr>\n",
       "      <th>59650</th>\n",
       "      <td>59650</td>\n",
       "      <td>Toyota</td>\n",
       "      <td>Highlander XLE</td>\n",
       "      <td>2022</td>\n",
       "      <td>13566</td>\n",
       "      <td>Gasoline</td>\n",
       "      <td>2.4L I4 16V PDI DOHC Turbo</td>\n",
       "      <td>8-Speed Automatic</td>\n",
       "      <td>Ruby Flare Pearl</td>\n",
       "      <td>Black</td>\n",
       "      <td>False</td>\n",
       "      <td>2954083</td>\n",
       "      <td>Automatic</td>\n",
       "      <td>8</td>\n",
       "      <td>2400.0</td>\n",
       "      <td>NaN</td>\n",
       "      <td>4.0</td>\n",
       "    </tr>\n",
       "    <tr>\n",
       "      <th>...</th>\n",
       "      <td>...</td>\n",
       "      <td>...</td>\n",
       "      <td>...</td>\n",
       "      <td>...</td>\n",
       "      <td>...</td>\n",
       "      <td>...</td>\n",
       "      <td>...</td>\n",
       "      <td>...</td>\n",
       "      <td>...</td>\n",
       "      <td>...</td>\n",
       "      <td>...</td>\n",
       "      <td>...</td>\n",
       "      <td>...</td>\n",
       "      <td>...</td>\n",
       "      <td>...</td>\n",
       "      <td>...</td>\n",
       "      <td>...</td>\n",
       "    </tr>\n",
       "    <tr>\n",
       "      <th>758</th>\n",
       "      <td>758</td>\n",
       "      <td>Pontiac</td>\n",
       "      <td>Firebird Trans Am</td>\n",
       "      <td>2001</td>\n",
       "      <td>150000</td>\n",
       "      <td>Gasoline</td>\n",
       "      <td>310.0HP 5.7L 8 Cylinder Engine Gasoline Fuel</td>\n",
       "      <td>A/T</td>\n",
       "      <td>Black</td>\n",
       "      <td>Beige</td>\n",
       "      <td>False</td>\n",
       "      <td>2000</td>\n",
       "      <td>Automatic</td>\n",
       "      <td>4</td>\n",
       "      <td>5700.0</td>\n",
       "      <td>310.0</td>\n",
       "      <td>8.0</td>\n",
       "    </tr>\n",
       "    <tr>\n",
       "      <th>128877</th>\n",
       "      <td>128877</td>\n",
       "      <td>Hyundai</td>\n",
       "      <td>Tucson SE</td>\n",
       "      <td>2007</td>\n",
       "      <td>16200</td>\n",
       "      <td>Gasoline</td>\n",
       "      <td>173.0HP 2.7L V6 Cylinder Engine Gasoline Fuel</td>\n",
       "      <td>A/T</td>\n",
       "      <td>Silver</td>\n",
       "      <td>Gray</td>\n",
       "      <td>False</td>\n",
       "      <td>2000</td>\n",
       "      <td>Automatic</td>\n",
       "      <td>4</td>\n",
       "      <td>2700.0</td>\n",
       "      <td>173.0</td>\n",
       "      <td>6.0</td>\n",
       "    </tr>\n",
       "    <tr>\n",
       "      <th>121877</th>\n",
       "      <td>121877</td>\n",
       "      <td>Mercedes-Benz</td>\n",
       "      <td>CLK-Class 500 Cabriolet</td>\n",
       "      <td>2001</td>\n",
       "      <td>127131</td>\n",
       "      <td>Gasoline</td>\n",
       "      <td>302.0HP 5.0L 8 Cylinder Engine Gasoline Fuel</td>\n",
       "      <td>A/T</td>\n",
       "      <td>Silver</td>\n",
       "      <td>Black</td>\n",
       "      <td>True</td>\n",
       "      <td>2000</td>\n",
       "      <td>Automatic</td>\n",
       "      <td>6</td>\n",
       "      <td>5000.0</td>\n",
       "      <td>302.0</td>\n",
       "      <td>8.0</td>\n",
       "    </tr>\n",
       "    <tr>\n",
       "      <th>31264</th>\n",
       "      <td>31264</td>\n",
       "      <td>Volkswagen</td>\n",
       "      <td>Golf GTI 2.0T SE 4-Door</td>\n",
       "      <td>2012</td>\n",
       "      <td>132000</td>\n",
       "      <td>Gasoline</td>\n",
       "      <td>210.0HP 2.0L 4 Cylinder Engine Gasoline Fuel</td>\n",
       "      <td>6-Speed M/T</td>\n",
       "      <td>White</td>\n",
       "      <td>Black</td>\n",
       "      <td>False</td>\n",
       "      <td>2000</td>\n",
       "      <td>Manual</td>\n",
       "      <td>6</td>\n",
       "      <td>2000.0</td>\n",
       "      <td>210.0</td>\n",
       "      <td>4.0</td>\n",
       "    </tr>\n",
       "    <tr>\n",
       "      <th>155411</th>\n",
       "      <td>155411</td>\n",
       "      <td>Audi</td>\n",
       "      <td>A5 2.0T Premium Plus</td>\n",
       "      <td>2012</td>\n",
       "      <td>130000</td>\n",
       "      <td>Gasoline</td>\n",
       "      <td>211.0HP 2.0L 4 Cylinder Engine Gasoline Fuel</td>\n",
       "      <td>A/T</td>\n",
       "      <td>Silver</td>\n",
       "      <td>Black</td>\n",
       "      <td>True</td>\n",
       "      <td>2000</td>\n",
       "      <td>Automatic</td>\n",
       "      <td>8</td>\n",
       "      <td>2000.0</td>\n",
       "      <td>211.0</td>\n",
       "      <td>4.0</td>\n",
       "    </tr>\n",
       "  </tbody>\n",
       "</table>\n",
       "<p>188533 rows × 17 columns</p>\n",
       "</div>"
      ],
      "text/plain": [
       "            id          brand                              model  model_year  milage fuel_type                                         engine                    transmission           ext_col              int_col  accident    price transmission_types  transmission_num  engine_cc  engine_hp  engine_cylinder\n",
       "14693    14693        Hyundai                       Santa Fe SEL        2022   13865  Gasoline                           2.5L I4 16V PDI DOHC               8-Speed Automatic             Black                Black     False  2954083          Automatic                 8     2500.0        NaN              4.0\n",
       "1880      1880       Chrysler                          300C Base        2003   55900  Gasoline   340.0HP 5.7L 8 Cylinder Engine Gasoline Fuel                     5-Speed A/T             Beige                Beige     False  2954083          Automatic                 5     5700.0      340.0              8.0\n",
       "65043    65043  Mercedes-Benz  AMG GLE AMG GLE 63 S-Model 4MATIC        2017    4590  Gasoline   577.0HP 5.5L 8 Cylinder Engine Gasoline Fuel  Transmission w/Dual Shift Mode              Gray                Black     False  2954083               Dual                 6     5500.0      577.0              8.0\n",
       "103061  103061            RAM               1500 Classic Warlock        2019   36757  Gasoline                           5.7L V8 16V MPFI OHV               8-Speed Automatic     Diamond Black  Diesel Gray / Black     False  2954083          Automatic                 8     5700.0        NaN              8.0\n",
       "59650    59650         Toyota                     Highlander XLE        2022   13566  Gasoline                     2.4L I4 16V PDI DOHC Turbo               8-Speed Automatic  Ruby Flare Pearl                Black     False  2954083          Automatic                 8     2400.0        NaN              4.0\n",
       "...        ...            ...                                ...         ...     ...       ...                                            ...                             ...               ...                  ...       ...      ...                ...               ...        ...        ...              ...\n",
       "758        758        Pontiac                  Firebird Trans Am        2001  150000  Gasoline   310.0HP 5.7L 8 Cylinder Engine Gasoline Fuel                             A/T             Black                Beige     False     2000          Automatic                 4     5700.0      310.0              8.0\n",
       "128877  128877        Hyundai                          Tucson SE        2007   16200  Gasoline  173.0HP 2.7L V6 Cylinder Engine Gasoline Fuel                             A/T            Silver                 Gray     False     2000          Automatic                 4     2700.0      173.0              6.0\n",
       "121877  121877  Mercedes-Benz            CLK-Class 500 Cabriolet        2001  127131  Gasoline   302.0HP 5.0L 8 Cylinder Engine Gasoline Fuel                             A/T            Silver                Black      True     2000          Automatic                 6     5000.0      302.0              8.0\n",
       "31264    31264     Volkswagen            Golf GTI 2.0T SE 4-Door        2012  132000  Gasoline   210.0HP 2.0L 4 Cylinder Engine Gasoline Fuel                     6-Speed M/T             White                Black     False     2000             Manual                 6     2000.0      210.0              4.0\n",
       "155411  155411           Audi               A5 2.0T Premium Plus        2012  130000  Gasoline   211.0HP 2.0L 4 Cylinder Engine Gasoline Fuel                             A/T            Silver                Black      True     2000          Automatic                 8     2000.0      211.0              4.0\n",
       "\n",
       "[188533 rows x 17 columns]"
      ]
     },
     "execution_count": 36,
     "metadata": {},
     "output_type": "execute_result"
    }
   ],
   "source": [
    "# First let's check the top pricy cars\n",
    "df_car_sorted_price_desc = df_car.sort_values(by='price', ascending=False)\n",
    "df_car_sorted_price_desc"
   ]
  },
  {
   "cell_type": "code",
   "execution_count": 37,
   "id": "ef6a0ad8",
   "metadata": {},
   "outputs": [
    {
     "name": "stdout",
     "output_type": "stream",
     "text": [
      "Number of rows with the same price as the previous row: 400\n"
     ]
    }
   ],
   "source": [
    "# Identify rows where the price is the same as the previous row\n",
    "price_same_as_previous = df_car['price'] == df_car['price'].shift(1)\n",
    "count_same_prices = price_same_as_previous.sum()\n",
    "print(f\"Number of rows with the same price as the previous row: {count_same_prices}\")"
   ]
  },
  {
   "cell_type": "code",
   "execution_count": 38,
   "id": "96808fe4",
   "metadata": {},
   "outputs": [
    {
     "name": "stdout",
     "output_type": "stream",
     "text": [
      "Estimated number of rows in blocks of 5 with uniform price: 0\n"
     ]
    }
   ],
   "source": [
    "# Let's check if the prices are repeated in blocks of X qty <--- by checking: 50=0   20=0  10=0   5=0\n",
    "block_size = 5\n",
    "num_rows = len(df_car)\n",
    "suspicious_rows = 0\n",
    "for i in range(0, num_rows - block_size, block_size):\n",
    "    first_price_block = df_car['price'].iloc[i]\n",
    "    uniform_price = (df_car['price'].iloc[i:i + block_size] == first_price_block).all()\n",
    "    if uniform_price:\n",
    "        suspicious_rows += block_size\n",
    "print(f\"Estimated number of rows in blocks of {block_size} with uniform price: {suspicious_rows}\")"
   ]
  },
  {
   "cell_type": "code",
   "execution_count": 39,
   "id": "e457354a",
   "metadata": {},
   "outputs": [
    {
     "name": "stdout",
     "output_type": "stream",
     "text": [
      "Length of identical prices repeated (array([1, 2, 3]), array([187735,    396,      2]))\n"
     ]
    }
   ],
   "source": [
    "prices = df_car['price'].values\n",
    "changes = np.where(prices[:-1] != prices[1:])[0] + 1\n",
    "length = np.diff(np.concatenate(([0], changes, [len(prices)])))\n",
    "print(\"Length of identical prices repeated\", np.unique(length, return_counts=True))\n",
    "# 187,735 lines that do not repeat the price\n",
    "# 396 times the price is repeated twice in a row\n",
    "#  2 times the price is repeated three times in a row"
   ]
  },
  {
   "cell_type": "code",
   "execution_count": 40,
   "id": "b54961e8",
   "metadata": {},
   "outputs": [
    {
     "data": {
      "text/plain": [
       "price\n",
       "15000    1920\n",
       "12000    1459\n",
       "30000    1280\n",
       "29000    1228\n",
       "8500     1204\n",
       "Name: count, dtype: int64"
      ]
     },
     "execution_count": 40,
     "metadata": {},
     "output_type": "execute_result"
    }
   ],
   "source": [
    "# Checking the top 5 most repeated prices\n",
    "prices_count = df_car['price'].value_counts() # 15000 repeated 1920 times | 12000 repeated 1459 times |30000 repeated 1280 times|29000 repeated 1228 times|8500 repeated 1204 times\n",
    "prices_count.head()"
   ]
  },
  {
   "cell_type": "code",
   "execution_count": 41,
   "id": "9f8af1b3",
   "metadata": {},
   "outputs": [
    {
     "name": "stdout",
     "output_type": "stream",
     "text": [
      "Original DataFrame size: 188533\n",
      "DataFrame size after removing suspicious prices: 181442\n"
     ]
    },
    {
     "data": {
      "image/png": "[encoded data removed]",
      "text/plain": [
       "<Figure size 1000x600 with 1 Axes>"
      ]
     },
     "metadata": {},
     "output_type": "display_data"
    },
    {
     "data": {
      "image/png": "[encoded data removed]",
      "text/plain": [
       "<Figure size 800x600 with 1 Axes>"
      ]
     },
     "metadata": {},
     "output_type": "display_data"
    }
   ],
   "source": [
    "suspicious_prices = prices_count.head(5).index.tolist() \n",
    "df_car_checking = df_car[~df_car['price'].isin(suspicious_prices)]\n",
    "print(f\"Original DataFrame size: {len(df_car)}\")\n",
    "print(f\"DataFrame size after removing suspicious prices: {len(df_car_checking)}\")\n",
    "\n",
    "# Re-analyze the price distribution in df_car_checking\n",
    "plt.figure(figsize=(10, 6))\n",
    "sns.histplot(df_car_checking['price'], kde=True)\n",
    "plt.title('Price Distribution (after removing suspicious prices)')\n",
    "plt.xlabel('Price')\n",
    "plt.ylabel('Frequency')\n",
    "plt.show()\n",
    "\n",
    "plt.figure(figsize=(8, 6))\n",
    "sns.boxplot(x=df_car_checking['price'])\n",
    "plt.title('Price Boxplot (after removing suspicious prices)')\n",
    "plt.xlabel('Price')\n",
    "plt.show()"
   ]
  },
  {
   "cell_type": "code",
   "execution_count": 42,
   "id": "32dee3a3",
   "metadata": {},
   "outputs": [
    {
     "data": {
      "image/png": "[encoded data removed]",
      "text/plain": [
       "<Figure size 1200x400 with 1 Axes>"
      ]
     },
     "metadata": {},
     "output_type": "display_data"
    },
    {
     "data": {
      "image/png": "[encoded data removed]",
      "text/plain": [
       "<Figure size 1270x200 with 1 Axes>"
      ]
     },
     "metadata": {},
     "output_type": "display_data"
    }
   ],
   "source": [
    "plt.figure(figsize=(12, 4))\n",
    "sns.scatterplot(x=df_car.index, y=df_car['price'])\n",
    "plt.title('Scatterplot PRICE')\n",
    "plt.xlabel('DataFrame Index')\n",
    "plt.ylabel('Price')\n",
    "plt.show()\n",
    "\n",
    "# Otra opción con strip plot\n",
    "plt.figure(figsize=(12.7, 2))\n",
    "sns.stripplot(x='price', data=df_car, jitter=True) # jitter añade dispersión para ver puntos superpuestos\n",
    "plt.title('Strip Plot of PRICE')\n",
    "plt.xlabel('Price')\n",
    "plt.show()"
   ]
  },
  {
   "cell_type": "markdown",
   "id": "15c3a3b4",
   "metadata": {},
   "source": [
    "Studying how to impute <span style=\"color:#ffc509;\">  [\"price\"] </span>"
   ]
  },
  {
   "cell_type": "code",
   "execution_count": 43,
   "id": "e93cf24e",
   "metadata": {},
   "outputs": [
    {
     "name": "stdout",
     "output_type": "stream",
     "text": [
      "Qty of cars by range price:\n",
      "price_range_analysis\n",
      "0-500K     188181\n",
      "500K-1M       204\n",
      "1M-1.5M         0\n",
      ">1.5M         148\n",
      "Name: count, dtype: int64\n",
      "\n",
      "Percentages of cars by range price:\n",
      "price_range_analysis\n",
      "0-500K     99.81\n",
      "500K-1M     0.11\n",
      "1M-1.5M     0.00\n",
      ">1.5M       0.08\n",
      "Name: count, dtype: float64\n"
     ]
    }
   ],
   "source": [
    "price_bins = [0, 500000, 1000000, 1500000, df_car['price'].max() + 1]\n",
    "price_labels = ['0-500K', '500K-1M', '1M-1.5M', '>1.5M']\n",
    "\n",
    "# Creating new column with range for analysis purposes, this will be erased later\n",
    "df_car['price_range_analysis'] = pd.cut(df_car['price'], bins=price_bins, labels=price_labels, right=False)\n",
    "\n",
    "# Qty of cars by range price\n",
    "price_range_counts = df_car['price_range_analysis'].value_counts().sort_index()\n",
    "\n",
    "# 4. Imprimir los resultados\n",
    "print(f\"Qty of cars by range price:\\n{price_range_counts}\")\n",
    "\n",
    "# Checking percentages\n",
    "price_range_percentages = (price_range_counts / len(df_car)) * 100\n",
    "print(\"\\nPercentages of cars by range price:\")\n",
    "print(price_range_percentages.round(2))"
   ]
  },
  {
   "cell_type": "code",
   "execution_count": 44,
   "id": "06d852c9",
   "metadata": {},
   "outputs": [
    {
     "name": "stdout",
     "output_type": "stream",
     "text": [
      "DataFrame after eliminating 500000:\n",
      "count    188181.000000\n",
      "mean      41534.308713\n",
      "std       44533.526283\n",
      "min        2000.000000\n",
      "25%       17000.000000\n",
      "50%       30599.000000\n",
      "75%       49685.000000\n",
      "max      491836.000000\n",
      "Name: price, dtype: float64\n"
     ]
    }
   ],
   "source": [
    "threshold = 500_000\n",
    "\n",
    "df_car = df_car[df_car['price'] <= threshold].copy()\n",
    "print(f\"DataFrame after eliminating {threshold}:\")\n",
    "print(df_car['price'].describe())"
   ]
  },
  {
   "cell_type": "code",
   "execution_count": 45,
   "id": "110b4815",
   "metadata": {},
   "outputs": [],
   "source": [
    "df_car = df_car.drop(columns=['price_range_analysis'])"
   ]
  },
  {
   "cell_type": "code",
   "execution_count": 46,
   "id": "09a7a693",
   "metadata": {},
   "outputs": [
    {
     "data": {
      "image/png": "[encoded data removed]",
      "text/plain": [
       "<Figure size 1000x600 with 1 Axes>"
      ]
     },
     "metadata": {},
     "output_type": "display_data"
    },
    {
     "data": {
      "image/png": "[encoded data removed]",
      "text/plain": [
       "<Figure size 800x600 with 1 Axes>"
      ]
     },
     "metadata": {},
     "output_type": "display_data"
    }
   ],
   "source": [
    "# Re-analyze the price distribution in df_car_checking\n",
    "plt.figure(figsize=(10, 6))\n",
    "sns.histplot(df_car_checking['price'], kde=True)\n",
    "plt.title('Price Distribution (after removing suspicious prices)')\n",
    "plt.xlabel('Price')\n",
    "plt.ylabel('Frequency')\n",
    "plt.show()\n",
    "\n",
    "plt.figure(figsize=(8, 6))\n",
    "sns.boxplot(x=df_car_checking['price'])\n",
    "plt.title('Price Boxplot (after removing suspicious prices)')\n",
    "plt.xlabel('Price')\n",
    "plt.show()"
   ]
  },
  {
   "cell_type": "code",
   "execution_count": 47,
   "id": "0315027d",
   "metadata": {},
   "outputs": [
    {
     "data": {
      "image/png": "[encoded data removed]",
      "text/plain": [
       "<Figure size 1000x600 with 1 Axes>"
      ]
     },
     "metadata": {},
     "output_type": "display_data"
    },
    {
     "data": {
      "image/png": "[encoded data removed]",
      "text/plain": [
       "<Figure size 800x600 with 1 Axes>"
      ]
     },
     "metadata": {},
     "output_type": "display_data"
    }
   ],
   "source": [
    "# Apply a logarithmic transformation to the 'price' column\n",
    "# We use np.log1p to handle potential zero values (although unlikely for price) and to make the transformation work even for values very close to zero.\n",
    "df_car['price_log'] = np.log1p(df_car['price'])\n",
    "\n",
    "# Visualize the distribution of the transformed price using a histogram\n",
    "plt.figure(figsize=(10, 6))\n",
    "sns.histplot(df_car['price_log'], kde=True) # kde=True adds a kernel density estimate line\n",
    "plt.title('Price Distribution (Log Transformed)') \n",
    "plt.xlabel('Log(Price + 1)') \n",
    "plt.ylabel('Frequency')\n",
    "plt.show() \n",
    "\n",
    "# Visualize the distribution of the transformed price using a boxplot\n",
    "plt.figure(figsize=(8, 6))\n",
    "sns.boxplot(x=df_car['price_log']) # Create a boxplot of the log-transformed price\n",
    "plt.title('Price Boxplot (Log Transformed)')\n",
    "plt.xlabel('Log(Price + 1)')\n",
    "plt.show()\n"
   ]
  },
  {
   "cell_type": "markdown",
   "id": "eae27783",
   "metadata": {},
   "source": [
    "### <span style=\"color:#fef377;\">  Saving CSV </span>"
   ]
  },
  {
   "cell_type": "markdown",
   "id": "2eb94a43",
   "metadata": {},
   "source": [
    "### <span style=\"color:#fef377;\">  Re arranging columns </span>"
   ]
  },
  {
   "cell_type": "code",
   "execution_count": 48,
   "id": "3525bec8",
   "metadata": {},
   "outputs": [
    {
     "data": {
      "text/plain": [
       "Index(['id', 'brand', 'model', 'model_year', 'milage', 'fuel_type', 'engine',\n",
       "       'transmission', 'ext_col', 'int_col', 'accident', 'price',\n",
       "       'transmission_types', 'transmission_num', 'engine_cc', 'engine_hp',\n",
       "       'engine_cylinder', 'price_log'],\n",
       "      dtype='object')"
      ]
     },
     "execution_count": 48,
     "metadata": {},
     "output_type": "execute_result"
    }
   ],
   "source": [
    "df_car.columns"
   ]
  },
  {
   "cell_type": "code",
   "execution_count": 49,
   "id": "73f35382",
   "metadata": {},
   "outputs": [],
   "source": [
    "df_car = df_car[[\"id\", \"brand\", \"model\", \"model_year\", \"milage\", \"fuel_type\", \n",
    "                 \"engine\", \"engine_hp\" , \"engine_cc\", \"engine_cylinder\",\n",
    "                 \"transmission\", \"transmission_types\", \"transmission_num\",\n",
    "                 \"ext_col\", \"int_col\", \"accident\", \"price\"]]"
   ]
  },
  {
   "cell_type": "code",
   "execution_count": 50,
   "id": "86e6c895",
   "metadata": {},
   "outputs": [
    {
     "name": "stdout",
     "output_type": "stream",
     "text": [
      "File succesfully saved.\n",
      " File size: 29069.88 KB\n"
     ]
    }
   ],
   "source": [
    "saving_clean = df_car.to_csv(clean_data_car_csv_path, index=False)\n",
    "\n",
    "if os.path.exists(clean_data_car_csv_path):\n",
    "    print(\"File succesfully saved.\")\n",
    "    print(f\" File size: {os.path.getsize(clean_data_car_csv_path) / 1024:.2f} KB\")\n",
    "else:\n",
    "    print(\"⚠️ Error while saving file.\")"
   ]
  },
  {
   "cell_type": "markdown",
   "id": "330aafef",
   "metadata": {},
   "source": [
    "__________\n",
    "_________"
   ]
  },
  {
   "cell_type": "markdown",
   "id": "ec250209",
   "metadata": {},
   "source": [
    "### <span style=\"color:#fef377;\"> Resumen Limpieza: </span>\n",
    "\n",
    "Se han creado nuevas columnas para optimizar la visualización de cara al futuro modelo de predicción así coomo cambios ligeros de tipo dentro de las restantes.\n",
    "\n",
    "<u> Por columnas: </u>\n",
    "\n",
    "- price: Se eliminaros los outliers alejados.\n",
    "\n",
    "<u> Diccionario: </u>\n",
    "\n",
    "\n",
    "| Nombre Columna        | Tipo Columna   | Significado Columna                                                      |\n",
    "|-----------------------|----------------|--------------------------------------------------------------------------|\n",
    "| id                    | int64          | Número identificativo de cada entrada                                    |\n",
    "| brand                 | object         | Nombre de la marca del vehículo                                          |\n",
    "| model                 | object         | Nombre del modelo del vehículo                                           |\n",
    "| model_year            | int64          | Año de lanzamiento del modelo por la marca                               |\n",
    "| milage                | int64          | Cantidad de millas recorridas por el vehículo                            |\n",
    "| fuel_type             | object         | Especifica el tipo de combustible del vehículo                            |\n",
    "| engine                | object         | Especifica el tipo de motor del vehículo                                |\n",
    "| transmission          | object         | Datos originales de la caja de cambios del vehículo                      |\n",
    "| transmission_types    | object         | Tipo de transmisión (automática, dual, manual, otros)                    |\n",
    "| transmission_num      | Int64          | Cantidad de marchas del vehículo (cuando información disponible)         |\n",
    "| ext_col               | object         | Color exterior del vehículo                                              |\n",
    "| int_col               | object         | Color interior del vehículo                                              |\n",
    "| accident              | bool           | Booleano que señala si se reportó un accidente (1=Sí)                   |\n",
    "| price                 | int64          | Precio de venta del vehículo                                             |"
   ]
  }
 ],
 "metadata": {
  "kernelspec": {
   "display_name": ".venv",
   "language": "python",
   "name": "python3"
  },
  "language_info": {
   "codemirror_mode": {
    "name": "ipython",
    "version": 3
   },
   "file_extension": ".py",
   "mimetype": "text/x-python",
   "name": "python",
   "nbconvert_exporter": "python",
   "pygments_lexer": "ipython3",
   "version": "3.13.2"
  }
 },
 "nbformat": 4,
 "nbformat_minor": 5
}
