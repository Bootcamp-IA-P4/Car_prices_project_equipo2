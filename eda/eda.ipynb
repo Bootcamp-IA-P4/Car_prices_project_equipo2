{
 "cells": [
  {
   "cell_type": "markdown",
   "id": "78d8cbc1",
   "metadata": {},
   "source": [
    "# Análisis Exploratorio de Datos (EDA): \n",
    "\n",
    "## Objetivo\n",
    "Este notebook contiene el análisis exploratorio completo del dataset, siguiendo una estructura organizada y metódica para entender los datos, limpiarlos y prepararlos para modelado.\n",
    "\n",
    "## Contenido\n",
    "1. Configuración Inicial y librearías\n",
    "2. Carga y Vista General de los Datos\n",
    "3. Limpieza\n",
    "4. Análisis Exploratorio de los Datos\n",
    "5. Análisis estadístico\n",
    "6. Análisis Univariante\n",
    "7. Análisis Bivariante\n",
    "8. Preprocesamiento de datos\n",
    "9. Conclusiones"
   ]
  },
  {
   "cell_type": "markdown",
   "id": "abf687a8",
   "metadata": {},
   "source": [
    "# 1. Configuración Inicial\n",
    "\n",
    "Importamos las bibliotecas necesarias y configuramos el entorno de trabajo."
   ]
  },
  {
   "cell_type": "code",
   "execution_count": 5,
   "id": "37de0bc0",
   "metadata": {},
   "outputs": [],
   "source": [
    "import pandas as pd\n",
    "import numpy as np\n",
    "import matplotlib.pyplot as plt\n",
    "import seaborn as sns\n",
    "from scipy import stats\n",
    "import missingno as msno\n",
    "from sklearn.model_selection import train_test_split\n",
    "from sklearn.linear_model import LinearRegression\n",
    "from sklearn.metrics import mean_squared_error, r2_score\n",
    "import os\n",
    "import re"
   ]
  },
  {
   "cell_type": "markdown",
   "id": "7f6a0e6f",
   "metadata": {},
   "source": [
    "### Configuración del estilo visual"
   ]
  },
  {
   "cell_type": "code",
   "execution_count": 7,
   "id": "6500d1fa",
   "metadata": {},
   "outputs": [],
   "source": [
    "pd.set_option('display.max_rows', 100) \n",
    "pd.set_option('display.max_columns', None) \n",
    "# pd.set_option('display.max_columns', None)  # Show all columns\n",
    "# pd.set_option('display.max_rows', None)     # Show all rows\n",
    "# pd.set_option('display.max_colwidth', None) # Show entire content of each column\n",
    "pd.set_option('display.width', None)        # No limit on display width\n",
    "pd.set_option('display.expand_frame_repr', False)  # Prevent wrapping"
   ]
  },
  {
   "cell_type": "markdown",
   "id": "793508e9",
   "metadata": {},
   "source": [
    "### Setting paths"
   ]
  },
  {
   "cell_type": "code",
   "execution_count": 8,
   "id": "8dc21f4b",
   "metadata": {},
   "outputs": [],
   "source": [
    "# Setting paths\n",
    "current_dir = os.getcwd()  # Use os.getcwd() to get the current working directory\n",
    "parent_dir = os.path.dirname(current_dir)\n",
    "data_dir = os.path.join(parent_dir, \"data\")\n",
    "file_path = os.path.join(data_dir, \"\")\n",
    "cars_csv_path = os.path.join(data_dir, \"train.csv\")\n",
    "clean_data_car_csv_path = os.path.join(data_dir, \"clean_data_car.csv\")"
   ]
  },
  {
   "cell_type": "markdown",
   "id": "0f8b99cd",
   "metadata": {},
   "source": []
  },
  {
   "cell_type": "markdown",
   "id": "db3c99c5",
   "metadata": {},
   "source": [
    "# 2. Carga y Preparación de los Datos\n",
    "\n",
    "### Cargamos el dataset y realizamos una inspección inicial para entender su estructura."
   ]
  },
  {
   "cell_type": "code",
   "execution_count": 9,
   "id": "08b17dd2",
   "metadata": {},
   "outputs": [],
   "source": [
    "# Creating dataframe\n",
    "df_car = pd.read_csv(cars_csv_path)"
   ]
  },
  {
   "cell_type": "code",
   "execution_count": 5,
   "id": "e6245a5b",
   "metadata": {},
   "outputs": [
    {
     "data": {
      "application/vnd.microsoft.datawrangler.viewer.v0+json": {
       "columns": [
        {
         "name": "index",
         "rawType": "int64",
         "type": "integer"
        },
        {
         "name": "id",
         "rawType": "int64",
         "type": "integer"
        },
        {
         "name": "brand",
         "rawType": "object",
         "type": "string"
        },
        {
         "name": "model",
         "rawType": "object",
         "type": "string"
        },
        {
         "name": "model_year",
         "rawType": "int64",
         "type": "integer"
        },
        {
         "name": "milage",
         "rawType": "int64",
         "type": "integer"
        },
        {
         "name": "fuel_type",
         "rawType": "object",
         "type": "string"
        },
        {
         "name": "engine",
         "rawType": "object",
         "type": "string"
        },
        {
         "name": "transmission",
         "rawType": "object",
         "type": "string"
        },
        {
         "name": "ext_col",
         "rawType": "object",
         "type": "string"
        },
        {
         "name": "int_col",
         "rawType": "object",
         "type": "string"
        },
        {
         "name": "accident",
         "rawType": "object",
         "type": "string"
        },
        {
         "name": "clean_title",
         "rawType": "object",
         "type": "unknown"
        },
        {
         "name": "price",
         "rawType": "int64",
         "type": "integer"
        }
       ],
       "conversionMethod": "pd.DataFrame",
       "ref": "2d28b9f5-3b7a-46eb-9586-c1fc21831216",
       "rows": [
        [
         "59569",
         "59569",
         "BMW",
         "M3 CS",
         "2018",
         "32117",
         "Gasoline",
         "3.0L I6 24V GDI DOHC Turbo",
         "7-Speed Automatic with Auto-Shift",
         "Black",
         "Black",
         "None reported",
         null,
         "46750"
        ],
        [
         "134936",
         "134936",
         "Dodge",
         "Ram 1500 Laramie Mega Cab",
         "1995",
         "99200",
         "–",
         "–",
         "A/T",
         "White",
         "Gray",
         "At least 1 accident or damage reported",
         "Yes",
         "7000"
        ],
        [
         "147304",
         "147304",
         "BMW",
         "M3 Competition xDrive",
         "2022",
         "13650",
         "Gasoline",
         "503.0HP 3.0L Straight 6 Cylinder Engine Gasoline Fuel",
         "8-Speed A/T",
         "Gray",
         "Black",
         "None reported",
         "Yes",
         "45999"
        ],
        [
         "73363",
         "73363",
         "Ford",
         "F-150 Lariat",
         "2004",
         "140401",
         "Gasoline",
         "365.0HP 3.5L V6 Cylinder Engine Gasoline Fuel",
         "A/T",
         "Red",
         "Beige",
         "None reported",
         "Yes",
         "12500"
        ],
        [
         "22739",
         "22739",
         "Chevrolet",
         "Corvette Stingray w/2LT",
         "2022",
         "6200",
         "Gasoline",
         "490.0HP 6.2L 8 Cylinder Engine Gasoline Fuel",
         "A/T",
         "White",
         "Black",
         "None reported",
         "Yes",
         "62500"
        ]
       ],
       "shape": {
        "columns": 13,
        "rows": 5
       }
      },
      "text/html": [
       "<div>\n",
       "<style scoped>\n",
       "    .dataframe tbody tr th:only-of-type {\n",
       "        vertical-align: middle;\n",
       "    }\n",
       "\n",
       "    .dataframe tbody tr th {\n",
       "        vertical-align: top;\n",
       "    }\n",
       "\n",
       "    .dataframe thead th {\n",
       "        text-align: right;\n",
       "    }\n",
       "</style>\n",
       "<table border=\"1\" class=\"dataframe\">\n",
       "  <thead>\n",
       "    <tr style=\"text-align: right;\">\n",
       "      <th></th>\n",
       "      <th>id</th>\n",
       "      <th>brand</th>\n",
       "      <th>model</th>\n",
       "      <th>model_year</th>\n",
       "      <th>milage</th>\n",
       "      <th>fuel_type</th>\n",
       "      <th>engine</th>\n",
       "      <th>transmission</th>\n",
       "      <th>ext_col</th>\n",
       "      <th>int_col</th>\n",
       "      <th>accident</th>\n",
       "      <th>clean_title</th>\n",
       "      <th>price</th>\n",
       "    </tr>\n",
       "  </thead>\n",
       "  <tbody>\n",
       "    <tr>\n",
       "      <th>59569</th>\n",
       "      <td>59569</td>\n",
       "      <td>BMW</td>\n",
       "      <td>M3 CS</td>\n",
       "      <td>2018</td>\n",
       "      <td>32117</td>\n",
       "      <td>Gasoline</td>\n",
       "      <td>3.0L I6 24V GDI DOHC Turbo</td>\n",
       "      <td>7-Speed Automatic with Auto-Shift</td>\n",
       "      <td>Black</td>\n",
       "      <td>Black</td>\n",
       "      <td>None reported</td>\n",
       "      <td>NaN</td>\n",
       "      <td>46750</td>\n",
       "    </tr>\n",
       "    <tr>\n",
       "      <th>134936</th>\n",
       "      <td>134936</td>\n",
       "      <td>Dodge</td>\n",
       "      <td>Ram 1500 Laramie Mega Cab</td>\n",
       "      <td>1995</td>\n",
       "      <td>99200</td>\n",
       "      <td>–</td>\n",
       "      <td>–</td>\n",
       "      <td>A/T</td>\n",
       "      <td>White</td>\n",
       "      <td>Gray</td>\n",
       "      <td>At least 1 accident or damage reported</td>\n",
       "      <td>Yes</td>\n",
       "      <td>7000</td>\n",
       "    </tr>\n",
       "    <tr>\n",
       "      <th>147304</th>\n",
       "      <td>147304</td>\n",
       "      <td>BMW</td>\n",
       "      <td>M3 Competition xDrive</td>\n",
       "      <td>2022</td>\n",
       "      <td>13650</td>\n",
       "      <td>Gasoline</td>\n",
       "      <td>503.0HP 3.0L Straight 6 Cylinder Engine Gasoli...</td>\n",
       "      <td>8-Speed A/T</td>\n",
       "      <td>Gray</td>\n",
       "      <td>Black</td>\n",
       "      <td>None reported</td>\n",
       "      <td>Yes</td>\n",
       "      <td>45999</td>\n",
       "    </tr>\n",
       "    <tr>\n",
       "      <th>73363</th>\n",
       "      <td>73363</td>\n",
       "      <td>Ford</td>\n",
       "      <td>F-150 Lariat</td>\n",
       "      <td>2004</td>\n",
       "      <td>140401</td>\n",
       "      <td>Gasoline</td>\n",
       "      <td>365.0HP 3.5L V6 Cylinder Engine Gasoline Fuel</td>\n",
       "      <td>A/T</td>\n",
       "      <td>Red</td>\n",
       "      <td>Beige</td>\n",
       "      <td>None reported</td>\n",
       "      <td>Yes</td>\n",
       "      <td>12500</td>\n",
       "    </tr>\n",
       "    <tr>\n",
       "      <th>22739</th>\n",
       "      <td>22739</td>\n",
       "      <td>Chevrolet</td>\n",
       "      <td>Corvette Stingray w/2LT</td>\n",
       "      <td>2022</td>\n",
       "      <td>6200</td>\n",
       "      <td>Gasoline</td>\n",
       "      <td>490.0HP 6.2L 8 Cylinder Engine Gasoline Fuel</td>\n",
       "      <td>A/T</td>\n",
       "      <td>White</td>\n",
       "      <td>Black</td>\n",
       "      <td>None reported</td>\n",
       "      <td>Yes</td>\n",
       "      <td>62500</td>\n",
       "    </tr>\n",
       "  </tbody>\n",
       "</table>\n",
       "</div>"
      ],
      "text/plain": [
       "            id      brand                      model  model_year  milage fuel_type                                             engine                       transmission ext_col int_col                                accident clean_title  price\n",
       "59569    59569        BMW                      M3 CS        2018   32117  Gasoline                         3.0L I6 24V GDI DOHC Turbo  7-Speed Automatic with Auto-Shift   Black   Black                           None reported         NaN  46750\n",
       "134936  134936      Dodge  Ram 1500 Laramie Mega Cab        1995   99200         –                                                  –                                A/T   White    Gray  At least 1 accident or damage reported         Yes   7000\n",
       "147304  147304        BMW      M3 Competition xDrive        2022   13650  Gasoline  503.0HP 3.0L Straight 6 Cylinder Engine Gasoli...                        8-Speed A/T    Gray   Black                           None reported         Yes  45999\n",
       "73363    73363       Ford               F-150 Lariat        2004  140401  Gasoline      365.0HP 3.5L V6 Cylinder Engine Gasoline Fuel                                A/T     Red   Beige                           None reported         Yes  12500\n",
       "22739    22739  Chevrolet    Corvette Stingray w/2LT        2022    6200  Gasoline       490.0HP 6.2L 8 Cylinder Engine Gasoline Fuel                                A/T   White   Black                           None reported         Yes  62500"
      ]
     },
     "execution_count": 5,
     "metadata": {},
     "output_type": "execute_result"
    }
   ],
   "source": [
    "df_car.sample(5)"
   ]
  },
  {
   "cell_type": "code",
   "execution_count": 6,
   "id": "0de63d2f",
   "metadata": {},
   "outputs": [
    {
     "name": "stdout",
     "output_type": "stream",
     "text": [
      "<class 'pandas.core.frame.DataFrame'>\n",
      "RangeIndex: 188533 entries, 0 to 188532\n",
      "Data columns (total 13 columns):\n",
      " #   Column        Non-Null Count   Dtype \n",
      "---  ------        --------------   ----- \n",
      " 0   id            188533 non-null  int64 \n",
      " 1   brand         188533 non-null  object\n",
      " 2   model         188533 non-null  object\n",
      " 3   model_year    188533 non-null  int64 \n",
      " 4   milage        188533 non-null  int64 \n",
      " 5   fuel_type     183450 non-null  object\n",
      " 6   engine        188533 non-null  object\n",
      " 7   transmission  188533 non-null  object\n",
      " 8   ext_col       188533 non-null  object\n",
      " 9   int_col       188533 non-null  object\n",
      " 10  accident      186081 non-null  object\n",
      " 11  clean_title   167114 non-null  object\n",
      " 12  price         188533 non-null  int64 \n",
      "dtypes: int64(4), object(9)\n",
      "memory usage: 18.7+ MB\n"
     ]
    }
   ],
   "source": [
    "df_car.info()"
   ]
  },
  {
   "cell_type": "markdown",
   "id": "144f0d64",
   "metadata": {},
   "source": [
    "# 3. Limpieza\n"
   ]
  },
  {
   "cell_type": "code",
   "execution_count": 7,
   "id": "fcf762e3",
   "metadata": {},
   "outputs": [
    {
     "data": {
      "text/plain": [
       "(188533, 13)"
      ]
     },
     "execution_count": 7,
     "metadata": {},
     "output_type": "execute_result"
    }
   ],
   "source": [
    "df_car.shape"
   ]
  },
  {
   "cell_type": "markdown",
   "id": "c5c4f544",
   "metadata": {},
   "source": [
    "### Inspecting columns"
   ]
  },
  {
   "cell_type": "markdown",
   "id": "fabdb610",
   "metadata": {},
   "source": [
    "<span style=\"color:#ffc509;\"> [\"clean_title\"] </span>\n",
    "- unique value: \"yes\"\n",
    "- column will be eliminated\n",
    "\n",
    "It seems this was done by the original owner of the df to check something but since the only value there is, is \"yes\" it can be eliminated since it does not bring any value"
   ]
  },
  {
   "cell_type": "code",
   "execution_count": 8,
   "id": "8c4ea4ae",
   "metadata": {},
   "outputs": [],
   "source": [
    "df_car[\"clean_title\"].nunique() # 1\n",
    "df_car[\"clean_title\"].unique() # ['Yes', nan]\n",
    "df_car[\"clean_title\"].isin([\"NaN\"]).sum() # np.int64(0)\n",
    "df_car = df_car.drop(\"clean_title\", axis = 1)"
   ]
  },
  {
   "cell_type": "markdown",
   "id": "376e0b01",
   "metadata": {},
   "source": [
    "<span style=\"color:#ffc509;\"> [\"model_year\"] </span>\n",
    "- All values have 4 digits\n",
    "- min value: 1974\n",
    "- max value: 2024\n",
    "- type of value is float, this will be change for int"
   ]
  },
  {
   "cell_type": "code",
   "execution_count": 9,
   "id": "2d264cff",
   "metadata": {},
   "outputs": [
    {
     "data": {
      "text/plain": [
       "dtype('int64')"
      ]
     },
     "execution_count": 9,
     "metadata": {},
     "output_type": "execute_result"
    }
   ],
   "source": [
    "df_car[\"model_year\"].astype(str).str.len()[df_car[\"model_year\"].astype(str).str.len() > 4]\n",
    "df_car[\"model_year\"].astype(str).str.len()[df_car[\"model_year\"].astype(str).str.len() < 4]\n",
    "df_car[\"model_year\"].describe()\n",
    "df_car[\"model_year\"].isin([\"NaN\"]).sum() # np.int64(0)\n",
    "df_car['model_year'] = df_car['model_year'].astype(int)\n",
    "df_car['model_year'].dtype"
   ]
  },
  {
   "cell_type": "markdown",
   "id": "2d246047",
   "metadata": {},
   "source": [
    "<span style=\"color:#ffc509;\">  [\"fuel_type\"] </span>\n",
    "- 3 % of null"
   ]
  },
  {
   "cell_type": "code",
   "execution_count": 10,
   "id": "c9bdec88",
   "metadata": {},
   "outputs": [
    {
     "data": {
      "text/plain": [
       "np.float64(3.0)"
      ]
     },
     "execution_count": 10,
     "metadata": {},
     "output_type": "execute_result"
    }
   ],
   "source": [
    "df_car[\"fuel_type\"].nunique() # 7\n",
    "df_car[\"fuel_type\"].unique() # ['Gasoline', 'E85 Flex Fuel', nan, 'Hybrid', 'Diesel','Plug-In Hybrid', '–', 'not supported']\n",
    "# ---------------------------------------------------------------------------------------------------------------------------\n",
    "# The not valid values will be change for None so it can be analize for inferring\n",
    "to_replace = [np.nan, '–', 'not supported']\n",
    "df_car['fuel_type'] = df_car['fuel_type'].replace(to_replace, None)\n",
    "# ---------------------------------------------------------------------------------------------------------------------------\n",
    "percentage_null = (df_car['fuel_type'].isnull().sum() / len(df_car[\"fuel_type\"])).round(2) * 100\n",
    "percentage_null"
   ]
  },
  {
   "cell_type": "markdown",
   "id": "91207b9a",
   "metadata": {},
   "source": [
    "<span style=\"color:#ffc509;\">  [\"transmission\"] </span>\n",
    "\n",
    "- 0 nulls but \n",
    "- 52 unique values\n",
    "\n",
    "2 NEW COLUMNS will be made in order to see better if they are automatic, manual, both and the number of transmissiones"
   ]
  },
  {
   "cell_type": "code",
   "execution_count": 11,
   "id": "c36c4a6a",
   "metadata": {},
   "outputs": [
    {
     "data": {
      "application/vnd.microsoft.datawrangler.viewer.v0+json": {
       "columns": [
        {
         "name": "index",
         "rawType": "int64",
         "type": "integer"
        },
        {
         "name": "id",
         "rawType": "int64",
         "type": "integer"
        },
        {
         "name": "brand",
         "rawType": "object",
         "type": "string"
        },
        {
         "name": "model",
         "rawType": "object",
         "type": "string"
        },
        {
         "name": "model_year",
         "rawType": "int64",
         "type": "integer"
        },
        {
         "name": "milage",
         "rawType": "int64",
         "type": "integer"
        },
        {
         "name": "fuel_type",
         "rawType": "object",
         "type": "string"
        },
        {
         "name": "engine",
         "rawType": "object",
         "type": "string"
        },
        {
         "name": "transmission",
         "rawType": "object",
         "type": "string"
        },
        {
         "name": "ext_col",
         "rawType": "object",
         "type": "string"
        },
        {
         "name": "int_col",
         "rawType": "object",
         "type": "string"
        },
        {
         "name": "accident",
         "rawType": "object",
         "type": "unknown"
        },
        {
         "name": "price",
         "rawType": "int64",
         "type": "integer"
        }
       ],
       "conversionMethod": "pd.DataFrame",
       "ref": "c092e8c8-f09e-4b4c-8c1c-dfffd4bdc0df",
       "rows": [
        [
         "20510",
         "20510",
         "BMW",
         "435 i",
         "2014",
         "85385",
         "Gasoline",
         "300.0HP 3.0L Straight 6 Cylinder Engine Gasoline Fuel",
         "6-Speed",
         "Black",
         "Beige",
         "None reported",
         "15499"
        ],
        [
         "42067",
         "42067",
         "Toyota",
         "Tacoma TRD Pro",
         "2019",
         "40698",
         "Gasoline",
         "3.5L V6 24V PDI DOHC",
         "6-Speed",
         "Super White",
         "Black",
         "None reported",
         "34955"
        ],
        [
         "43398",
         "43398",
         "Toyota",
         "Tacoma TRD Pro",
         "2018",
         "48156",
         "Gasoline",
         "3.5L V6 24V PDI DOHC",
         "6-Speed",
         "Midnight Black Metallic",
         "Black/Gun Metal",
         "None reported",
         "46750"
        ],
        [
         "49841",
         "49841",
         "Toyota",
         "Tacoma TRD Pro",
         "2018",
         "39948",
         "Gasoline",
         "3.5L V6 24V PDI DOHC",
         "6-Speed",
         "Super White",
         "Graphite",
         "None reported",
         "26691"
        ],
        [
         "56243",
         "56243",
         "Toyota",
         "Tacoma TRD Sport",
         "2021",
         "41500",
         "Gasoline",
         "3.5L V6 24V PDI DOHC",
         "6-Speed",
         "Gray",
         "Black",
         "None reported",
         "46000"
        ],
        [
         "58020",
         "58020",
         "Toyota",
         "Tacoma TRD Pro",
         "2020",
         "26540",
         "Gasoline",
         "3.5L V6 24V PDI DOHC",
         "6-Speed",
         "Blue",
         "Black",
         "None reported",
         "38995"
        ],
        [
         "67455",
         "67455",
         "Toyota",
         "Tacoma TRD Pro",
         "2021",
         "25083",
         "Gasoline",
         "3.5L V6 24V PDI DOHC",
         "6-Speed",
         "–",
         "Black",
         "None reported",
         "38781"
        ],
        [
         "68572",
         "68572",
         "GMC",
         "Acadia SLE-1",
         "2022",
         "13700",
         "Gasoline",
         "228.0HP 2.4L 4 Cylinder Engine Gasoline Fuel",
         "6-Speed",
         "Black",
         "Black",
         "None reported",
         "55329"
        ],
        [
         "73279",
         "73279",
         "Toyota",
         "Tacoma TRD Pro",
         "2020",
         "26468",
         "Gasoline",
         "3.5L V6 24V PDI DOHC",
         "6-Speed",
         "Super White",
         "Black",
         "None reported",
         "39985"
        ],
        [
         "73469",
         "73469",
         "Toyota",
         "Tacoma TRD Sport",
         "2020",
         "53433",
         "Gasoline",
         "3.5L V6 24V PDI DOHC",
         "6-Speed",
         "Black",
         "Black",
         "None reported",
         "28495"
        ],
        [
         "84300",
         "84300",
         "Lexus",
         "LS 460 Crafted Line",
         "2016",
         "137483",
         "Gasoline",
         "378.0HP 4.6L 8 Cylinder Engine Gasoline Fuel",
         "6-Speed",
         "Silver",
         "White",
         "None reported",
         "10000"
        ],
        [
         "89349",
         "89349",
         "Toyota",
         "Tacoma TRD Pro",
         "2016",
         "84129",
         "Gasoline",
         "3.5L V6 24V PDI DOHC",
         "6-Speed",
         "Black",
         "Black",
         null,
         "22495"
        ],
        [
         "96061",
         "96061",
         "Toyota",
         "Tacoma TRD Pro",
         "2018",
         "28039",
         "Gasoline",
         "3.5L V6 24V PDI DOHC",
         "6-Speed",
         "White",
         "Black",
         "None reported",
         "38900"
        ],
        [
         "100773",
         "100773",
         "Toyota",
         "Tacoma TRD Sport",
         "2021",
         "49131",
         "Gasoline",
         "3.5L V6 24V PDI DOHC",
         "6-Speed",
         "White",
         "Black",
         "None reported",
         "43449"
        ],
        [
         "103631",
         "103631",
         "Toyota",
         "Tacoma TRD Sport",
         "2023",
         "38612",
         "Gasoline",
         "3.5L V6 24V PDI DOHC",
         "6-Speed",
         "Super White",
         "Black/Gun Metal",
         "None reported",
         "43599"
        ],
        [
         "107770",
         "107770",
         "Porsche",
         "911 GT3",
         "2021",
         "13250",
         "Gasoline",
         "475.0HP 3.8L Flat 6 Cylinder Engine Gasoline Fuel",
         "6-Speed",
         "Black",
         "Black",
         "None reported",
         "257000"
        ],
        [
         "108766",
         "108766",
         "Hyundai",
         "Tucson Limited",
         "2021",
         "33523",
         "Gasoline",
         "2.4L I4 16V GDI DOHC",
         "6-Speed",
         "Black Noir Pearl",
         "Black",
         "None reported",
         "72567"
        ],
        [
         "112850",
         "112850",
         "BMW",
         "328 i",
         "2012",
         "59000",
         "Gasoline",
         "230.0HP 3.0L Straight 6 Cylinder Engine Gasoline Fuel",
         "6-Speed",
         "Black",
         "Black",
         "None reported",
         "20000"
        ],
        [
         "119872",
         "119872",
         "Toyota",
         "Tacoma TRD Sport",
         "2018",
         "8681",
         "Gasoline",
         "3.5L V6 24V PDI DOHC",
         "6-Speed",
         "Gray",
         "Black",
         "None reported",
         "51900"
        ],
        [
         "123854",
         "123854",
         "Ford",
         "Mustang Premium",
         "2009",
         "109000",
         "Gasoline",
         "210.0HP 3.7L V6 Cylinder Engine Gasoline Fuel",
         "6-Speed",
         "White",
         "Gray",
         "At least 1 accident or damage reported",
         "19780"
        ],
        [
         "139104",
         "139104",
         "Toyota",
         "Tacoma SR5",
         "2021",
         "27839",
         "Gasoline",
         "3.5L V6 24V PDI DOHC",
         "6-Speed",
         "White",
         "Black",
         "None reported",
         "39999"
        ],
        [
         "142055",
         "142055",
         "Toyota",
         "Tacoma TRD Pro",
         "2019",
         "36180",
         "Gasoline",
         "3.5L V6 24V PDI DOHC",
         "6-Speed",
         "Super White",
         "Black",
         "None reported",
         "36990"
        ],
        [
         "149661",
         "149661",
         "Toyota",
         "Tacoma TRD Sport",
         "2021",
         "28548",
         "Gasoline",
         "3.5L V6 24V PDI DOHC",
         "6-Speed",
         "Machine Gray Metallic",
         "Black",
         "None reported",
         "42599"
        ],
        [
         "154643",
         "154643",
         "Mercedes-Benz",
         "A-Class A 220 4MATIC",
         "2016",
         "29500",
         "Gasoline",
         "188.0HP 2.0L 4 Cylinder Engine Gasoline Fuel",
         "6-Speed",
         "White",
         "Black",
         "None reported",
         "49995"
        ],
        [
         "154668",
         "154668",
         "Toyota",
         "Tacoma TRD Pro",
         "2016",
         "124542",
         "Gasoline",
         "3.5L V6 24V PDI DOHC",
         "6-Speed",
         "Super White",
         "Black",
         "None reported",
         "43550"
        ],
        [
         "160451",
         "160451",
         "Toyota",
         "Tacoma TRD Pro",
         "2014",
         "20598",
         "Gasoline",
         "3.5L V6 24V PDI DOHC",
         "6-Speed",
         "Gray",
         "Black",
         "None reported",
         "8450"
        ],
        [
         "170527",
         "170527",
         "Toyota",
         "Tacoma TRD Sport",
         "2019",
         "73800",
         "Gasoline",
         "3.5L V6 24V PDI DOHC",
         "6-Speed",
         "Black",
         "Black",
         "None reported",
         "41927"
        ]
       ],
       "shape": {
        "columns": 12,
        "rows": 27
       }
      },
      "text/html": [
       "<div>\n",
       "<style scoped>\n",
       "    .dataframe tbody tr th:only-of-type {\n",
       "        vertical-align: middle;\n",
       "    }\n",
       "\n",
       "    .dataframe tbody tr th {\n",
       "        vertical-align: top;\n",
       "    }\n",
       "\n",
       "    .dataframe thead th {\n",
       "        text-align: right;\n",
       "    }\n",
       "</style>\n",
       "<table border=\"1\" class=\"dataframe\">\n",
       "  <thead>\n",
       "    <tr style=\"text-align: right;\">\n",
       "      <th></th>\n",
       "      <th>id</th>\n",
       "      <th>brand</th>\n",
       "      <th>model</th>\n",
       "      <th>model_year</th>\n",
       "      <th>milage</th>\n",
       "      <th>fuel_type</th>\n",
       "      <th>engine</th>\n",
       "      <th>transmission</th>\n",
       "      <th>ext_col</th>\n",
       "      <th>int_col</th>\n",
       "      <th>accident</th>\n",
       "      <th>price</th>\n",
       "    </tr>\n",
       "  </thead>\n",
       "  <tbody>\n",
       "    <tr>\n",
       "      <th>20510</th>\n",
       "      <td>20510</td>\n",
       "      <td>BMW</td>\n",
       "      <td>435 i</td>\n",
       "      <td>2014</td>\n",
       "      <td>85385</td>\n",
       "      <td>Gasoline</td>\n",
       "      <td>300.0HP 3.0L Straight 6 Cylinder Engine Gasoli...</td>\n",
       "      <td>6-Speed</td>\n",
       "      <td>Black</td>\n",
       "      <td>Beige</td>\n",
       "      <td>None reported</td>\n",
       "      <td>15499</td>\n",
       "    </tr>\n",
       "    <tr>\n",
       "      <th>42067</th>\n",
       "      <td>42067</td>\n",
       "      <td>Toyota</td>\n",
       "      <td>Tacoma TRD Pro</td>\n",
       "      <td>2019</td>\n",
       "      <td>40698</td>\n",
       "      <td>Gasoline</td>\n",
       "      <td>3.5L V6 24V PDI DOHC</td>\n",
       "      <td>6-Speed</td>\n",
       "      <td>Super White</td>\n",
       "      <td>Black</td>\n",
       "      <td>None reported</td>\n",
       "      <td>34955</td>\n",
       "    </tr>\n",
       "    <tr>\n",
       "      <th>43398</th>\n",
       "      <td>43398</td>\n",
       "      <td>Toyota</td>\n",
       "      <td>Tacoma TRD Pro</td>\n",
       "      <td>2018</td>\n",
       "      <td>48156</td>\n",
       "      <td>Gasoline</td>\n",
       "      <td>3.5L V6 24V PDI DOHC</td>\n",
       "      <td>6-Speed</td>\n",
       "      <td>Midnight Black Metallic</td>\n",
       "      <td>Black/Gun Metal</td>\n",
       "      <td>None reported</td>\n",
       "      <td>46750</td>\n",
       "    </tr>\n",
       "    <tr>\n",
       "      <th>49841</th>\n",
       "      <td>49841</td>\n",
       "      <td>Toyota</td>\n",
       "      <td>Tacoma TRD Pro</td>\n",
       "      <td>2018</td>\n",
       "      <td>39948</td>\n",
       "      <td>Gasoline</td>\n",
       "      <td>3.5L V6 24V PDI DOHC</td>\n",
       "      <td>6-Speed</td>\n",
       "      <td>Super White</td>\n",
       "      <td>Graphite</td>\n",
       "      <td>None reported</td>\n",
       "      <td>26691</td>\n",
       "    </tr>\n",
       "    <tr>\n",
       "      <th>56243</th>\n",
       "      <td>56243</td>\n",
       "      <td>Toyota</td>\n",
       "      <td>Tacoma TRD Sport</td>\n",
       "      <td>2021</td>\n",
       "      <td>41500</td>\n",
       "      <td>Gasoline</td>\n",
       "      <td>3.5L V6 24V PDI DOHC</td>\n",
       "      <td>6-Speed</td>\n",
       "      <td>Gray</td>\n",
       "      <td>Black</td>\n",
       "      <td>None reported</td>\n",
       "      <td>46000</td>\n",
       "    </tr>\n",
       "    <tr>\n",
       "      <th>58020</th>\n",
       "      <td>58020</td>\n",
       "      <td>Toyota</td>\n",
       "      <td>Tacoma TRD Pro</td>\n",
       "      <td>2020</td>\n",
       "      <td>26540</td>\n",
       "      <td>Gasoline</td>\n",
       "      <td>3.5L V6 24V PDI DOHC</td>\n",
       "      <td>6-Speed</td>\n",
       "      <td>Blue</td>\n",
       "      <td>Black</td>\n",
       "      <td>None reported</td>\n",
       "      <td>38995</td>\n",
       "    </tr>\n",
       "    <tr>\n",
       "      <th>67455</th>\n",
       "      <td>67455</td>\n",
       "      <td>Toyota</td>\n",
       "      <td>Tacoma TRD Pro</td>\n",
       "      <td>2021</td>\n",
       "      <td>25083</td>\n",
       "      <td>Gasoline</td>\n",
       "      <td>3.5L V6 24V PDI DOHC</td>\n",
       "      <td>6-Speed</td>\n",
       "      <td>–</td>\n",
       "      <td>Black</td>\n",
       "      <td>None reported</td>\n",
       "      <td>38781</td>\n",
       "    </tr>\n",
       "    <tr>\n",
       "      <th>68572</th>\n",
       "      <td>68572</td>\n",
       "      <td>GMC</td>\n",
       "      <td>Acadia SLE-1</td>\n",
       "      <td>2022</td>\n",
       "      <td>13700</td>\n",
       "      <td>Gasoline</td>\n",
       "      <td>228.0HP 2.4L 4 Cylinder Engine Gasoline Fuel</td>\n",
       "      <td>6-Speed</td>\n",
       "      <td>Black</td>\n",
       "      <td>Black</td>\n",
       "      <td>None reported</td>\n",
       "      <td>55329</td>\n",
       "    </tr>\n",
       "    <tr>\n",
       "      <th>73279</th>\n",
       "      <td>73279</td>\n",
       "      <td>Toyota</td>\n",
       "      <td>Tacoma TRD Pro</td>\n",
       "      <td>2020</td>\n",
       "      <td>26468</td>\n",
       "      <td>Gasoline</td>\n",
       "      <td>3.5L V6 24V PDI DOHC</td>\n",
       "      <td>6-Speed</td>\n",
       "      <td>Super White</td>\n",
       "      <td>Black</td>\n",
       "      <td>None reported</td>\n",
       "      <td>39985</td>\n",
       "    </tr>\n",
       "    <tr>\n",
       "      <th>73469</th>\n",
       "      <td>73469</td>\n",
       "      <td>Toyota</td>\n",
       "      <td>Tacoma TRD Sport</td>\n",
       "      <td>2020</td>\n",
       "      <td>53433</td>\n",
       "      <td>Gasoline</td>\n",
       "      <td>3.5L V6 24V PDI DOHC</td>\n",
       "      <td>6-Speed</td>\n",
       "      <td>Black</td>\n",
       "      <td>Black</td>\n",
       "      <td>None reported</td>\n",
       "      <td>28495</td>\n",
       "    </tr>\n",
       "    <tr>\n",
       "      <th>84300</th>\n",
       "      <td>84300</td>\n",
       "      <td>Lexus</td>\n",
       "      <td>LS 460 Crafted Line</td>\n",
       "      <td>2016</td>\n",
       "      <td>137483</td>\n",
       "      <td>Gasoline</td>\n",
       "      <td>378.0HP 4.6L 8 Cylinder Engine Gasoline Fuel</td>\n",
       "      <td>6-Speed</td>\n",
       "      <td>Silver</td>\n",
       "      <td>White</td>\n",
       "      <td>None reported</td>\n",
       "      <td>10000</td>\n",
       "    </tr>\n",
       "    <tr>\n",
       "      <th>89349</th>\n",
       "      <td>89349</td>\n",
       "      <td>Toyota</td>\n",
       "      <td>Tacoma TRD Pro</td>\n",
       "      <td>2016</td>\n",
       "      <td>84129</td>\n",
       "      <td>Gasoline</td>\n",
       "      <td>3.5L V6 24V PDI DOHC</td>\n",
       "      <td>6-Speed</td>\n",
       "      <td>Black</td>\n",
       "      <td>Black</td>\n",
       "      <td>NaN</td>\n",
       "      <td>22495</td>\n",
       "    </tr>\n",
       "    <tr>\n",
       "      <th>96061</th>\n",
       "      <td>96061</td>\n",
       "      <td>Toyota</td>\n",
       "      <td>Tacoma TRD Pro</td>\n",
       "      <td>2018</td>\n",
       "      <td>28039</td>\n",
       "      <td>Gasoline</td>\n",
       "      <td>3.5L V6 24V PDI DOHC</td>\n",
       "      <td>6-Speed</td>\n",
       "      <td>White</td>\n",
       "      <td>Black</td>\n",
       "      <td>None reported</td>\n",
       "      <td>38900</td>\n",
       "    </tr>\n",
       "    <tr>\n",
       "      <th>100773</th>\n",
       "      <td>100773</td>\n",
       "      <td>Toyota</td>\n",
       "      <td>Tacoma TRD Sport</td>\n",
       "      <td>2021</td>\n",
       "      <td>49131</td>\n",
       "      <td>Gasoline</td>\n",
       "      <td>3.5L V6 24V PDI DOHC</td>\n",
       "      <td>6-Speed</td>\n",
       "      <td>White</td>\n",
       "      <td>Black</td>\n",
       "      <td>None reported</td>\n",
       "      <td>43449</td>\n",
       "    </tr>\n",
       "    <tr>\n",
       "      <th>103631</th>\n",
       "      <td>103631</td>\n",
       "      <td>Toyota</td>\n",
       "      <td>Tacoma TRD Sport</td>\n",
       "      <td>2023</td>\n",
       "      <td>38612</td>\n",
       "      <td>Gasoline</td>\n",
       "      <td>3.5L V6 24V PDI DOHC</td>\n",
       "      <td>6-Speed</td>\n",
       "      <td>Super White</td>\n",
       "      <td>Black/Gun Metal</td>\n",
       "      <td>None reported</td>\n",
       "      <td>43599</td>\n",
       "    </tr>\n",
       "    <tr>\n",
       "      <th>107770</th>\n",
       "      <td>107770</td>\n",
       "      <td>Porsche</td>\n",
       "      <td>911 GT3</td>\n",
       "      <td>2021</td>\n",
       "      <td>13250</td>\n",
       "      <td>Gasoline</td>\n",
       "      <td>475.0HP 3.8L Flat 6 Cylinder Engine Gasoline Fuel</td>\n",
       "      <td>6-Speed</td>\n",
       "      <td>Black</td>\n",
       "      <td>Black</td>\n",
       "      <td>None reported</td>\n",
       "      <td>257000</td>\n",
       "    </tr>\n",
       "    <tr>\n",
       "      <th>108766</th>\n",
       "      <td>108766</td>\n",
       "      <td>Hyundai</td>\n",
       "      <td>Tucson Limited</td>\n",
       "      <td>2021</td>\n",
       "      <td>33523</td>\n",
       "      <td>Gasoline</td>\n",
       "      <td>2.4L I4 16V GDI DOHC</td>\n",
       "      <td>6-Speed</td>\n",
       "      <td>Black Noir Pearl</td>\n",
       "      <td>Black</td>\n",
       "      <td>None reported</td>\n",
       "      <td>72567</td>\n",
       "    </tr>\n",
       "    <tr>\n",
       "      <th>112850</th>\n",
       "      <td>112850</td>\n",
       "      <td>BMW</td>\n",
       "      <td>328 i</td>\n",
       "      <td>2012</td>\n",
       "      <td>59000</td>\n",
       "      <td>Gasoline</td>\n",
       "      <td>230.0HP 3.0L Straight 6 Cylinder Engine Gasoli...</td>\n",
       "      <td>6-Speed</td>\n",
       "      <td>Black</td>\n",
       "      <td>Black</td>\n",
       "      <td>None reported</td>\n",
       "      <td>20000</td>\n",
       "    </tr>\n",
       "    <tr>\n",
       "      <th>119872</th>\n",
       "      <td>119872</td>\n",
       "      <td>Toyota</td>\n",
       "      <td>Tacoma TRD Sport</td>\n",
       "      <td>2018</td>\n",
       "      <td>8681</td>\n",
       "      <td>Gasoline</td>\n",
       "      <td>3.5L V6 24V PDI DOHC</td>\n",
       "      <td>6-Speed</td>\n",
       "      <td>Gray</td>\n",
       "      <td>Black</td>\n",
       "      <td>None reported</td>\n",
       "      <td>51900</td>\n",
       "    </tr>\n",
       "    <tr>\n",
       "      <th>123854</th>\n",
       "      <td>123854</td>\n",
       "      <td>Ford</td>\n",
       "      <td>Mustang Premium</td>\n",
       "      <td>2009</td>\n",
       "      <td>109000</td>\n",
       "      <td>Gasoline</td>\n",
       "      <td>210.0HP 3.7L V6 Cylinder Engine Gasoline Fuel</td>\n",
       "      <td>6-Speed</td>\n",
       "      <td>White</td>\n",
       "      <td>Gray</td>\n",
       "      <td>At least 1 accident or damage reported</td>\n",
       "      <td>19780</td>\n",
       "    </tr>\n",
       "    <tr>\n",
       "      <th>139104</th>\n",
       "      <td>139104</td>\n",
       "      <td>Toyota</td>\n",
       "      <td>Tacoma SR5</td>\n",
       "      <td>2021</td>\n",
       "      <td>27839</td>\n",
       "      <td>Gasoline</td>\n",
       "      <td>3.5L V6 24V PDI DOHC</td>\n",
       "      <td>6-Speed</td>\n",
       "      <td>White</td>\n",
       "      <td>Black</td>\n",
       "      <td>None reported</td>\n",
       "      <td>39999</td>\n",
       "    </tr>\n",
       "    <tr>\n",
       "      <th>142055</th>\n",
       "      <td>142055</td>\n",
       "      <td>Toyota</td>\n",
       "      <td>Tacoma TRD Pro</td>\n",
       "      <td>2019</td>\n",
       "      <td>36180</td>\n",
       "      <td>Gasoline</td>\n",
       "      <td>3.5L V6 24V PDI DOHC</td>\n",
       "      <td>6-Speed</td>\n",
       "      <td>Super White</td>\n",
       "      <td>Black</td>\n",
       "      <td>None reported</td>\n",
       "      <td>36990</td>\n",
       "    </tr>\n",
       "    <tr>\n",
       "      <th>149661</th>\n",
       "      <td>149661</td>\n",
       "      <td>Toyota</td>\n",
       "      <td>Tacoma TRD Sport</td>\n",
       "      <td>2021</td>\n",
       "      <td>28548</td>\n",
       "      <td>Gasoline</td>\n",
       "      <td>3.5L V6 24V PDI DOHC</td>\n",
       "      <td>6-Speed</td>\n",
       "      <td>Machine Gray Metallic</td>\n",
       "      <td>Black</td>\n",
       "      <td>None reported</td>\n",
       "      <td>42599</td>\n",
       "    </tr>\n",
       "    <tr>\n",
       "      <th>154643</th>\n",
       "      <td>154643</td>\n",
       "      <td>Mercedes-Benz</td>\n",
       "      <td>A-Class A 220 4MATIC</td>\n",
       "      <td>2016</td>\n",
       "      <td>29500</td>\n",
       "      <td>Gasoline</td>\n",
       "      <td>188.0HP 2.0L 4 Cylinder Engine Gasoline Fuel</td>\n",
       "      <td>6-Speed</td>\n",
       "      <td>White</td>\n",
       "      <td>Black</td>\n",
       "      <td>None reported</td>\n",
       "      <td>49995</td>\n",
       "    </tr>\n",
       "    <tr>\n",
       "      <th>154668</th>\n",
       "      <td>154668</td>\n",
       "      <td>Toyota</td>\n",
       "      <td>Tacoma TRD Pro</td>\n",
       "      <td>2016</td>\n",
       "      <td>124542</td>\n",
       "      <td>Gasoline</td>\n",
       "      <td>3.5L V6 24V PDI DOHC</td>\n",
       "      <td>6-Speed</td>\n",
       "      <td>Super White</td>\n",
       "      <td>Black</td>\n",
       "      <td>None reported</td>\n",
       "      <td>43550</td>\n",
       "    </tr>\n",
       "    <tr>\n",
       "      <th>160451</th>\n",
       "      <td>160451</td>\n",
       "      <td>Toyota</td>\n",
       "      <td>Tacoma TRD Pro</td>\n",
       "      <td>2014</td>\n",
       "      <td>20598</td>\n",
       "      <td>Gasoline</td>\n",
       "      <td>3.5L V6 24V PDI DOHC</td>\n",
       "      <td>6-Speed</td>\n",
       "      <td>Gray</td>\n",
       "      <td>Black</td>\n",
       "      <td>None reported</td>\n",
       "      <td>8450</td>\n",
       "    </tr>\n",
       "    <tr>\n",
       "      <th>170527</th>\n",
       "      <td>170527</td>\n",
       "      <td>Toyota</td>\n",
       "      <td>Tacoma TRD Sport</td>\n",
       "      <td>2019</td>\n",
       "      <td>73800</td>\n",
       "      <td>Gasoline</td>\n",
       "      <td>3.5L V6 24V PDI DOHC</td>\n",
       "      <td>6-Speed</td>\n",
       "      <td>Black</td>\n",
       "      <td>Black</td>\n",
       "      <td>None reported</td>\n",
       "      <td>41927</td>\n",
       "    </tr>\n",
       "  </tbody>\n",
       "</table>\n",
       "</div>"
      ],
      "text/plain": [
       "            id          brand                 model  model_year  milage fuel_type                                             engine transmission                  ext_col          int_col                                accident   price\n",
       "20510    20510            BMW                 435 i        2014   85385  Gasoline  300.0HP 3.0L Straight 6 Cylinder Engine Gasoli...      6-Speed                    Black            Beige                           None reported   15499\n",
       "42067    42067         Toyota        Tacoma TRD Pro        2019   40698  Gasoline                               3.5L V6 24V PDI DOHC      6-Speed              Super White            Black                           None reported   34955\n",
       "43398    43398         Toyota        Tacoma TRD Pro        2018   48156  Gasoline                               3.5L V6 24V PDI DOHC      6-Speed  Midnight Black Metallic  Black/Gun Metal                           None reported   46750\n",
       "49841    49841         Toyota        Tacoma TRD Pro        2018   39948  Gasoline                               3.5L V6 24V PDI DOHC      6-Speed              Super White         Graphite                           None reported   26691\n",
       "56243    56243         Toyota      Tacoma TRD Sport        2021   41500  Gasoline                               3.5L V6 24V PDI DOHC      6-Speed                     Gray            Black                           None reported   46000\n",
       "58020    58020         Toyota        Tacoma TRD Pro        2020   26540  Gasoline                               3.5L V6 24V PDI DOHC      6-Speed                     Blue            Black                           None reported   38995\n",
       "67455    67455         Toyota        Tacoma TRD Pro        2021   25083  Gasoline                               3.5L V6 24V PDI DOHC      6-Speed                        –            Black                           None reported   38781\n",
       "68572    68572            GMC          Acadia SLE-1        2022   13700  Gasoline       228.0HP 2.4L 4 Cylinder Engine Gasoline Fuel      6-Speed                    Black            Black                           None reported   55329\n",
       "73279    73279         Toyota        Tacoma TRD Pro        2020   26468  Gasoline                               3.5L V6 24V PDI DOHC      6-Speed              Super White            Black                           None reported   39985\n",
       "73469    73469         Toyota      Tacoma TRD Sport        2020   53433  Gasoline                               3.5L V6 24V PDI DOHC      6-Speed                    Black            Black                           None reported   28495\n",
       "84300    84300          Lexus   LS 460 Crafted Line        2016  137483  Gasoline       378.0HP 4.6L 8 Cylinder Engine Gasoline Fuel      6-Speed                   Silver            White                           None reported   10000\n",
       "89349    89349         Toyota        Tacoma TRD Pro        2016   84129  Gasoline                               3.5L V6 24V PDI DOHC      6-Speed                    Black            Black                                     NaN   22495\n",
       "96061    96061         Toyota        Tacoma TRD Pro        2018   28039  Gasoline                               3.5L V6 24V PDI DOHC      6-Speed                    White            Black                           None reported   38900\n",
       "100773  100773         Toyota      Tacoma TRD Sport        2021   49131  Gasoline                               3.5L V6 24V PDI DOHC      6-Speed                    White            Black                           None reported   43449\n",
       "103631  103631         Toyota      Tacoma TRD Sport        2023   38612  Gasoline                               3.5L V6 24V PDI DOHC      6-Speed              Super White  Black/Gun Metal                           None reported   43599\n",
       "107770  107770        Porsche               911 GT3        2021   13250  Gasoline  475.0HP 3.8L Flat 6 Cylinder Engine Gasoline Fuel      6-Speed                    Black            Black                           None reported  257000\n",
       "108766  108766        Hyundai        Tucson Limited        2021   33523  Gasoline                               2.4L I4 16V GDI DOHC      6-Speed         Black Noir Pearl            Black                           None reported   72567\n",
       "112850  112850            BMW                 328 i        2012   59000  Gasoline  230.0HP 3.0L Straight 6 Cylinder Engine Gasoli...      6-Speed                    Black            Black                           None reported   20000\n",
       "119872  119872         Toyota      Tacoma TRD Sport        2018    8681  Gasoline                               3.5L V6 24V PDI DOHC      6-Speed                     Gray            Black                           None reported   51900\n",
       "123854  123854           Ford       Mustang Premium        2009  109000  Gasoline      210.0HP 3.7L V6 Cylinder Engine Gasoline Fuel      6-Speed                    White             Gray  At least 1 accident or damage reported   19780\n",
       "139104  139104         Toyota            Tacoma SR5        2021   27839  Gasoline                               3.5L V6 24V PDI DOHC      6-Speed                    White            Black                           None reported   39999\n",
       "142055  142055         Toyota        Tacoma TRD Pro        2019   36180  Gasoline                               3.5L V6 24V PDI DOHC      6-Speed              Super White            Black                           None reported   36990\n",
       "149661  149661         Toyota      Tacoma TRD Sport        2021   28548  Gasoline                               3.5L V6 24V PDI DOHC      6-Speed    Machine Gray Metallic            Black                           None reported   42599\n",
       "154643  154643  Mercedes-Benz  A-Class A 220 4MATIC        2016   29500  Gasoline       188.0HP 2.0L 4 Cylinder Engine Gasoline Fuel      6-Speed                    White            Black                           None reported   49995\n",
       "154668  154668         Toyota        Tacoma TRD Pro        2016  124542  Gasoline                               3.5L V6 24V PDI DOHC      6-Speed              Super White            Black                           None reported   43550\n",
       "160451  160451         Toyota        Tacoma TRD Pro        2014   20598  Gasoline                               3.5L V6 24V PDI DOHC      6-Speed                     Gray            Black                           None reported    8450\n",
       "170527  170527         Toyota      Tacoma TRD Sport        2019   73800  Gasoline                               3.5L V6 24V PDI DOHC      6-Speed                    Black            Black                           None reported   41927"
      ]
     },
     "execution_count": 11,
     "metadata": {},
     "output_type": "execute_result"
    }
   ],
   "source": [
    "df_car[\"transmission\"].isnull().sum() # np.int64(0)\n",
    "df_car[\"transmission\"].nunique() # 52\n",
    "df_car[\"transmission\"].unique() # \n",
    "df_car[df_car[\"transmission\"] == \"Single-Speed Fixed Gear\"] # There are higly speed cars and by ramdomnly checking, these cars are AUTOMATIC\n",
    "df_car[df_car[\"transmission\"] == \"F\"] # 65 lines, by checking randomnly 8 different models of different brands, we can see they are AUTOMATIC\n",
    "df_car[df_car[\"transmission\"] == \"–\"] # 87 values\n",
    "df_car[df_car[\"transmission\"] == \"2\"] # 91\n",
    "df_car[df_car[\"transmission\"] == \"7-Speed\"] # 29\n",
    "df_car[df_car[\"transmission\"] == \"Variable\"] # 66\n",
    "df_car[df_car[\"transmission\"] == \"6-Speed\"] # 27"
   ]
  },
  {
   "cell_type": "markdown",
   "id": "239c0eb2",
   "metadata": {},
   "source": [
    "<span style=\"color:#ffc509;\">  [\"transmission_types\"] </span>\n",
    "\n",
    "- Only 0.16% are others"
   ]
  },
  {
   "cell_type": "code",
   "execution_count": 12,
   "id": "38ff6252",
   "metadata": {},
   "outputs": [],
   "source": [
    "def transmission_types(transmission_string):\n",
    "    transmission_lower = str(transmission_string).lower()\n",
    "    if (\"at/mt\" in transmission_lower  \n",
    "        or \"dual\" in transmission_lower \n",
    "        or \"auto-shift\" in transmission_lower \n",
    "        or \"overdrive switch\" in transmission_lower):  \n",
    "        return \"Dual\" # When they are both and can passed from automatic to manual and viceversa\n",
    "    elif ('automatic' in transmission_lower \n",
    "          or 'at' in transmission_lower \n",
    "          or 'a/t' in transmission_lower \n",
    "          or 'cvt' in transmission_lower \n",
    "          or 'dct' in transmission_lower \n",
    "          or 'single-speed fixed gear' in transmission_lower \n",
    "          or 'f' in transmission_lower):\n",
    "        return 'Automatic'\n",
    "    elif 'manual' in transmission_lower or 'm/t' in transmission_lower or 'mt' in transmission_lower:\n",
    "        return 'Manual'\n",
    "    else:\n",
    "        return 'Other' # The rest\n",
    "\n",
    "df_car['transmission_types'] = df_car['transmission'].apply(transmission_types)"
   ]
  },
  {
   "cell_type": "code",
   "execution_count": 13,
   "id": "6c305974",
   "metadata": {},
   "outputs": [
    {
     "data": {
      "text/plain": [
       "transmission_types\n",
       "Automatic    79.85\n",
       "Dual         11.30\n",
       "Manual        8.70\n",
       "Other         0.16\n",
       "Name: proportion, dtype: float64"
      ]
     },
     "execution_count": 13,
     "metadata": {},
     "output_type": "execute_result"
    }
   ],
   "source": [
    "(df_car[\"transmission_types\"].value_counts(normalize=True) * 100).round(2)"
   ]
  },
  {
   "cell_type": "markdown",
   "id": "6bd33a61",
   "metadata": {},
   "source": [
    "<span style=\"color:#ffc509;\">  [\"transmission_num\"] </span>\n",
    "\n",
    "- null: 44.71%"
   ]
  },
  {
   "cell_type": "code",
   "execution_count": 14,
   "id": "6a4ee078",
   "metadata": {},
   "outputs": [],
   "source": [
    "def extract_transmission_number(transmission_string):\n",
    "    if pd.isna(transmission_string):  \n",
    "        return None # If there are no numbers on the row, then return None\n",
    "    match = re.search(r\"\\d+\", str(transmission_string)) # This extracts the letters\n",
    "    return match.group(0) if match else None\n",
    "\n",
    "df_car['transmission_num'] = df_car['transmission'].apply(extract_transmission_number) # Create a new column"
   ]
  },
  {
   "cell_type": "code",
   "execution_count": 25,
   "id": "f80e7688",
   "metadata": {},
   "outputs": [],
   "source": [
    "df_car['transmission_num'] = pd.to_numeric(df_car['transmission_num'], errors='coerce').astype('Int64')"
   ]
  },
  {
   "cell_type": "code",
   "execution_count": 26,
   "id": "87bc39e6",
   "metadata": {},
   "outputs": [
    {
     "data": {
      "text/plain": [
       "transmission_num\n",
       "6     31.92\n",
       "8     28.46\n",
       "7      12.5\n",
       "10    10.79\n",
       "9      5.97\n",
       "5      5.55\n",
       "4      2.49\n",
       "1      2.14\n",
       "2      0.18\n",
       "Name: proportion, dtype: Float64"
      ]
     },
     "execution_count": 26,
     "metadata": {},
     "output_type": "execute_result"
    }
   ],
   "source": [
    "(df_car[\"transmission_num\"].isnull().sum() / len(df_car[\"transmission_num\"]) * 100).round(2) # 44.71%\n",
    "(df_car[\"transmission_num\"].value_counts(normalize=True) * 100).round(2)"
   ]
  },
  {
   "cell_type": "markdown",
   "id": "b366fb60",
   "metadata": {},
   "source": [
    "<span style=\"color:#ffc509;\">  [\"accident\"] </span>\n",
    "\n",
    "- null: 1.3%\n",
    "- unique values: 2 None, None reported and At least one accident\n",
    "\n",
    "Column will be changed to boolean being 1 = accident and 0 = none reported / none\n",
    "\n",
    "By reading None is there are no values, we will interpret this as if there are no values then there are no reports of accidents"
   ]
  },
  {
   "cell_type": "code",
   "execution_count": 16,
   "id": "8e6f795a",
   "metadata": {},
   "outputs": [],
   "source": [
    "def accident_turn_boolean(accident_string):\n",
    "    if pd.isna(accident_string):\n",
    "        return False   # if nan, this will be false = no accident reported\n",
    "    elif \"At least 1 accident or damage reported\" in accident_string:\n",
    "        return True    # This will turn one = there are accidents reported\n",
    "    else:\n",
    "        return False# if none reported which is left, this will be false = no accident reported\n",
    "\n",
    "df_car['accident'] = df_car['accident'].apply(accident_turn_boolean)"
   ]
  },
  {
   "cell_type": "markdown",
   "id": "2679c0e2",
   "metadata": {},
   "source": [
    "<span style=\"color:#ffc509;\">  [\"engine\"] </span>"
   ]
  },
  {
   "cell_type": "code",
   "execution_count": null,
   "id": "64fe8164",
   "metadata": {},
   "outputs": [
    {
     "data": {
      "text/plain": [
       "engine\n",
       "True     150678\n",
       "False     37855\n",
       "Name: count, dtype: int64"
      ]
     },
     "execution_count": 43,
     "metadata": {},
     "output_type": "execute_result"
    }
   ],
   "source": [
    "df_car[\"engine\"].isnull().sum() # 0\n",
    "(df_car[\"engine\"].isnull().sum() / len(df_car[\"engine\"]) * 100).round(2) # 0%\n",
    "(df_car[\"engine\"].value_counts(normalize=True) * 100).round(2) #\n",
    "df_car[\"engine\"].nunique() # 1117\n",
    "df_car[\"engine\"].unique() # \n",
    "df_car[\"engine\"].sample(5)\n",
    "df_car[\"engine\"].str.contains(\"Cylinder\").value_counts() # 37855 FALSE\n",
    "# df_car[df_car[\"engine\"] == \"example\"]  #"
   ]
  },
  {
   "cell_type": "markdown",
   "id": "62acd824",
   "metadata": {},
   "source": [
    "### Checking duplicates\n",
    "- There are none"
   ]
  },
  {
   "cell_type": "code",
   "execution_count": 19,
   "id": "7295b281",
   "metadata": {},
   "outputs": [
    {
     "data": {
      "text/plain": [
       "np.int64(0)"
      ]
     },
     "execution_count": 19,
     "metadata": {},
     "output_type": "execute_result"
    }
   ],
   "source": [
    "df_car.duplicated().sum()"
   ]
  },
  {
   "cell_type": "markdown",
   "id": "5dca8607",
   "metadata": {},
   "source": [
    "### Re arranging columns"
   ]
  },
  {
   "cell_type": "code",
   "execution_count": 44,
   "id": "3726640f",
   "metadata": {},
   "outputs": [],
   "source": [
    "df_car = df_car[[\"id\", \"brand\", \"model\", \"model_year\", \"milage\", \"fuel_type\", \"engine\", \n",
    "                 \"transmission\", \"transmission_types\", \"transmission_num\",\n",
    "                 \"ext_col\", \"int_col\", \"accident\", \"price\"]]"
   ]
  },
  {
   "cell_type": "code",
   "execution_count": 46,
   "id": "5fe53070",
   "metadata": {},
   "outputs": [
    {
     "name": "stdout",
     "output_type": "stream",
     "text": [
      "<class 'pandas.core.frame.DataFrame'>\n",
      "RangeIndex: 188533 entries, 0 to 188532\n",
      "Data columns (total 14 columns):\n",
      " #   Column              Non-Null Count   Dtype \n",
      "---  ------              --------------   ----- \n",
      " 0   id                  188533 non-null  int64 \n",
      " 1   brand               188533 non-null  object\n",
      " 2   model               188533 non-null  object\n",
      " 3   model_year          188533 non-null  int64 \n",
      " 4   milage              188533 non-null  int64 \n",
      " 5   fuel_type           182654 non-null  object\n",
      " 6   engine              188533 non-null  object\n",
      " 7   transmission        188533 non-null  object\n",
      " 8   transmission_types  188533 non-null  object\n",
      " 9   transmission_num    104247 non-null  Int64 \n",
      " 10  ext_col             188533 non-null  object\n",
      " 11  int_col             188533 non-null  object\n",
      " 12  accident            188533 non-null  bool  \n",
      " 13  price               188533 non-null  int64 \n",
      "dtypes: Int64(1), bool(1), int64(4), object(8)\n",
      "memory usage: 19.1+ MB\n"
     ]
    }
   ],
   "source": [
    "df_car.info()"
   ]
  },
  {
   "cell_type": "markdown",
   "id": "ec250209",
   "metadata": {},
   "source": [
    "### Resumen Limpieza:\n",
    "\n",
    "Se han creado nuevas columnas para optimizar la visualización de cara al futuro modelo de predicción así coomo cambios ligeros de tipo dentro de las restantes.\n",
    "\n",
    "<u> Por columnas: </u>\n",
    "\n",
    "\n",
    "<u> Diccionario: </u>\n",
    "\n",
    "\n",
    "| Nombre Columna        | Tipo Columna   | Significado Columna                                                      |\n",
    "|-----------------------|----------------|--------------------------------------------------------------------------|\n",
    "| id                    | int64          | Número identificativo de cada entrada                                    |\n",
    "| brand                 | object         | Nombre de la marca del vehículo                                          |\n",
    "| model                 | object         | Nombre del modelo del vehículo                                           |\n",
    "| model_year            | int64          | Año de lanzamiento del modelo por la marca                               |\n",
    "| milage                | int64          | Cantidad de millas recorridas por el vehículo                            |\n",
    "| fuel_type             | object         | Especifica el tipo de combustible del vehículo                            |\n",
    "| engine                | object         | Especifica el tipo de motor del vehículo                                |\n",
    "| transmission          | object         | Datos originales de la caja de cambios del vehículo                      |\n",
    "| transmission_types    | object         | Tipo de transmisión (automática, dual, manual, otros)                    |\n",
    "| transmission_num      | Int64          | Cantidad de marchas del vehículo (cuando información disponible)         |\n",
    "| ext_col               | object         | Color exterior del vehículo                                              |\n",
    "| int_col               | object         | Color interior del vehículo                                              |\n",
    "| accident              | bool           | Booleano que señala si se reportó un accidente (1=Sí)                   |\n",
    "| price                 | int64          | Precio de venta del vehículo                                             |"
   ]
  },
  {
   "cell_type": "markdown",
   "id": "f4f182a8",
   "metadata": {},
   "source": [
    "### Checking outliers"
   ]
  },
  {
   "cell_type": "code",
   "execution_count": null,
   "id": "65c51aef",
   "metadata": {},
   "outputs": [],
   "source": []
  },
  {
   "cell_type": "markdown",
   "id": "eae27783",
   "metadata": {},
   "source": [
    "#### Guardamos el nuevo csv"
   ]
  },
  {
   "cell_type": "code",
   "execution_count": 47,
   "id": "86e6c895",
   "metadata": {},
   "outputs": [
    {
     "name": "stdout",
     "output_type": "stream",
     "text": [
      "File succesfully saved.\n",
      " File size: 26152.58 KB\n"
     ]
    }
   ],
   "source": [
    "df_car.to_csv(clean_data_car_csv_path, index=False)\n",
    "\n",
    "if os.path.exists(clean_data_car_csv_path):\n",
    "    print(\"File succesfully saved.\")\n",
    "    print(f\" File size: {os.path.getsize(clean_data_car_csv_path) / 1024:.2f} KB\")\n",
    "else:\n",
    "    print(\"⚠️ Error while saving file.\")"
   ]
  },
  {
   "cell_type": "markdown",
   "id": "330aafef",
   "metadata": {},
   "source": [
    "__________"
   ]
  },
  {
   "cell_type": "markdown",
   "id": "1d98ba05",
   "metadata": {},
   "source": [
    "# 4 Análisis exploratorio de datos"
   ]
  },
  {
   "cell_type": "markdown",
   "id": "279b4dce",
   "metadata": {},
   "source": [
    "### Distribución "
   ]
  },
  {
   "cell_type": "code",
   "execution_count": null,
   "id": "44cb49b1",
   "metadata": {},
   "outputs": [],
   "source": []
  },
  {
   "cell_type": "markdown",
   "id": "919cf8d9",
   "metadata": {},
   "source": [
    "### Mapa de calor de correlaciones\n",
    "\n",
    "En este análisis, generamos un mapa de calor para visualizar las correlaciones entre las variables numéricas del dataset."
   ]
  },
  {
   "cell_type": "code",
   "execution_count": null,
   "id": "88090a32",
   "metadata": {},
   "outputs": [],
   "source": []
  },
  {
   "cell_type": "markdown",
   "id": "a6c277e6",
   "metadata": {},
   "source": [
    "### Relación entre variables numéricas\n",
    "\n",
    "En este análisis, generamos un gráfico de pares para visualizar la relación entre todas las variables numéricas del dataset. Este gráfico nos permite identificar patrones, tendencias y posibles correlaciones entre las variables."
   ]
  },
  {
   "cell_type": "code",
   "execution_count": null,
   "id": "66861821",
   "metadata": {},
   "outputs": [],
   "source": []
  },
  {
   "cell_type": "markdown",
   "id": "86bb51be",
   "metadata": {},
   "source": [
    "### Tendencia"
   ]
  },
  {
   "cell_type": "code",
   "execution_count": null,
   "id": "f6ab6760",
   "metadata": {},
   "outputs": [],
   "source": []
  },
  {
   "cell_type": "markdown",
   "id": "5ea83170",
   "metadata": {},
   "source": [
    "### Relación"
   ]
  },
  {
   "cell_type": "code",
   "execution_count": null,
   "id": "1131c688",
   "metadata": {},
   "outputs": [],
   "source": []
  },
  {
   "cell_type": "markdown",
   "id": "61e49490",
   "metadata": {},
   "source": [
    "### Definición de la variable objetivo\n",
    "\n",
    "Para este análisis, hemos decidido que la variable objetivo será"
   ]
  },
  {
   "cell_type": "markdown",
   "id": "f85dbdd1",
   "metadata": {},
   "source": [
    "#### Justificación:\n",
    "1. Es una variable"
   ]
  },
  {
   "cell_type": "markdown",
   "id": "820818f5",
   "metadata": {},
   "source": [
    "#### Tratamiento de la variable objetivo:\n",
    "- Verificamos si hay valores faltantes en"
   ]
  },
  {
   "cell_type": "code",
   "execution_count": null,
   "id": "da096932",
   "metadata": {},
   "outputs": [],
   "source": []
  },
  {
   "cell_type": "markdown",
   "id": "894fee08",
   "metadata": {},
   "source": [
    "# 5 Análisis estadístico"
   ]
  },
  {
   "cell_type": "markdown",
   "id": "93ae3797",
   "metadata": {},
   "source": [
    " ## Pruebas paramétricas\n",
    " ###   pruebas de normalidad"
   ]
  },
  {
   "cell_type": "code",
   "execution_count": null,
   "id": "404570e9",
   "metadata": {},
   "outputs": [],
   "source": []
  },
  {
   "cell_type": "markdown",
   "id": "94f480a2",
   "metadata": {},
   "source": [
    "###   Kolmogorov-Simirnov"
   ]
  },
  {
   "cell_type": "code",
   "execution_count": null,
   "id": "6a1733f7",
   "metadata": {},
   "outputs": [],
   "source": []
  },
  {
   "cell_type": "markdown",
   "id": "441b3ad4",
   "metadata": {},
   "source": [
    "Hallazgos: "
   ]
  },
  {
   "cell_type": "markdown",
   "id": "8ce577ff",
   "metadata": {},
   "source": [
    " ### Shapiro-Wilk"
   ]
  },
  {
   "cell_type": "code",
   "execution_count": null,
   "id": "ce941aa1",
   "metadata": {},
   "outputs": [],
   "source": []
  },
  {
   "cell_type": "markdown",
   "id": "f192523c",
   "metadata": {},
   "source": [
    "Hallazgos: "
   ]
  },
  {
   "cell_type": "markdown",
   "id": "9ab47a1f",
   "metadata": {},
   "source": []
  },
  {
   "cell_type": "markdown",
   "id": "3380759a",
   "metadata": {},
   "source": [
    "#### Visualización de la distribución: Gráfico Q-Q"
   ]
  },
  {
   "cell_type": "code",
   "execution_count": null,
   "id": "00f6f12d",
   "metadata": {},
   "outputs": [],
   "source": []
  },
  {
   "cell_type": "markdown",
   "id": "3b77793c",
   "metadata": {},
   "source": [
    "### Prueba de Homegeneidad de varianza\n",
    "\n",
    "Nos hemos decantado por Levene porque la prueba de Bartlett es más sensible a desviaciones de normalidad en los datos."
   ]
  },
  {
   "cell_type": "markdown",
   "id": "77d57c7b",
   "metadata": {},
   "source": [
    "#### Levene"
   ]
  },
  {
   "cell_type": "code",
   "execution_count": null,
   "id": "bfbea2be",
   "metadata": {},
   "outputs": [],
   "source": []
  },
  {
   "cell_type": "markdown",
   "id": "7df063cc",
   "metadata": {},
   "source": [
    "#### Generamos un boxplot para comparar visualmente las distribuciones de Diabetes_Prevalence entre los países"
   ]
  },
  {
   "cell_type": "code",
   "execution_count": null,
   "id": "c1a8edc3",
   "metadata": {},
   "outputs": [],
   "source": []
  },
  {
   "cell_type": "markdown",
   "id": "2cb61c45",
   "metadata": {},
   "source": []
  },
  {
   "cell_type": "markdown",
   "id": "153da97c",
   "metadata": {},
   "source": [
    "#### Prueba de ANOVA:\n",
    "La prueba de ANOVA permitirá evaluar si las medias de diabetes_prevalence son significativamente diferentes entre los países"
   ]
  },
  {
   "cell_type": "markdown",
   "id": "6e5eadb8",
   "metadata": {},
   "source": []
  },
  {
   "cell_type": "markdown",
   "id": "bd0d4f7a",
   "metadata": {},
   "source": [
    "## 5. Análisis Univariante\n",
    "### 5.1 Estadísticas Descriptivas\n",
    "- Presentamos las estadísticas descriptivas básicas para entender las características generales de las variables numéricas en el dataset."
   ]
  },
  {
   "cell_type": "code",
   "execution_count": 28,
   "id": "01cba78a",
   "metadata": {},
   "outputs": [
    {
     "name": "stdout",
     "output_type": "stream",
     "text": [
      "Estadísticas descriptivas:\n",
      "                  id     model_year         milage  transmission_num         price\n",
      "count  188533.000000  188533.000000  188533.000000     104247.000000  1.885330e+05\n",
      "mean    94266.000000    2015.829998   65705.295174          7.085480  4.387802e+04\n",
      "std     54424.933488       5.660967   49798.158076          1.751572  7.881952e+04\n",
      "min         0.000000    1974.000000     100.000000          1.000000  2.000000e+03\n",
      "25%     47133.000000    2013.000000   24115.000000          6.000000  1.700000e+04\n",
      "50%     94266.000000    2017.000000   57785.000000          7.000000  3.082500e+04\n",
      "75%    141399.000000    2020.000000   95400.000000          8.000000  4.990000e+04\n",
      "max    188532.000000    2024.000000  405000.000000         10.000000  2.954083e+06\n"
     ]
    }
   ],
   "source": [
    "df_car_clean = pd.read_csv(clean_data_car_csv_path)\n",
    "print(\"Estadísticas descriptivas:\")\n",
    "print(df_car_clean.describe())"
   ]
  },
  {
   "cell_type": "markdown",
   "id": "e3aa7351",
   "metadata": {},
   "source": [
    "#### 6.2 Visualización de la Distribución\n",
    "- Analizamos la distribución de la variable `price` para identificar patrones, sesgos o valores atípicos"
   ]
  },
  {
   "cell_type": "code",
   "execution_count": 20,
   "id": "04978970",
   "metadata": {},
   "outputs": [
    {
     "data": {
      "image/png": "[encoded data removed]",
      "text/plain": [
       "<Figure size 1000x600 with 1 Axes>"
      ]
     },
     "metadata": {},
     "output_type": "display_data"
    }
   ],
   "source": [
    "plt.figure(figsize=(10, 6))\n",
    "sns.histplot(data=df_car, x='price', bins=30)\n",
    "plt.title('Distribución de precios de coches')\n",
    "plt.xlabel('Precio')\n",
    "plt.ylabel('Frecuencia')\n",
    "plt.show()"
   ]
  },
  {
   "cell_type": "markdown",
   "id": "45e45296",
   "metadata": {},
   "source": [
    "Hallazgos: Esperar a tratamiento de outliers"
   ]
  },
  {
   "cell_type": "markdown",
   "id": "af495007",
   "metadata": {},
   "source": [
    "## 6. Análisis Bivariante\n",
    "### 6.1 Correlaciones y Relaciones entre Variables"
   ]
  },
  {
   "cell_type": "markdown",
   "id": "0981e928",
   "metadata": {},
   "source": [
    "- Nos enfocamos específicamente en la relación entre la variable objetivo price y las posibles variables más relacionadas."
   ]
  },
  {
   "cell_type": "markdown",
   "id": "312286d8",
   "metadata": {},
   "source": [
    "- Creamos un mapa de calor para ver las relaciones entre las variables numéricas."
   ]
  },
  {
   "cell_type": "code",
   "execution_count": 29,
   "id": "06a3c343",
   "metadata": {},
   "outputs": [
    {
     "name": "stdout",
     "output_type": "stream",
     "text": [
      "<class 'pandas.core.frame.DataFrame'>\n",
      "RangeIndex: 188533 entries, 0 to 188532\n",
      "Data columns (total 14 columns):\n",
      " #   Column              Non-Null Count   Dtype  \n",
      "---  ------              --------------   -----  \n",
      " 0   id                  188533 non-null  int64  \n",
      " 1   brand               188533 non-null  object \n",
      " 2   model               188533 non-null  object \n",
      " 3   model_year          188533 non-null  int64  \n",
      " 4   milage              188533 non-null  int64  \n",
      " 5   fuel_type           182654 non-null  object \n",
      " 6   engine              188533 non-null  object \n",
      " 7   transmission        188533 non-null  object \n",
      " 8   transmission_types  188533 non-null  object \n",
      " 9   transmission_num    104247 non-null  float64\n",
      " 10  ext_col             188533 non-null  object \n",
      " 11  int_col             188533 non-null  object \n",
      " 12  accident            188533 non-null  bool   \n",
      " 13  price               188533 non-null  int64  \n",
      "dtypes: bool(1), float64(1), int64(4), object(8)\n",
      "memory usage: 18.9+ MB\n"
     ]
    }
   ],
   "source": [
    "df_car_clean.info()"
   ]
  },
  {
   "cell_type": "code",
   "execution_count": 31,
   "id": "9c6f4b4b",
   "metadata": {},
   "outputs": [
    {
     "name": "stdout",
     "output_type": "stream",
     "text": [
      "Index(['id', 'model_year', 'milage', 'transmission_num', 'price'], dtype='object')\n"
     ]
    },
    {
     "data": {
      "image/png": "[encoded data removed]",
      "text/plain": [
       "<Figure size 1200x800 with 2 Axes>"
      ]
     },
     "metadata": {},
     "output_type": "display_data"
    }
   ],
   "source": [
    "# Filtrar solo las columnas numéricas\n",
    "numeric_columns = df_car_clean.select_dtypes(include=['float64', 'int64'])\n",
    "print(numeric_columns.columns)\n",
    "# Calcular la matriz de correlación\n",
    "correlation_matrix = numeric_columns.corr() \n",
    "\n",
    "plt.figure(figsize=(12, 8))\n",
    "sns.heatmap(correlation_matrix, annot=True, cmap='coolwarm', fmt=\".2f\")\n",
    "plt.title(\"Mapa de calor de correlaciones\")\n",
    "plt.show()"
   ]
  },
  {
   "cell_type": "markdown",
   "id": "19e52e5c",
   "metadata": {},
   "source": [
    "Hallazgos:  \n",
    "- Las variables transmission_num y model_year tienen una correlación posistiva moderada lo cuál indica que los vehículos más recientes suelen incorporar transmisiones más avanzadas con un mayor número de velocidades (por ejemplo, 6, 7 u 8 marchas) para mejorar la eficiencia del combustible y el rendimiento\n",
    "- En el análisis bivariado, se identificaron las variables model_year y milage como relevantes para predecir el precio (price). model_year muestra una correlación positiva moderada con price (0.23), indicando que los coches más nuevos tienden a tener precios más altos. Por otro lado, milage tiene una correlación negativa moderada con price (-0.28), lo que sugiere que los coches con mayor kilometraje suelen tener precios más bajos. Mileage y model_year tienen una correlación negativa fuerte entre sí (-0.67), lo que es lógico ya que cuánto más nuevo sea el coche menos kilómetros tendrá, ambas aportan información complementaria sobre la antigüedad y el uso del coche, siendo útiles para el modelo predictivo.\n",
    "\n",
    "Investigación: \n",
    "\n",
    "El motivo por el que los coches no paran de aumentar sus marchas es porque :\n",
    "El gran motivo detrás de esta tendencia está en la necesidad de los fabricantes de vehículos de adaptarse a las exigentes normas anticontaminación que se han ido aprobando. Así, han tenido que desarrollar motores más eficientes que optimicen su consumo y, por tanto, sus emisiones.\n",
    "\n",
    "De este modo, al tener más marchas más cercanas entre sí, en teoría, se consigue aprovechar mejor toda la energía salida del motor de manera más efectiva, manteniendo las revoluciones dentro de su rango más propicio para obtener una entrega de par motor y potencia máxima."
   ]
  },
  {
   "cell_type": "markdown",
   "id": "28c2cc68",
   "metadata": {},
   "source": [
    "#### Gráfico de Dispersión\n",
    "Para visualizar la relación entre price y cada variable relevante."
   ]
  },
  {
   "cell_type": "markdown",
   "id": "087c39e7",
   "metadata": {},
   "source": [
    "#### Relación entre diferentes variables\n",
    "- Creamos una función que genere gráficos de dispersión y calcule la correlación entre diabetes_prevalence y otras variables numéricas que deseemos analizar."
   ]
  },
  {
   "cell_type": "code",
   "execution_count": 37,
   "id": "1a931ba4",
   "metadata": {},
   "outputs": [
    {
     "name": "stdout",
     "output_type": "stream",
     "text": [
      "Correlación entre price y milage: -0.28\n"
     ]
    },
    {
     "data": {
      "image/png": "[encoded data removed]",
      "text/plain": [
       "<Figure size 800x500 with 1 Axes>"
      ]
     },
     "metadata": {},
     "output_type": "display_data"
    },
    {
     "name": "stdout",
     "output_type": "stream",
     "text": [
      "Correlación entre price y model_year: 0.23\n"
     ]
    },
    {
     "data": {
      "image/png": "[encoded data removed]",
      "text/plain": [
       "<Figure size 800x500 with 1 Axes>"
      ]
     },
     "metadata": {},
     "output_type": "display_data"
    },
    {
     "name": "stdout",
     "output_type": "stream",
     "text": [
      "Correlación entre price y transmission_num: 0.12\n"
     ]
    },
    {
     "data": {
      "image/png": "[encoded data removed]",
      "text/plain": [
       "<Figure size 800x500 with 1 Axes>"
      ]
     },
     "metadata": {},
     "output_type": "display_data"
    },
    {
     "name": "stdout",
     "output_type": "stream",
     "text": [
      "Correlación entre price y accident: -0.13\n"
     ]
    },
    {
     "data": {
      "image/png": "[encoded data removed]",
      "text/plain": [
       "<Figure size 800x500 with 1 Axes>"
      ]
     },
     "metadata": {},
     "output_type": "display_data"
    }
   ],
   "source": [
    "def analyze_relationship(df, target, predictors):\n",
    "    for predictor in predictors:\n",
    "        # Calcular la correlación\n",
    "        correlation = df[target].corr(df[predictor])\n",
    "        print(f\"Correlación entre {target} y {predictor}: {correlation:.2f}\")\n",
    "        \n",
    "        # Generar gráfico de dispersión\n",
    "        plt.figure(figsize=(8, 5))\n",
    "        sns.scatterplot(data=df, x=predictor, y=target)\n",
    "        plt.title(f\"Relación entre {predictor} y {target} (Correlación: {correlation:.2f})\")\n",
    "        plt.xlabel(predictor)\n",
    "        plt.ylabel(target)\n",
    "        plt.grid()\n",
    "        plt.show()\n",
    "\n",
    "# Filtrar las variables predictoras que existen en el DataFrame\n",
    "predictors = [\n",
    "    'milage', \n",
    "    'model_year',\n",
    "    'transmission_num', \n",
    "    'accident', \n",
    "]\n",
    "\n",
    "analyze_relationship(df_car_clean, target='price', predictors=predictors)"
   ]
  },
  {
   "cell_type": "code",
   "execution_count": 71,
   "id": "6c424fed",
   "metadata": {},
   "outputs": [],
   "source": [
    "# def analyze_relationship(df, target, predictors):\n",
    "#     for predictor in predictors:\n",
    "#         # Calcular la correlación\n",
    "#         correlation = df[target].corr(df[predictor])\n",
    "#         print(f\"Correlación entre {target} y {predictor}: {correlation:.2f}\")\n",
    "        \n",
    "#         # Generar gráfico de dispersión\n",
    "#         plt.figure(figsize=(8, 5))\n",
    "#         sns.scatterplot(data=df, x=predictor, y=target)\n",
    "#         plt.title(f\"Relación entre {predictor} y {target} (Correlación: {correlation:.2f})\")\n",
    "#         plt.xlabel(predictor)\n",
    "#         plt.ylabel(target)\n",
    "#         plt.grid()\n",
    "#         plt.show()\n",
    "\n",
    "# # Filtrar las variables predictoras que existen en el DataFrame\n",
    "# predictors = [\n",
    "#     'milage', \n",
    "#     'model_year', \n",
    "#     'fuel_type_Diesel', \n",
    "#     'transmission_Manual', \n",
    "#     'ext_col_Black', \n",
    "#     'int_col_Gray', \n",
    "#     'accident_Yes', \n",
    "#     'clean_title'\n",
    "# ]\n",
    "\n",
    "# analyze_relationship(df_car_price, target='price', predictors=predictors)"
   ]
  },
  {
   "cell_type": "markdown",
   "id": "08a1d6b8",
   "metadata": {},
   "source": [
    "# 8. Preprocesamiento de datos"
   ]
  },
  {
   "cell_type": "markdown",
   "id": "22ebb1ac",
   "metadata": {},
   "source": [
    "- Codificación de variables categóricas (por ejemplo, LabelEncoder o pd.get_dummies)."
   ]
  },
  {
   "cell_type": "markdown",
   "id": "b85bb985",
   "metadata": {},
   "source": [
    "# 9. Conclusión:"
   ]
  }
 ],
 "metadata": {
  "kernelspec": {
   "display_name": ".venv",
   "language": "python",
   "name": "python3"
  },
  "language_info": {
   "codemirror_mode": {
    "name": "ipython",
    "version": 3
   },
   "file_extension": ".py",
   "mimetype": "text/x-python",
   "name": "python",
   "nbconvert_exporter": "python",
   "pygments_lexer": "ipython3",
   "version": "3.13.2"
  }
 },
 "nbformat": 4,
 "nbformat_minor": 5
}
