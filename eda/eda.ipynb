{
 "cells": [
  {
   "cell_type": "markdown",
   "id": "78d8cbc1",
   "metadata": {},
   "source": [
    "# Análisis Exploratorio de Datos (EDA): \n",
    "\n",
    "## Objetivo\n",
    "Este notebook contiene el análisis exploratorio completo del dataset, siguiendo una estructura organizada y metódica para entender los datos, limpiarlos y prepararlos para modelado.\n",
    "\n",
    "## Contenido\n",
    "1. Configuración Inicial y librearías\n",
    "2. Carga y Vista General de los Datos\n",
    "3. Limpieza y Preprocesamiento\n",
    "4. Análisis Exploratorio de los Datos\n",
    "5. Análisis estadístico\n",
    "6. Análisis Univariante\n",
    "7. Análisis Bivariante\n",
    "8. Conclusiones"
   ]
  },
  {
   "cell_type": "markdown",
   "id": "7d819b54",
   "metadata": {},
   "source": [
    "Esto es una prueba "
   ]
  },
  {
   "cell_type": "code",
   "execution_count": 3,
   "id": "37de0bc0",
   "metadata": {},
   "outputs": [],
   "source": [
    "import pandas as pd \n",
    "import os"
   ]
  },
  {
   "cell_type": "code",
   "execution_count": 2,
   "id": "6500d1fa",
   "metadata": {},
   "outputs": [],
   "source": [
    "pd.set_option('display.max_rows', 100) \n",
    "pd.set_option('display.max_columns', None) \n",
    "\n",
    "# pd.set_option('display.max_columns', None)  # Show all columns\n",
    "# pd.set_option('display.max_rows', None)     # Show all rows\n",
    "# pd.set_option('display.max_colwidth', None) # Show entire content of each column\n",
    "pd.set_option('display.width', None)        # No limit on display width\n",
    "pd.set_option('display.expand_frame_repr', False)  # Prevent wrapping"
   ]
  },
  {
   "cell_type": "code",
   "execution_count": 4,
   "id": "8dc21f4b",
   "metadata": {},
   "outputs": [],
   "source": [
    "# Setting paths\n",
    "current_dir = os.getcwd()  # Use os.getcwd() to get the current working directory\n",
    "parent_dir = os.path.dirname(current_dir)\n",
    "data_dir = os.path.join(parent_dir, \"data\")\n",
    "file_path = os.path.join(data_dir, \"\")\n",
    "\n",
    "cars_csv_path = os.path.join(data_dir, \"train.csv\")\n",
    "\n",
    "#----------------------------------------------------------------------------------------------------\n",
    "# Creading dataframes\n",
    "df_car = pd.read_csv(cars_csv_path)"
   ]
  },
  {
   "cell_type": "code",
   "execution_count": 5,
   "id": "707a0fbe",
   "metadata": {},
   "outputs": [
    {
     "data": {
      "application/vnd.microsoft.datawrangler.viewer.v0+json": {
       "columns": [
        {
         "name": "index",
         "rawType": "int64",
         "type": "integer"
        },
        {
         "name": "id",
         "rawType": "int64",
         "type": "integer"
        },
        {
         "name": "brand",
         "rawType": "object",
         "type": "string"
        },
        {
         "name": "model",
         "rawType": "object",
         "type": "string"
        },
        {
         "name": "model_year",
         "rawType": "int64",
         "type": "integer"
        },
        {
         "name": "milage",
         "rawType": "int64",
         "type": "integer"
        },
        {
         "name": "fuel_type",
         "rawType": "object",
         "type": "string"
        },
        {
         "name": "engine",
         "rawType": "object",
         "type": "string"
        },
        {
         "name": "transmission",
         "rawType": "object",
         "type": "string"
        },
        {
         "name": "ext_col",
         "rawType": "object",
         "type": "string"
        },
        {
         "name": "int_col",
         "rawType": "object",
         "type": "string"
        },
        {
         "name": "accident",
         "rawType": "object",
         "type": "string"
        },
        {
         "name": "clean_title",
         "rawType": "object",
         "type": "string"
        },
        {
         "name": "price",
         "rawType": "int64",
         "type": "integer"
        }
       ],
       "conversionMethod": "pd.DataFrame",
       "ref": "9583190c-a68c-4f7d-a2a8-3d3202f573d4",
       "rows": [
        [
         "119982",
         "119982",
         "Audi",
         "A7 55 Premium",
         "2022",
         "12000",
         "Hybrid",
         "335.0HP 3.0L V6 Cylinder Engine Gasoline/Mild Electric Hybrid",
         "A/T",
         "White",
         "Black",
         "None reported",
         "Yes",
         "75000"
        ],
        [
         "84843",
         "84843",
         "Ford",
         "F-250 XL",
         "2016",
         "29719",
         "E85 Flex Fuel",
         "385.0HP 6.2L 8 Cylinder Engine Flex Fuel Capability",
         "A/T",
         "White",
         "Gray",
         "None reported",
         "Yes",
         "31950"
        ],
        [
         "94580",
         "94580",
         "Land",
         "Rover Range Rover Sport HSE",
         "2016",
         "87500",
         "Gasoline",
         "340.0HP 3.0L V6 Cylinder Engine Gasoline Fuel",
         "A/T",
         "Gray",
         "Black",
         "None reported",
         "Yes",
         "28000"
        ],
        [
         "58",
         "58",
         "Land",
         "Rover Range Rover Sport HSE",
         "2008",
         "122000",
         "Gasoline",
         "300.0HP 4.4L 8 Cylinder Engine Gasoline Fuel",
         "A/T",
         "White",
         "Beige",
         "None reported",
         "Yes",
         "8000"
        ],
        [
         "5889",
         "5889",
         "BMW",
         "M235 i",
         "2013",
         "82000",
         "Gasoline",
         "320.0HP 3.0L Straight 6 Cylinder Engine Gasoline Fuel",
         "6-Speed M/T",
         "Black",
         "Red",
         "None reported",
         "Yes",
         "14999"
        ]
       ],
       "shape": {
        "columns": 13,
        "rows": 5
       }
      },
      "text/html": [
       "<div>\n",
       "<style scoped>\n",
       "    .dataframe tbody tr th:only-of-type {\n",
       "        vertical-align: middle;\n",
       "    }\n",
       "\n",
       "    .dataframe tbody tr th {\n",
       "        vertical-align: top;\n",
       "    }\n",
       "\n",
       "    .dataframe thead th {\n",
       "        text-align: right;\n",
       "    }\n",
       "</style>\n",
       "<table border=\"1\" class=\"dataframe\">\n",
       "  <thead>\n",
       "    <tr style=\"text-align: right;\">\n",
       "      <th></th>\n",
       "      <th>id</th>\n",
       "      <th>brand</th>\n",
       "      <th>model</th>\n",
       "      <th>model_year</th>\n",
       "      <th>milage</th>\n",
       "      <th>fuel_type</th>\n",
       "      <th>engine</th>\n",
       "      <th>transmission</th>\n",
       "      <th>ext_col</th>\n",
       "      <th>int_col</th>\n",
       "      <th>accident</th>\n",
       "      <th>clean_title</th>\n",
       "      <th>price</th>\n",
       "    </tr>\n",
       "  </thead>\n",
       "  <tbody>\n",
       "    <tr>\n",
       "      <th>119982</th>\n",
       "      <td>119982</td>\n",
       "      <td>Audi</td>\n",
       "      <td>A7 55 Premium</td>\n",
       "      <td>2022</td>\n",
       "      <td>12000</td>\n",
       "      <td>Hybrid</td>\n",
       "      <td>335.0HP 3.0L V6 Cylinder Engine Gasoline/Mild ...</td>\n",
       "      <td>A/T</td>\n",
       "      <td>White</td>\n",
       "      <td>Black</td>\n",
       "      <td>None reported</td>\n",
       "      <td>Yes</td>\n",
       "      <td>75000</td>\n",
       "    </tr>\n",
       "    <tr>\n",
       "      <th>84843</th>\n",
       "      <td>84843</td>\n",
       "      <td>Ford</td>\n",
       "      <td>F-250 XL</td>\n",
       "      <td>2016</td>\n",
       "      <td>29719</td>\n",
       "      <td>E85 Flex Fuel</td>\n",
       "      <td>385.0HP 6.2L 8 Cylinder Engine Flex Fuel Capab...</td>\n",
       "      <td>A/T</td>\n",
       "      <td>White</td>\n",
       "      <td>Gray</td>\n",
       "      <td>None reported</td>\n",
       "      <td>Yes</td>\n",
       "      <td>31950</td>\n",
       "    </tr>\n",
       "    <tr>\n",
       "      <th>94580</th>\n",
       "      <td>94580</td>\n",
       "      <td>Land</td>\n",
       "      <td>Rover Range Rover Sport HSE</td>\n",
       "      <td>2016</td>\n",
       "      <td>87500</td>\n",
       "      <td>Gasoline</td>\n",
       "      <td>340.0HP 3.0L V6 Cylinder Engine Gasoline Fuel</td>\n",
       "      <td>A/T</td>\n",
       "      <td>Gray</td>\n",
       "      <td>Black</td>\n",
       "      <td>None reported</td>\n",
       "      <td>Yes</td>\n",
       "      <td>28000</td>\n",
       "    </tr>\n",
       "    <tr>\n",
       "      <th>58</th>\n",
       "      <td>58</td>\n",
       "      <td>Land</td>\n",
       "      <td>Rover Range Rover Sport HSE</td>\n",
       "      <td>2008</td>\n",
       "      <td>122000</td>\n",
       "      <td>Gasoline</td>\n",
       "      <td>300.0HP 4.4L 8 Cylinder Engine Gasoline Fuel</td>\n",
       "      <td>A/T</td>\n",
       "      <td>White</td>\n",
       "      <td>Beige</td>\n",
       "      <td>None reported</td>\n",
       "      <td>Yes</td>\n",
       "      <td>8000</td>\n",
       "    </tr>\n",
       "    <tr>\n",
       "      <th>5889</th>\n",
       "      <td>5889</td>\n",
       "      <td>BMW</td>\n",
       "      <td>M235 i</td>\n",
       "      <td>2013</td>\n",
       "      <td>82000</td>\n",
       "      <td>Gasoline</td>\n",
       "      <td>320.0HP 3.0L Straight 6 Cylinder Engine Gasoli...</td>\n",
       "      <td>6-Speed M/T</td>\n",
       "      <td>Black</td>\n",
       "      <td>Red</td>\n",
       "      <td>None reported</td>\n",
       "      <td>Yes</td>\n",
       "      <td>14999</td>\n",
       "    </tr>\n",
       "  </tbody>\n",
       "</table>\n",
       "</div>"
      ],
      "text/plain": [
       "            id brand                        model  model_year  milage      fuel_type                                             engine transmission ext_col int_col       accident clean_title  price\n",
       "119982  119982  Audi                A7 55 Premium        2022   12000         Hybrid  335.0HP 3.0L V6 Cylinder Engine Gasoline/Mild ...          A/T   White   Black  None reported         Yes  75000\n",
       "84843    84843  Ford                     F-250 XL        2016   29719  E85 Flex Fuel  385.0HP 6.2L 8 Cylinder Engine Flex Fuel Capab...          A/T   White    Gray  None reported         Yes  31950\n",
       "94580    94580  Land  Rover Range Rover Sport HSE        2016   87500       Gasoline      340.0HP 3.0L V6 Cylinder Engine Gasoline Fuel          A/T    Gray   Black  None reported         Yes  28000\n",
       "58          58  Land  Rover Range Rover Sport HSE        2008  122000       Gasoline       300.0HP 4.4L 8 Cylinder Engine Gasoline Fuel          A/T   White   Beige  None reported         Yes   8000\n",
       "5889      5889   BMW                       M235 i        2013   82000       Gasoline  320.0HP 3.0L Straight 6 Cylinder Engine Gasoli...  6-Speed M/T   Black     Red  None reported         Yes  14999"
      ]
     },
     "execution_count": 5,
     "metadata": {},
     "output_type": "execute_result"
    }
   ],
   "source": [
    "df_car.sample(5)"
   ]
  }
 ],
 "metadata": {
  "kernelspec": {
   "display_name": ".venv",
   "language": "python",
   "name": "python3"
  },
  "language_info": {
   "codemirror_mode": {
    "name": "ipython",
    "version": 3
   },
   "file_extension": ".py",
   "mimetype": "text/x-python",
   "name": "python",
   "nbconvert_exporter": "python",
   "pygments_lexer": "ipython3",
   "version": "3.13.2"
  }
 },
 "nbformat": 4,
 "nbformat_minor": 5
}
