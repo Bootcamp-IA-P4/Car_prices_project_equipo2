{
 "cells": [
  {
   "cell_type": "markdown",
   "id": "78d8cbc1",
   "metadata": {},
   "source": [
    "# Análisis Exploratorio de Datos (EDA): \n",
    "\n",
    "## Objetivo\n",
    "Este notebook contiene el análisis exploratorio completo del dataset, siguiendo una estructura organizada y metódica para entender los datos, limpiarlos y prepararlos para modelado.\n",
    "\n",
    "## Contenido\n",
    "1. Configuración Inicial y librearías\n",
    "2. Carga y Vista General de los Datos\n",
    "3. Limpieza y Preprocesamiento\n",
    "4. Análisis Exploratorio de los Datos\n",
    "5. Análisis estadístico\n",
    "6. Análisis Univariante\n",
    "7. Análisis Bivariante\n",
    "8. Conclusiones"
   ]
  },
  {
   "cell_type": "markdown",
   "id": "7d819b54",
   "metadata": {},
   "source": [
    "Esto es una prueba "
   ]
  },
  {
   "cell_type": "code",
   "execution_count": 3,
   "id": "37de0bc0",
   "metadata": {},
   "outputs": [],
   "source": [
    "import pandas as pd \n",
    "import os"
   ]
  },
  {
   "cell_type": "code",
   "execution_count": 2,
   "id": "6500d1fa",
   "metadata": {},
   "outputs": [],
   "source": [
    "pd.set_option('display.max_rows', 100) \n",
    "pd.set_option('display.max_columns', None) \n",
    "\n",
    "# pd.set_option('display.max_columns', None)  # Show all columns\n",
    "# pd.set_option('display.max_rows', None)     # Show all rows\n",
    "# pd.set_option('display.max_colwidth', None) # Show entire content of each column\n",
    "pd.set_option('display.width', None)        # No limit on display width\n",
    "pd.set_option('display.expand_frame_repr', False)  # Prevent wrapping"
   ]
  },
  {
   "cell_type": "code",
   "execution_count": 4,
   "id": "8dc21f4b",
   "metadata": {},
   "outputs": [],
   "source": [
    "# Setting paths\n",
    "current_dir = os.getcwd()  # Use os.getcwd() to get the current working directory\n",
    "parent_dir = os.path.dirname(current_dir)\n",
    "data_dir = os.path.join(parent_dir, \"data\")\n",
    "file_path = os.path.join(data_dir, \"\")\n",
    "\n",
    "cars_csv_path = os.path.join(data_dir, \"train.csv\")\n",
    "\n",
    "#----------------------------------------------------------------------------------------------------\n",
    "# Creading dataframes\n",
    "df_car = pd.read_csv(cars_csv_path)"
   ]
  },
  {
   "cell_type": "code",
   "execution_count": 5,
   "id": "707a0fbe",
   "metadata": {},
   "outputs": [
    {
     "data": {
      "application/vnd.microsoft.datawrangler.viewer.v0+json": {
       "columns": [
        {
         "name": "index",
         "rawType": "int64",
         "type": "integer"
        },
        {
         "name": "id",
         "rawType": "int64",
         "type": "integer"
        },
        {
         "name": "brand",
         "rawType": "object",
         "type": "string"
        },
        {
         "name": "model",
         "rawType": "object",
         "type": "string"
        },
        {
         "name": "model_year",
         "rawType": "int64",
         "type": "integer"
        },
        {
         "name": "milage",
         "rawType": "int64",
         "type": "integer"
        },
        {
         "name": "fuel_type",
         "rawType": "object",
         "type": "string"
        },
        {
         "name": "engine",
         "rawType": "object",
         "type": "string"
        },
        {
         "name": "transmission",
         "rawType": "object",
         "type": "string"
        },
        {
         "name": "ext_col",
         "rawType": "object",
         "type": "string"
        },
        {
         "name": "int_col",
         "rawType": "object",
         "type": "string"
        },
        {
         "name": "accident",
         "rawType": "object",
         "type": "string"
        },
        {
         "name": "clean_title",
         "rawType": "object",
         "type": "string"
        },
        {
         "name": "price",
         "rawType": "int64",
         "type": "integer"
        }
       ],
       "conversionMethod": "pd.DataFrame",
       "ref": "9583190c-a68c-4f7d-a2a8-3d3202f573d4",
       "rows": [
        [
         "119982",
         "119982",
         "Audi",
         "A7 55 Premium",
         "2022",
         "12000",
         "Hybrid",
         "335.0HP 3.0L V6 Cylinder Engine Gasoline/Mild Electric Hybrid",
         "A/T",
         "White",
         "Black",
         "None reported",
         "Yes",
         "75000"
        ],
        [
         "84843",
         "84843",
         "Ford",
         "F-250 XL",
         "2016",
         "29719",
         "E85 Flex Fuel",
         "385.0HP 6.2L 8 Cylinder Engine Flex Fuel Capability",
         "A/T",
         "White",
         "Gray",
         "None reported",
         "Yes",
         "31950"
        ],
        [
         "94580",
         "94580",
         "Land",
         "Rover Range Rover Sport HSE",
         "2016",
         "87500",
         "Gasoline",
         "340.0HP 3.0L V6 Cylinder Engine Gasoline Fuel",
         "A/T",
         "Gray",
         "Black",
         "None reported",
         "Yes",
         "28000"
        ],
        [
         "58",
         "58",
         "Land",
         "Rover Range Rover Sport HSE",
         "2008",
         "122000",
         "Gasoline",
         "300.0HP 4.4L 8 Cylinder Engine Gasoline Fuel",
         "A/T",
         "White",
         "Beige",
         "None reported",
         "Yes",
         "8000"
        ],
        [
         "5889",
         "5889",
         "BMW",
         "M235 i",
         "2013",
         "82000",
         "Gasoline",
         "320.0HP 3.0L Straight 6 Cylinder Engine Gasoline Fuel",
         "6-Speed M/T",
         "Black",
         "Red",
         "None reported",
         "Yes",
         "14999"
        ]
       ],
       "shape": {
        "columns": 13,
        "rows": 5
       }
      },
      "text/html": [
       "<div>\n",
       "<style scoped>\n",
       "    .dataframe tbody tr th:only-of-type {\n",
       "        vertical-align: middle;\n",
       "    }\n",
       "\n",
       "    .dataframe tbody tr th {\n",
       "        vertical-align: top;\n",
       "    }\n",
       "\n",
       "    .dataframe thead th {\n",
       "        text-align: right;\n",
       "    }\n",
       "</style>\n",
       "<table border=\"1\" class=\"dataframe\">\n",
       "  <thead>\n",
       "    <tr style=\"text-align: right;\">\n",
       "      <th></th>\n",
       "      <th>id</th>\n",
       "      <th>brand</th>\n",
       "      <th>model</th>\n",
       "      <th>model_year</th>\n",
       "      <th>milage</th>\n",
       "      <th>fuel_type</th>\n",
       "      <th>engine</th>\n",
       "      <th>transmission</th>\n",
       "      <th>ext_col</th>\n",
       "      <th>int_col</th>\n",
       "      <th>accident</th>\n",
       "      <th>clean_title</th>\n",
       "      <th>price</th>\n",
       "    </tr>\n",
       "  </thead>\n",
       "  <tbody>\n",
       "    <tr>\n",
       "      <th>119982</th>\n",
       "      <td>119982</td>\n",
       "      <td>Audi</td>\n",
       "      <td>A7 55 Premium</td>\n",
       "      <td>2022</td>\n",
       "      <td>12000</td>\n",
       "      <td>Hybrid</td>\n",
       "      <td>335.0HP 3.0L V6 Cylinder Engine Gasoline/Mild ...</td>\n",
       "      <td>A/T</td>\n",
       "      <td>White</td>\n",
       "      <td>Black</td>\n",
       "      <td>None reported</td>\n",
       "      <td>Yes</td>\n",
       "      <td>75000</td>\n",
       "    </tr>\n",
       "    <tr>\n",
       "      <th>84843</th>\n",
       "      <td>84843</td>\n",
       "      <td>Ford</td>\n",
       "      <td>F-250 XL</td>\n",
       "      <td>2016</td>\n",
       "      <td>29719</td>\n",
       "      <td>E85 Flex Fuel</td>\n",
       "      <td>385.0HP 6.2L 8 Cylinder Engine Flex Fuel Capab...</td>\n",
       "      <td>A/T</td>\n",
       "      <td>White</td>\n",
       "      <td>Gray</td>\n",
       "      <td>None reported</td>\n",
       "      <td>Yes</td>\n",
       "      <td>31950</td>\n",
       "    </tr>\n",
       "    <tr>\n",
       "      <th>94580</th>\n",
       "      <td>94580</td>\n",
       "      <td>Land</td>\n",
       "      <td>Rover Range Rover Sport HSE</td>\n",
       "      <td>2016</td>\n",
       "      <td>87500</td>\n",
       "      <td>Gasoline</td>\n",
       "      <td>340.0HP 3.0L V6 Cylinder Engine Gasoline Fuel</td>\n",
       "      <td>A/T</td>\n",
       "      <td>Gray</td>\n",
       "      <td>Black</td>\n",
       "      <td>None reported</td>\n",
       "      <td>Yes</td>\n",
       "      <td>28000</td>\n",
       "    </tr>\n",
       "    <tr>\n",
       "      <th>58</th>\n",
       "      <td>58</td>\n",
       "      <td>Land</td>\n",
       "      <td>Rover Range Rover Sport HSE</td>\n",
       "      <td>2008</td>\n",
       "      <td>122000</td>\n",
       "      <td>Gasoline</td>\n",
       "      <td>300.0HP 4.4L 8 Cylinder Engine Gasoline Fuel</td>\n",
       "      <td>A/T</td>\n",
       "      <td>White</td>\n",
       "      <td>Beige</td>\n",
       "      <td>None reported</td>\n",
       "      <td>Yes</td>\n",
       "      <td>8000</td>\n",
       "    </tr>\n",
       "    <tr>\n",
       "      <th>5889</th>\n",
       "      <td>5889</td>\n",
       "      <td>BMW</td>\n",
       "      <td>M235 i</td>\n",
       "      <td>2013</td>\n",
       "      <td>82000</td>\n",
       "      <td>Gasoline</td>\n",
       "      <td>320.0HP 3.0L Straight 6 Cylinder Engine Gasoli...</td>\n",
       "      <td>6-Speed M/T</td>\n",
       "      <td>Black</td>\n",
       "      <td>Red</td>\n",
       "      <td>None reported</td>\n",
       "      <td>Yes</td>\n",
       "      <td>14999</td>\n",
       "    </tr>\n",
       "  </tbody>\n",
       "</table>\n",
       "</div>"
      ],
      "text/plain": [
       "            id brand                        model  model_year  milage      fuel_type                                             engine transmission ext_col int_col       accident clean_title  price\n",
       "119982  119982  Audi                A7 55 Premium        2022   12000         Hybrid  335.0HP 3.0L V6 Cylinder Engine Gasoline/Mild ...          A/T   White   Black  None reported         Yes  75000\n",
       "84843    84843  Ford                     F-250 XL        2016   29719  E85 Flex Fuel  385.0HP 6.2L 8 Cylinder Engine Flex Fuel Capab...          A/T   White    Gray  None reported         Yes  31950\n",
       "94580    94580  Land  Rover Range Rover Sport HSE        2016   87500       Gasoline      340.0HP 3.0L V6 Cylinder Engine Gasoline Fuel          A/T    Gray   Black  None reported         Yes  28000\n",
       "58          58  Land  Rover Range Rover Sport HSE        2008  122000       Gasoline       300.0HP 4.4L 8 Cylinder Engine Gasoline Fuel          A/T   White   Beige  None reported         Yes   8000\n",
       "5889      5889   BMW                       M235 i        2013   82000       Gasoline  320.0HP 3.0L Straight 6 Cylinder Engine Gasoli...  6-Speed M/T   Black     Red  None reported         Yes  14999"
      ]
     },
     "execution_count": 5,
     "metadata": {},
     "output_type": "execute_result"
    }
   ],
   "source": [
    "df_car.sample(5)"
   ]
  },
  {
   "cell_type": "markdown",
   "id": "0f8b99cd",
   "metadata": {},
   "source": [
    "# 1. Configuración Inicial\n",
    "\n",
    "Importamos las bibliotecas necesarias y configuramos el entorno de trabajo."
   ]
  },
  {
   "cell_type": "code",
   "execution_count": 31,
   "id": "a0fb5d33",
   "metadata": {},
   "outputs": [],
   "source": [
    "import pandas as pd\n",
    "import numpy as np\n",
    "import matplotlib.pyplot as plt\n",
    "import seaborn as sns\n",
    "from scipy import stats\n",
    "import missingno as msno\n",
    "from sklearn.model_selection import train_test_split\n",
    "from sklearn.linear_model import LinearRegression\n",
    "from sklearn.metrics import mean_squared_error, r2_score\n",
    "import os\n"
   ]
  },
  {
   "cell_type": "markdown",
   "id": "2eaf3a57",
   "metadata": {},
   "source": [
    "### Configuración del estilo visual"
   ]
  },
  {
   "cell_type": "code",
   "execution_count": 32,
   "id": "4bb77ff6",
   "metadata": {},
   "outputs": [],
   "source": [
    "\n",
    "sns.set_style(\"whitegrid\")\n",
    "plt.rcParams['figure.figsize'] = (6, 4)\n",
    "%matplotlib inline"
   ]
  },
  {
   "cell_type": "code",
   "execution_count": 33,
   "id": "2b7fb12e",
   "metadata": {},
   "outputs": [
    {
     "name": "stdout",
     "output_type": "stream",
     "text": [
      "Librerías importadas y configuración realizada.\n"
     ]
    }
   ],
   "source": [
    "print(\"Librerías importadas y configuración realizada.\") "
   ]
  },
  {
   "cell_type": "markdown",
   "id": "d7d660e6",
   "metadata": {},
   "source": [
    "### Configuración de pandas"
   ]
  },
  {
   "cell_type": "code",
   "execution_count": 34,
   "id": "523b9c81",
   "metadata": {},
   "outputs": [],
   "source": [
    "pd.set_option('display.max_rows', 100) \n",
    "pd.set_option('display.max_columns', None) \n",
    "\n",
    "\n",
    "pd.set_option('display.width', None)        # No limit on display width\n",
    "pd.set_option('display.expand_frame_repr', False)  # Prevent wrapping"
   ]
  },
  {
   "cell_type": "markdown",
   "id": "db3c99c5",
   "metadata": {},
   "source": [
    "# 2. Carga y Preparación de los Datos\n",
    "\n",
    "### Cargamos el dataset y realizamos una inspección inicial para entender su estructura."
   ]
  },
  {
   "cell_type": "code",
   "execution_count": 35,
   "id": "96f2ed1f",
   "metadata": {},
   "outputs": [
    {
     "data": {
      "text/html": [
       "<div>\n",
       "<style scoped>\n",
       "    .dataframe tbody tr th:only-of-type {\n",
       "        vertical-align: middle;\n",
       "    }\n",
       "\n",
       "    .dataframe tbody tr th {\n",
       "        vertical-align: top;\n",
       "    }\n",
       "\n",
       "    .dataframe thead th {\n",
       "        text-align: right;\n",
       "    }\n",
       "</style>\n",
       "<table border=\"1\" class=\"dataframe\">\n",
       "  <thead>\n",
       "    <tr style=\"text-align: right;\">\n",
       "      <th></th>\n",
       "      <th>id</th>\n",
       "      <th>brand</th>\n",
       "      <th>model</th>\n",
       "      <th>model_year</th>\n",
       "      <th>milage</th>\n",
       "      <th>fuel_type</th>\n",
       "      <th>engine</th>\n",
       "      <th>transmission</th>\n",
       "      <th>ext_col</th>\n",
       "      <th>int_col</th>\n",
       "      <th>accident</th>\n",
       "      <th>clean_title</th>\n",
       "      <th>price</th>\n",
       "    </tr>\n",
       "  </thead>\n",
       "  <tbody>\n",
       "    <tr>\n",
       "      <th>0</th>\n",
       "      <td>0</td>\n",
       "      <td>MINI</td>\n",
       "      <td>Cooper S Base</td>\n",
       "      <td>2007</td>\n",
       "      <td>213000</td>\n",
       "      <td>Gasoline</td>\n",
       "      <td>172.0HP 1.6L 4 Cylinder Engine Gasoline Fuel</td>\n",
       "      <td>A/T</td>\n",
       "      <td>Yellow</td>\n",
       "      <td>Gray</td>\n",
       "      <td>None reported</td>\n",
       "      <td>Yes</td>\n",
       "      <td>4200</td>\n",
       "    </tr>\n",
       "    <tr>\n",
       "      <th>1</th>\n",
       "      <td>1</td>\n",
       "      <td>Lincoln</td>\n",
       "      <td>LS V8</td>\n",
       "      <td>2002</td>\n",
       "      <td>143250</td>\n",
       "      <td>Gasoline</td>\n",
       "      <td>252.0HP 3.9L 8 Cylinder Engine Gasoline Fuel</td>\n",
       "      <td>A/T</td>\n",
       "      <td>Silver</td>\n",
       "      <td>Beige</td>\n",
       "      <td>At least 1 accident or damage reported</td>\n",
       "      <td>Yes</td>\n",
       "      <td>4999</td>\n",
       "    </tr>\n",
       "    <tr>\n",
       "      <th>2</th>\n",
       "      <td>2</td>\n",
       "      <td>Chevrolet</td>\n",
       "      <td>Silverado 2500 LT</td>\n",
       "      <td>2002</td>\n",
       "      <td>136731</td>\n",
       "      <td>E85 Flex Fuel</td>\n",
       "      <td>320.0HP 5.3L 8 Cylinder Engine Flex Fuel Capab...</td>\n",
       "      <td>A/T</td>\n",
       "      <td>Blue</td>\n",
       "      <td>Gray</td>\n",
       "      <td>None reported</td>\n",
       "      <td>Yes</td>\n",
       "      <td>13900</td>\n",
       "    </tr>\n",
       "    <tr>\n",
       "      <th>3</th>\n",
       "      <td>3</td>\n",
       "      <td>Genesis</td>\n",
       "      <td>G90 5.0 Ultimate</td>\n",
       "      <td>2017</td>\n",
       "      <td>19500</td>\n",
       "      <td>Gasoline</td>\n",
       "      <td>420.0HP 5.0L 8 Cylinder Engine Gasoline Fuel</td>\n",
       "      <td>Transmission w/Dual Shift Mode</td>\n",
       "      <td>Black</td>\n",
       "      <td>Black</td>\n",
       "      <td>None reported</td>\n",
       "      <td>Yes</td>\n",
       "      <td>45000</td>\n",
       "    </tr>\n",
       "    <tr>\n",
       "      <th>4</th>\n",
       "      <td>4</td>\n",
       "      <td>Mercedes-Benz</td>\n",
       "      <td>Metris Base</td>\n",
       "      <td>2021</td>\n",
       "      <td>7388</td>\n",
       "      <td>Gasoline</td>\n",
       "      <td>208.0HP 2.0L 4 Cylinder Engine Gasoline Fuel</td>\n",
       "      <td>7-Speed A/T</td>\n",
       "      <td>Black</td>\n",
       "      <td>Beige</td>\n",
       "      <td>None reported</td>\n",
       "      <td>Yes</td>\n",
       "      <td>97500</td>\n",
       "    </tr>\n",
       "  </tbody>\n",
       "</table>\n",
       "</div>"
      ],
      "text/plain": [
       "   id          brand              model  model_year  milage      fuel_type                                             engine                    transmission ext_col int_col                                accident clean_title  price\n",
       "0   0           MINI      Cooper S Base        2007  213000       Gasoline       172.0HP 1.6L 4 Cylinder Engine Gasoline Fuel                             A/T  Yellow    Gray                           None reported         Yes   4200\n",
       "1   1        Lincoln              LS V8        2002  143250       Gasoline       252.0HP 3.9L 8 Cylinder Engine Gasoline Fuel                             A/T  Silver   Beige  At least 1 accident or damage reported         Yes   4999\n",
       "2   2      Chevrolet  Silverado 2500 LT        2002  136731  E85 Flex Fuel  320.0HP 5.3L 8 Cylinder Engine Flex Fuel Capab...                             A/T    Blue    Gray                           None reported         Yes  13900\n",
       "3   3        Genesis   G90 5.0 Ultimate        2017   19500       Gasoline       420.0HP 5.0L 8 Cylinder Engine Gasoline Fuel  Transmission w/Dual Shift Mode   Black   Black                           None reported         Yes  45000\n",
       "4   4  Mercedes-Benz        Metris Base        2021    7388       Gasoline       208.0HP 2.0L 4 Cylinder Engine Gasoline Fuel                     7-Speed A/T   Black   Beige                           None reported         Yes  97500"
      ]
     },
     "execution_count": 35,
     "metadata": {},
     "output_type": "execute_result"
    }
   ],
   "source": [
    "# Setting paths\n",
    "current_dir = os.getcwd()  # Use os.getcwd() to get the current working directory\n",
    "parent_dir = os.path.dirname(current_dir)\n",
    "data_dir = os.path.join(parent_dir, \"data\")\n",
    "file_path = os.path.join(data_dir, \"\")\n",
    "\n",
    "car_csv_path = os.path.join(data_dir, \"train.csv\")\n",
    "#----------------------------------------------------------------------------------------------------\n",
    "# Creating dataframes\n",
    "df_car_price= pd.read_csv(car_csv_path)\n",
    "\n",
    "df_car_price.head()\n"
   ]
  },
  {
   "cell_type": "markdown",
   "id": "6b2a5ee7",
   "metadata": {},
   "source": [
    "### Vista general del dataset"
   ]
  },
  {
   "cell_type": "code",
   "execution_count": 36,
   "id": "0de63d2f",
   "metadata": {},
   "outputs": [
    {
     "name": "stdout",
     "output_type": "stream",
     "text": [
      "<class 'pandas.core.frame.DataFrame'>\n",
      "RangeIndex: 188533 entries, 0 to 188532\n",
      "Data columns (total 13 columns):\n",
      " #   Column        Non-Null Count   Dtype \n",
      "---  ------        --------------   ----- \n",
      " 0   id            188533 non-null  int64 \n",
      " 1   brand         188533 non-null  object\n",
      " 2   model         188533 non-null  object\n",
      " 3   model_year    188533 non-null  int64 \n",
      " 4   milage        188533 non-null  int64 \n",
      " 5   fuel_type     183450 non-null  object\n",
      " 6   engine        188533 non-null  object\n",
      " 7   transmission  188533 non-null  object\n",
      " 8   ext_col       188533 non-null  object\n",
      " 9   int_col       188533 non-null  object\n",
      " 10  accident      186081 non-null  object\n",
      " 11  clean_title   167114 non-null  object\n",
      " 12  price         188533 non-null  int64 \n",
      "dtypes: int64(4), object(9)\n",
      "memory usage: 18.7+ MB\n"
     ]
    }
   ],
   "source": [
    "df_car_price.info()"
   ]
  },
  {
   "cell_type": "markdown",
   "id": "144f0d64",
   "metadata": {},
   "source": [
    "# 3. Limpieza y Preprocesamiento\n",
    "\n",
    "### Limpieza de Nombres de Columnas y Valores Faltantes"
   ]
  },
  {
   "cell_type": "code",
   "execution_count": null,
   "id": "fcf762e3",
   "metadata": {},
   "outputs": [],
   "source": []
  },
  {
   "cell_type": "markdown",
   "id": "62acd824",
   "metadata": {},
   "source": [
    "### Detección de duplicados"
   ]
  },
  {
   "cell_type": "markdown",
   "id": "8f29ee24",
   "metadata": {},
   "source": []
  },
  {
   "cell_type": "markdown",
   "id": "2ef559c5",
   "metadata": {},
   "source": [
    "### Búsqueda de valores desconocidos"
   ]
  },
  {
   "cell_type": "code",
   "execution_count": null,
   "id": "68cb3769",
   "metadata": {},
   "outputs": [],
   "source": []
  },
  {
   "cell_type": "markdown",
   "id": "cd3dc1b3",
   "metadata": {},
   "source": [
    "## Análisis de valores faltantes\n",
    "\n",
    "En esta sección, analizamos los valores faltantes en el dataset para entender su distribución y decidir cómo manejarlos."
   ]
  },
  {
   "cell_type": "markdown",
   "id": "dc3475b6",
   "metadata": {},
   "source": [
    "#### 1.Porcentaje de valores NaN por columna \n",
    "El porcentaje de valores `NaN` por columna nos ayuda a identificar qué variables tienen datos faltantes y en qué proporción. Esto es útil para decidir si debemos eliminar columnas, imputar valores o manejar los datos faltantes de otra manera."
   ]
  },
  {
   "cell_type": "code",
   "execution_count": null,
   "id": "c329e933",
   "metadata": {},
   "outputs": [],
   "source": []
  },
  {
   "cell_type": "markdown",
   "id": "01055b56",
   "metadata": {},
   "source": [
    "### Porcentaje de NaN por país y por región"
   ]
  },
  {
   "cell_type": "code",
   "execution_count": null,
   "id": "685e450e",
   "metadata": {},
   "outputs": [],
   "source": []
  },
  {
   "cell_type": "markdown",
   "id": "db7552b1",
   "metadata": {},
   "source": [
    "### Visualización de valores faltantes\n",
    "\n",
    "En esta sección, utilizamos la biblioteca `missingno` para analizar los valores faltantes en el dataset. Estas visualizaciones nos ayudan a identificar patrones de valores faltantes y su relación con otras columnas."
   ]
  },
  {
   "cell_type": "markdown",
   "id": "41b58d7b",
   "metadata": {},
   "source": [
    "#### 1. Matriz de valores faltantes\n",
    "La matriz de valores faltantes muestra la presencia o ausencia de datos en cada columna. Esto es útil para identificar patrones de valores faltantes y su distribución en el dataset."
   ]
  },
  {
   "cell_type": "code",
   "execution_count": null,
   "id": "6f01a90f",
   "metadata": {},
   "outputs": [],
   "source": []
  },
  {
   "cell_type": "markdown",
   "id": "700d74b2",
   "metadata": {},
   "source": [
    "#### 2. Mapa de calor de correlación de nulidad\n",
    "El mapa de calor de correlación de nulidad muestra la relación entre las columnas en términos de valores faltantes. Si dos columnas tienen una alta correlación de nulidad, significa que tienden a tener valores faltantes en los mismos registros."
   ]
  },
  {
   "cell_type": "code",
   "execution_count": null,
   "id": "28d266b9",
   "metadata": {},
   "outputs": [],
   "source": []
  },
  {
   "cell_type": "markdown",
   "id": "ff0e753f",
   "metadata": {},
   "source": [
    "### Análisis de valores faltantes en `Gov_Tax` por año\n",
    "\n",
    "En esta sección, analizamos la frecuencia de valores faltantes (`NaN`) en la columna `Gov_Tax`, agrupados por año. Esto nos ayuda a identificar si los valores faltantes están concentrados en ciertos períodos de tiempo."
   ]
  },
  {
   "cell_type": "code",
   "execution_count": null,
   "id": "c16fe19f",
   "metadata": {},
   "outputs": [],
   "source": []
  },
  {
   "cell_type": "markdown",
   "id": "1c936bb8",
   "metadata": {},
   "source": [
    "#### Análisis de NaN en 'Education_Campaign' por año"
   ]
  },
  {
   "cell_type": "code",
   "execution_count": null,
   "id": "602acce8",
   "metadata": {},
   "outputs": [],
   "source": []
  },
  {
   "cell_type": "markdown",
   "id": "f3077008",
   "metadata": {},
   "source": [
    "### Análisis de valores faltantes"
   ]
  },
  {
   "cell_type": "code",
   "execution_count": null,
   "id": "4e446c59",
   "metadata": {},
   "outputs": [],
   "source": []
  },
  {
   "cell_type": "markdown",
   "id": "d20d8c3f",
   "metadata": {},
   "source": [
    "### Imputación de valores faltantes"
   ]
  },
  {
   "cell_type": "markdown",
   "id": "1faee984",
   "metadata": {},
   "source": [
    "Justificación: "
   ]
  },
  {
   "cell_type": "markdown",
   "id": "6bec1dce",
   "metadata": {},
   "source": [
    "### Eliminación de columnas redundantes. \n",
    "Investigar"
   ]
  },
  {
   "cell_type": "markdown",
   "id": "9b8b4775",
   "metadata": {},
   "source": [
    "#### Verificar la Redundancia con la Columna"
   ]
  },
  {
   "cell_type": "markdown",
   "id": "eae27783",
   "metadata": {},
   "source": [
    "#### Guardamos el nuevo csv"
   ]
  },
  {
   "cell_type": "code",
   "execution_count": null,
   "id": "86e6c895",
   "metadata": {},
   "outputs": [],
   "source": []
  },
  {
   "cell_type": "markdown",
   "id": "1d98ba05",
   "metadata": {},
   "source": [
    "# 4 Análisis exploratorio de datos"
   ]
  },
  {
   "cell_type": "markdown",
   "id": "279b4dce",
   "metadata": {},
   "source": [
    "### Distribución "
   ]
  },
  {
   "cell_type": "code",
   "execution_count": null,
   "id": "44cb49b1",
   "metadata": {},
   "outputs": [],
   "source": []
  },
  {
   "cell_type": "markdown",
   "id": "919cf8d9",
   "metadata": {},
   "source": [
    "### Mapa de calor de correlaciones\n",
    "\n",
    "En este análisis, generamos un mapa de calor para visualizar las correlaciones entre las variables numéricas del dataset."
   ]
  },
  {
   "cell_type": "code",
   "execution_count": null,
   "id": "88090a32",
   "metadata": {},
   "outputs": [],
   "source": []
  },
  {
   "cell_type": "markdown",
   "id": "a6c277e6",
   "metadata": {},
   "source": [
    "### Relación entre variables numéricas\n",
    "\n",
    "En este análisis, generamos un gráfico de pares para visualizar la relación entre todas las variables numéricas del dataset. Este gráfico nos permite identificar patrones, tendencias y posibles correlaciones entre las variables."
   ]
  },
  {
   "cell_type": "code",
   "execution_count": null,
   "id": "66861821",
   "metadata": {},
   "outputs": [],
   "source": []
  },
  {
   "cell_type": "markdown",
   "id": "86bb51be",
   "metadata": {},
   "source": [
    "### Tendencia"
   ]
  },
  {
   "cell_type": "code",
   "execution_count": null,
   "id": "f6ab6760",
   "metadata": {},
   "outputs": [],
   "source": []
  },
  {
   "cell_type": "markdown",
   "id": "5ea83170",
   "metadata": {},
   "source": [
    "### Relación"
   ]
  },
  {
   "cell_type": "code",
   "execution_count": null,
   "id": "1131c688",
   "metadata": {},
   "outputs": [],
   "source": []
  },
  {
   "cell_type": "markdown",
   "id": "61e49490",
   "metadata": {},
   "source": [
    "### Definición de la variable objetivo\n",
    "\n",
    "Para este análisis, hemos decidido que la variable objetivo será"
   ]
  },
  {
   "cell_type": "markdown",
   "id": "f85dbdd1",
   "metadata": {},
   "source": [
    "#### Justificación:\n",
    "1. Es una variable"
   ]
  },
  {
   "cell_type": "markdown",
   "id": "820818f5",
   "metadata": {},
   "source": [
    "#### Tratamiento de la variable objetivo:\n",
    "- Verificamos si hay valores faltantes en"
   ]
  },
  {
   "cell_type": "code",
   "execution_count": null,
   "id": "da096932",
   "metadata": {},
   "outputs": [],
   "source": []
  },
  {
   "cell_type": "markdown",
   "id": "894fee08",
   "metadata": {},
   "source": [
    "# 5 Análisis estadístico"
   ]
  },
  {
   "cell_type": "markdown",
   "id": "93ae3797",
   "metadata": {},
   "source": [
    " ## Pruebas paramétricas\n",
    " ###   pruebas de normalidad"
   ]
  },
  {
   "cell_type": "markdown",
   "id": "94f480a2",
   "metadata": {},
   "source": [
    "###   Kolmogorov-Simirnov"
   ]
  },
  {
   "cell_type": "code",
   "execution_count": null,
   "id": "6a1733f7",
   "metadata": {},
   "outputs": [],
   "source": []
  },
  {
   "cell_type": "markdown",
   "id": "441b3ad4",
   "metadata": {},
   "source": [
    "Hallazgos: "
   ]
  },
  {
   "cell_type": "markdown",
   "id": "8ce577ff",
   "metadata": {},
   "source": [
    " ### Shapiro-Wilk"
   ]
  },
  {
   "cell_type": "code",
   "execution_count": null,
   "id": "ce941aa1",
   "metadata": {},
   "outputs": [],
   "source": []
  },
  {
   "cell_type": "markdown",
   "id": "f192523c",
   "metadata": {},
   "source": [
    "Hallazgos: "
   ]
  },
  {
   "cell_type": "markdown",
   "id": "9ab47a1f",
   "metadata": {},
   "source": []
  },
  {
   "cell_type": "markdown",
   "id": "3380759a",
   "metadata": {},
   "source": [
    "#### Visualización de la distribución: Gráfico Q-Q"
   ]
  },
  {
   "cell_type": "code",
   "execution_count": null,
   "id": "00f6f12d",
   "metadata": {},
   "outputs": [],
   "source": []
  },
  {
   "cell_type": "markdown",
   "id": "3b77793c",
   "metadata": {},
   "source": [
    "### Prueba de Homegeneidad de varianza\n",
    "\n",
    "Nos hemos decantado por Levene porque la prueba de Bartlett es más sensible a desviaciones de normalidad en los datos."
   ]
  },
  {
   "cell_type": "markdown",
   "id": "77d57c7b",
   "metadata": {},
   "source": [
    "#### Levene"
   ]
  },
  {
   "cell_type": "code",
   "execution_count": null,
   "id": "bfbea2be",
   "metadata": {},
   "outputs": [],
   "source": []
  },
  {
   "cell_type": "markdown",
   "id": "7df063cc",
   "metadata": {},
   "source": [
    "#### Generamos un boxplot para comparar visualmente las distribuciones de Diabetes_Prevalence entre los países"
   ]
  },
  {
   "cell_type": "code",
   "execution_count": null,
   "id": "c1a8edc3",
   "metadata": {},
   "outputs": [],
   "source": []
  },
  {
   "cell_type": "markdown",
   "id": "2cb61c45",
   "metadata": {},
   "source": []
  },
  {
   "cell_type": "markdown",
   "id": "153da97c",
   "metadata": {},
   "source": [
    "#### Prueba de ANOVA:\n",
    "La prueba de ANOVA permitirá evaluar si las medias de diabetes_prevalence son significativamente diferentes entre los países"
   ]
  },
  {
   "cell_type": "markdown",
   "id": "6e5eadb8",
   "metadata": {},
   "source": []
  },
  {
   "cell_type": "markdown",
   "id": "bd0d4f7a",
   "metadata": {},
   "source": [
    "## 6. Análisis Univariante\n",
    "### 6.1 Estadísticas Descriptivas\n",
    "- Presentamos las estadísticas descriptivas básicas para entender las características generales de las variables numéricas en el dataset."
   ]
  },
  {
   "cell_type": "code",
   "execution_count": null,
   "id": "01cba78a",
   "metadata": {},
   "outputs": [],
   "source": []
  },
  {
   "cell_type": "markdown",
   "id": "e3aa7351",
   "metadata": {},
   "source": [
    "#### 6.2 Visualización de la Distribución\n"
   ]
  },
  {
   "cell_type": "markdown",
   "id": "45e45296",
   "metadata": {},
   "source": [
    "Hallazgos: "
   ]
  },
  {
   "cell_type": "markdown",
   "id": "b85bb985",
   "metadata": {},
   "source": [
    "### Conclusión:"
   ]
  }
 ],
 "metadata": {
  "kernelspec": {
   "display_name": ".venv",
   "language": "python",
   "name": "python3"
  },
  "language_info": {
   "codemirror_mode": {
    "name": "ipython",
    "version": 3
   },
   "file_extension": ".py",
   "mimetype": "text/x-python",
   "name": "python",
   "nbconvert_exporter": "python",
   "pygments_lexer": "ipython3",
   "version": "3.13.2"
  }
 },
 "nbformat": 4,
 "nbformat_minor": 5
}
